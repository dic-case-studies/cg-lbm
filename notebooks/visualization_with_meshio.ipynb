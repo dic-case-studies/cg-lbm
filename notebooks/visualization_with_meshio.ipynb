{
 "cells": [
  {
   "cell_type": "code",
   "execution_count": null,
   "id": "4d0771e1",
   "metadata": {
    "ExecuteTime": {
     "end_time": "2023-11-28T11:35:21.113360Z",
     "start_time": "2023-11-28T11:35:20.855903Z"
    }
   },
   "outputs": [],
   "source": [
    "import jax.numpy as jnp\n",
    "from einops import rearrange\n",
    "import numpy as np\n",
    "\n",
    "import meshio"
   ]
  },
  {
   "cell_type": "code",
   "execution_count": null,
   "id": "9bed71d8",
   "metadata": {
    "ExecuteTime": {
     "end_time": "2023-11-28T11:35:21.120288Z",
     "start_time": "2023-11-28T11:35:21.114337Z"
    }
   },
   "outputs": [],
   "source": [
    "from cglbm.lbm import grid_eq_dist, eq_dist_phase_field\n",
    "from cglbm.simulation import multi_step_simulation\n",
    "from cglbm.environment import State, System"
   ]
  },
  {
   "cell_type": "code",
   "execution_count": null,
   "id": "9537e868",
   "metadata": {
    "ExecuteTime": {
     "end_time": "2023-11-28T11:35:21.132615Z",
     "start_time": "2023-11-28T11:35:21.120978Z"
    }
   },
   "outputs": [],
   "source": [
    "# from jax import config\n",
    "\n",
    "# config.update(\"jax_debug_nans\", True)\n",
    "# config.update(\"jax_enable_x64\", True)"
   ]
  },
  {
   "cell_type": "markdown",
   "id": "ddfaf13a",
   "metadata": {},
   "source": [
    "# Simulation Code"
   ]
  },
  {
   "cell_type": "markdown",
   "id": "bf132476",
   "metadata": {},
   "source": [
    "## Density and Velocity update\n",
    "\n",
    "### Notes about the functions\n",
    "\n",
    "1. Every function is pure without side effects\n",
    "2. They work for a single grid point\n",
    "3. These functions will be vectorized to map over the entire grid\n"
   ]
  },
  {
   "cell_type": "markdown",
   "id": "dfb1ecf6",
   "metadata": {},
   "source": [
    "# Initial conditions\n"
   ]
  },
  {
   "cell_type": "code",
   "execution_count": null,
   "id": "cd63d907",
   "metadata": {
    "ExecuteTime": {
     "end_time": "2023-11-28T11:35:21.378014Z",
     "start_time": "2023-11-28T11:35:21.133686Z"
    },
    "code_folding": [
     36
    ]
   },
   "outputs": [],
   "source": [
    "from cglbm.test_utils import load_config\n",
    "\n",
    "system = load_config(\"params.ini\")"
   ]
  },
  {
   "cell_type": "markdown",
   "id": "4aa42e45",
   "metadata": {},
   "source": [
    "## Phase Field"
   ]
  },
  {
   "cell_type": "code",
   "execution_count": null,
   "id": "4a6ad0fd",
   "metadata": {
    "ExecuteTime": {
     "end_time": "2023-11-28T11:35:21.539709Z",
     "start_time": "2023-11-28T11:35:21.378866Z"
    }
   },
   "outputs": [],
   "source": [
    "LX = system.LX\n",
    "LY = system.LY\n",
    "grid_shape = (LX, LY)\n",
    "\n",
    "phase_field = jnp.zeros(grid_shape)\n",
    "\n",
    "center = (LX/2, LY/2)\n",
    "radius = LY/4\n",
    "X, Y = jnp.meshgrid(jnp.arange(LX), jnp.arange(LY))\n"
   ]
  },
  {
   "cell_type": "markdown",
   "id": "d764dbde-3cf8-4606-b42f-4963e107e1c8",
   "metadata": {},
   "source": [
    "### Initialising drop"
   ]
  },
  {
   "cell_type": "markdown",
   "id": "880ac513",
   "metadata": {
    "ExecuteTime": {
     "end_time": "2023-11-16T05:24:46.993395Z",
     "start_time": "2023-11-16T05:24:46.530853Z"
    }
   },
   "source": [
    "drop = (X - center[0]) ** 2 + (Y - center[1]) ** 2 < radius ** 2\n",
    "\n",
    "phase_field = phase_field.at[drop].set(1.0)"
   ]
  },
  {
   "cell_type": "markdown",
   "id": "81908325-763c-45a6-8a72-aeb2bc44cf47",
   "metadata": {},
   "source": [
    "### Initialising drop with tanh"
   ]
  },
  {
   "cell_type": "code",
   "execution_count": null,
   "id": "e94fa366",
   "metadata": {
    "ExecuteTime": {
     "end_time": "2023-11-28T11:35:21.887790Z",
     "start_time": "2023-11-28T11:35:21.540751Z"
    }
   },
   "outputs": [],
   "source": [
    "#### change to code when running\n",
    "distanceFromCenter = jnp.sqrt((X - center[0]) ** 2 + (Y - center[1]) ** 2)\n",
    "\n",
    "phase_field = 1.0 + jnp.tanh((distanceFromCenter - radius) * 2.0 / system.width)"
   ]
  },
  {
   "cell_type": "markdown",
   "id": "ec37302b-1e21-47f2-bc49-b947d985af73",
   "metadata": {},
   "source": [
    "### Initialising square drop"
   ]
  },
  {
   "cell_type": "markdown",
   "id": "5ce46265-2895-4901-ad1c-8c92348fa973",
   "metadata": {},
   "source": [
    "#### change to code when running\n",
    "side = min(LX, LY) / 2\n",
    "\n",
    "square = jnp.logical_and(abs(X - center[0]) < side/2, abs(Y - center[1]) < side / 2)\n",
    "phase_field = phase_field.at[square].set(1.0)"
   ]
  },
  {
   "cell_type": "markdown",
   "id": "93b3fbb8",
   "metadata": {},
   "source": [
    "## Density, Velocity, Pressure"
   ]
  },
  {
   "cell_type": "code",
   "execution_count": null,
   "id": "edf356d5",
   "metadata": {
    "ExecuteTime": {
     "end_time": "2023-11-28T11:35:22.177381Z",
     "start_time": "2023-11-28T11:35:21.888641Z"
    }
   },
   "outputs": [],
   "source": [
    "rho = system.density_one * phase_field + system.density_two * (1.0 - phase_field)\n",
    "pressure = jnp.full(grid_shape, system.ref_pressure)\n",
    "\n",
    "u_x = -system.uWallX + (Y - 2.5) * 2 * system.uWallX / (LY - 6)\n",
    "u_y = jnp.zeros(grid_shape)\n",
    "u = rearrange(jnp.stack([u_x, u_y]), \"x i j -> i j x\") #.transpose(1, 2, 0)"
   ]
  },
  {
   "cell_type": "markdown",
   "id": "529c1657",
   "metadata": {},
   "source": [
    "## Obstacle"
   ]
  },
  {
   "cell_type": "code",
   "execution_count": null,
   "id": "2cfb1e34",
   "metadata": {
    "ExecuteTime": {
     "end_time": "2023-11-28T11:35:23.507049Z",
     "start_time": "2023-11-28T11:35:22.178570Z"
    }
   },
   "outputs": [],
   "source": [
    "obs = jnp.zeros(grid_shape, dtype=bool)\n",
    "obs_velX = jnp.zeros(grid_shape)\n",
    "obs_velY = jnp.zeros(grid_shape)\n",
    "\n",
    "# cylinder = (X - center[0]) ** 2 + (Y - center[1]) ** 2 < radius ** 2\n",
    "# obs = obs.at[cylinder].set(1.0)\n",
    "# obs_velX = obs_velX.at[cylinder].set(system.uWallX)\n",
    "# obs_velY = obs_velY.at[cylinder].set(system.uWallX)\n",
    "\n",
    "\n",
    "\n",
    "# TODO: Find another way to set the obstacle\n",
    "for i in range(system.LX):\n",
    "    obs = obs.at[i, [0, 1, 2, -3, -2, -1]].set(True)\n",
    "    obs_velX = obs_velX.at[i, [-3, -2, -1]].set(system.uWallX)\n",
    "    obs_velX = obs_velX.at[i, [0, 1, 2]].set(-system.uWallX)\n",
    "\n",
    "obs_vel = rearrange(jnp.stack([obs_velX, obs_velY]), \"x i j -> i j x\")"
   ]
  },
  {
   "cell_type": "code",
   "execution_count": null,
   "id": "2b488e56",
   "metadata": {
    "ExecuteTime": {
     "end_time": "2023-11-28T11:35:23.696031Z",
     "start_time": "2023-11-28T11:35:23.507922Z"
    }
   },
   "outputs": [],
   "source": [
    "f = eq_dist_phase_field(system.cXYs, system.weights, phase_field, jnp.zeros((LX, LY, 2)))\n",
    "N = grid_eq_dist(system.cXYs, system.weights, system.phi_weights, pressure, jnp.zeros((LX, LY, 2)))"
   ]
  },
  {
   "cell_type": "code",
   "execution_count": null,
   "id": "0071dd35",
   "metadata": {
    "ExecuteTime": {
     "end_time": "2023-11-28T11:35:23.699044Z",
     "start_time": "2023-11-28T11:35:23.697496Z"
    },
    "code_folding": []
   },
   "outputs": [],
   "source": [
    "state = State(\n",
    "    rho=rho,\n",
    "    pressure=pressure,\n",
    "    u=u,\n",
    "    obs=obs,\n",
    "    obs_velocity=obs_vel,\n",
    "    f=f,\n",
    "    N=N\n",
    ")"
   ]
  },
  {
   "cell_type": "markdown",
   "id": "ccd6e3c5",
   "metadata": {},
   "source": [
    "# Simulation"
   ]
  },
  {
   "cell_type": "code",
   "execution_count": null,
   "id": "b2b3e6bd",
   "metadata": {
    "ExecuteTime": {
     "end_time": "2023-11-28T11:35:26.410142Z",
     "start_time": "2023-11-28T11:35:23.699739Z"
    }
   },
   "outputs": [],
   "source": [
    "nr_iter = 10\n",
    "nr_snapshots = 10\n",
    "final_step = multi_step_simulation(system, state, nr_iter, nr_snapshots)"
   ]
  },
  {
   "cell_type": "code",
   "execution_count": null,
   "id": "0503a8fd",
   "metadata": {
    "ExecuteTime": {
     "end_time": "2023-11-28T11:35:28.840862Z",
     "start_time": "2023-11-28T11:35:26.410947Z"
    }
   },
   "outputs": [],
   "source": [
    "# %timeit multi_step_simulation(system, state, 1000, 100)"
   ]
  },
  {
   "cell_type": "markdown",
   "id": "a4b0a528",
   "metadata": {
    "ExecuteTime": {
     "end_time": "2023-11-02T10:40:20.517751Z",
     "start_time": "2023-11-02T10:40:20.516221Z"
    }
   },
   "source": [
    "## Meshio"
   ]
  },
  {
   "cell_type": "markdown",
   "metadata": {},
   "source": [
    "### Serialization"
   ]
  },
  {
   "cell_type": "code",
   "execution_count": null,
   "metadata": {},
   "outputs": [],
   "source": [
    "def create_mesh(Nx, Ny):\n",
    "    \"\"\"\n",
    "    creates mesh filled with quad cells\n",
    "\n",
    "    Args:\n",
    "        Nx: int\n",
    "        Ny: int\n",
    "\n",
    "    Returns:\n",
    "        mesh: meshio.Mesh\n",
    "    \"\"\"\n",
    "    dim = 2\n",
    "    x = np.linspace(0, Nx, Nx+1)\n",
    "    y = np.linspace(0, Ny, Ny+1)\n",
    "\n",
    "    xv, yv = np.meshgrid(x, y)\n",
    "    points_xy = np.stack((xv, yv), axis=dim)\n",
    "    points = points_xy.reshape(-1, 2)\n",
    "\n",
    "    points_inds = np.arange(len(points))\n",
    "    points_inds_xy = points_inds.reshape(Nx + 1, Ny + 1)\n",
    "\n",
    "    top_left_points = points_inds_xy[:-1, :-1]\n",
    "    bottom_left_points = points_inds_xy[1:, :-1]\n",
    "    bottom_right_points = points_inds_xy[1:, 1:]\n",
    "    top_right_points = points_inds_xy[:-1, 1:]\n",
    "    quad_cells = np.stack((top_left_points, bottom_left_points, bottom_right_points, top_right_points),\n",
    "                        axis=dim)\n",
    "    quad_cells = quad_cells.reshape(-1,4)\n",
    "\n",
    "    return meshio.Mesh(points, [(\"quad\", quad_cells)])"
   ]
  },
  {
   "cell_type": "code",
   "execution_count": null,
   "metadata": {},
   "outputs": [],
   "source": [
    "mesh = create_mesh(LX, LY)"
   ]
  },
  {
   "cell_type": "code",
   "execution_count": null,
   "metadata": {},
   "outputs": [],
   "source": [
    "ux_final, uy_final = rearrange(final_step[\"u\"], \"t i y x -> x t i y\")#.transpose(3, 0, 1, 2)"
   ]
  },
  {
   "cell_type": "code",
   "execution_count": null,
   "metadata": {},
   "outputs": [],
   "source": [
    "# Creating vtk visualization (creates vkt file)\n",
    "\n",
    "# Storing 2nd frame in cell_data\n",
    "mesh.cell_data[\"ux\"] = ux_final[1,:,:].flatten()\n",
    "mesh.cell_data[\"uy\"] = uy_final[1,:,:].flatten()\n",
    "\n",
    "mesh.write(\"lbm.vtk\", file_format=\"vtk\")"
   ]
  },
  {
   "cell_type": "markdown",
   "metadata": {},
   "source": [
    "### Deserialization"
   ]
  },
  {
   "cell_type": "code",
   "execution_count": null,
   "metadata": {},
   "outputs": [],
   "source": [
    "# Assertion on data read\n",
    "\n",
    "mesh = meshio.read(\"lbm.vtk\", file_format=\"vtk\")\n",
    "\n",
    "cell_data_ux = mesh.cell_data[\"ux\"][0].reshape((LX, LY))\n",
    "cell_data_uy = mesh.cell_data[\"uy\"][0].reshape((LX, LY))\n",
    "\n",
    "# comparing only 2 frames, as there are NaNs after that\n",
    "print(np.allclose(cell_data_ux, ux_final[1,:,:]))\n",
    "print(np.allclose(cell_data_uy, uy_final[1,:,:]))"
   ]
  },
  {
   "cell_type": "markdown",
   "metadata": {},
   "source": [
    "### Time-series Serialization"
   ]
  },
  {
   "cell_type": "code",
   "execution_count": null,
   "metadata": {},
   "outputs": [],
   "source": [
    "# Creating time-series visualization (creates xdmf file)\n",
    "\n",
    "with meshio.xdmf.TimeSeriesWriter(\"lbm.xdmf\") as writer:\n",
    "    writer.write_points_cells(mesh.points, mesh.cells)\n",
    "    for t in (range(len(ux_final))):\n",
    "        writer.write_data(t, cell_data={\"ux\": ux_final[t], \"uy\": uy_final[t]})"
   ]
  },
  {
   "cell_type": "markdown",
   "metadata": {},
   "source": [
    "### Time-series Deserialization"
   ]
  },
  {
   "cell_type": "code",
   "execution_count": null,
   "metadata": {},
   "outputs": [],
   "source": [
    "# Assertion on data read\n",
    "\n",
    "cell_data_ux = []\n",
    "cell_data_uy = []\n",
    "with meshio.xdmf.TimeSeriesReader(\"lbm.xdmf\") as reader:\n",
    "    points, cells = reader.read_points_cells()\n",
    "    for k in range(reader.num_steps):\n",
    "        t, point_data, cell_data = reader.read_data(k)\n",
    "        cell_data_ux.append(cell_data[\"ux\"])\n",
    "        cell_data_uy.append(cell_data[\"uy\"])\n",
    "\n",
    "cell_data_ux = np.stack(cell_data_ux).reshape(nr_snapshots+1, LX, LY)\n",
    "cell_data_uy = np.stack(cell_data_uy).reshape(nr_snapshots+1, LX, LY)\n",
    "# comparing only 2 frames, as there are NaNs after that\n",
    "print(np.allclose(ux_final[0:2], cell_data_ux[0:2]))\n",
    "print(np.allclose(uy_final[0:2], cell_data_uy[0:2]))\n"
   ]
  },
  {
   "cell_type": "code",
   "execution_count": null,
   "metadata": {},
   "outputs": [],
   "source": []
  }
 ],
 "metadata": {
  "kernelspec": {
   "display_name": "Python 3 (ipykernel)",
   "language": "python",
   "name": "python3"
  },
  "language_info": {
   "codemirror_mode": {
    "name": "ipython",
    "version": 3
   },
   "file_extension": ".py",
   "mimetype": "text/x-python",
   "name": "python",
   "nbconvert_exporter": "python",
   "pygments_lexer": "ipython3",
   "version": "3.11.5"
  },
  "varInspector": {
   "cols": {
    "lenName": 16,
    "lenType": 16,
    "lenVar": 40
   },
   "kernels_config": {
    "python": {
     "delete_cmd_postfix": "",
     "delete_cmd_prefix": "del ",
     "library": "var_list.py",
     "varRefreshCmd": "print(var_dic_list())"
    },
    "r": {
     "delete_cmd_postfix": ") ",
     "delete_cmd_prefix": "rm(",
     "library": "var_list.r",
     "varRefreshCmd": "cat(var_dic_list()) "
    }
   },
   "types_to_exclude": [
    "module",
    "function",
    "builtin_function_or_method",
    "instance",
    "_Feature"
   ],
   "window_display": false
  }
 },
 "nbformat": 4,
 "nbformat_minor": 5
}
