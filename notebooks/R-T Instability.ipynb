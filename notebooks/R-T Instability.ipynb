{
 "cells": [
  {
   "cell_type": "markdown",
   "id": "4458eefa",
   "metadata": {},
   "source": [
    "# Rayleigh–Taylor instability\n",
    "\n",
    "In this setup, we simulate Rayleigh–Taylor instability"
   ]
  },
  {
   "cell_type": "markdown",
   "id": "331bdaa7",
   "metadata": {},
   "source": [
    "## Installing dependencies and Importing modules"
   ]
  },
  {
   "cell_type": "code",
   "execution_count": null,
   "id": "8ec9a0ae",
   "metadata": {},
   "outputs": [],
   "source": [
    "# Installing dependencies for this notebook\n",
    "%pip install einops moviepy proglog scikit-image matplotlib"
   ]
  },
  {
   "cell_type": "code",
   "execution_count": null,
   "id": "4d0771e1",
   "metadata": {
    "ExecuteTime": {
     "end_time": "2023-11-28T11:35:21.113360Z",
     "start_time": "2023-11-28T11:35:20.855903Z"
    }
   },
   "outputs": [],
   "source": [
    "import jax.numpy as jnp\n",
    "from einops import rearrange\n",
    "import numpy as np\n",
    "\n",
    "import matplotlib.pyplot as plt\n",
    "from mpl_toolkits.axes_grid1 import make_axes_locatable"
   ]
  },
  {
   "cell_type": "code",
   "execution_count": null,
   "id": "9bed71d8",
   "metadata": {
    "ExecuteTime": {
     "end_time": "2023-11-28T11:35:21.120288Z",
     "start_time": "2023-11-28T11:35:21.114337Z"
    }
   },
   "outputs": [],
   "source": [
    "from cglbm.lbm import grid_eq_dist\n",
    "from cglbm.simulation import multi_step_simulation\n",
    "from cglbm.environment import State, System"
   ]
  },
  {
   "cell_type": "code",
   "execution_count": null,
   "id": "9537e868",
   "metadata": {
    "ExecuteTime": {
     "end_time": "2023-11-28T11:35:21.132615Z",
     "start_time": "2023-11-28T11:35:21.120978Z"
    }
   },
   "outputs": [],
   "source": [
    "# from jax import config\n",
    "\n",
    "# config.update(\"jax_debug_nans\", True)\n",
    "# config.update(\"jax_enable_x64\", True)\n",
    "# config.update(\"jax_platforms\", \"cpu\")"
   ]
  },
  {
   "cell_type": "markdown",
   "id": "ddfaf13a",
   "metadata": {},
   "source": [
    "## Simulation Setup"
   ]
  },
  {
   "cell_type": "markdown",
   "id": "dfb1ecf6",
   "metadata": {},
   "source": [
    "### Loading pre-defined environment"
   ]
  },
  {
   "cell_type": "code",
   "execution_count": null,
   "id": "cd63d907",
   "metadata": {
    "ExecuteTime": {
     "end_time": "2023-11-28T11:35:21.378014Z",
     "start_time": "2023-11-28T11:35:21.133686Z"
    },
    "code_folding": [
     36
    ]
   },
   "outputs": [],
   "source": [
    "from cglbm.config import load_sandbox_config\n",
    "\n",
    "system = load_sandbox_config(\"RT-instability-config.ini\")"
   ]
  },
  {
   "cell_type": "code",
   "execution_count": null,
   "id": "a6c37224",
   "metadata": {},
   "outputs": [],
   "source": [
    "# to change a system parameter, use system.replace\n",
    "# system = system.replace(LX=250, LY=1500)"
   ]
  },
  {
   "cell_type": "markdown",
   "id": "4aa42e45",
   "metadata": {},
   "source": [
    "### Initial conditions of simulation"
   ]
  },
  {
   "cell_type": "code",
   "execution_count": null,
   "id": "4a6ad0fd",
   "metadata": {
    "ExecuteTime": {
     "end_time": "2023-11-28T11:35:21.539709Z",
     "start_time": "2023-11-28T11:35:21.378866Z"
    }
   },
   "outputs": [],
   "source": [
    "LX = system.LX\n",
    "LY = system.LY\n",
    "X, Y = jnp.meshgrid(jnp.arange(LX), jnp.arange(LY))\n",
    "\n",
    "grid_shape = X.shape # this is taken from meshgrid, can also be Y.shape\n",
    "phase_field = jnp.zeros(grid_shape)\n",
    "center = (grid_shape[0]//2, grid_shape[1]//2)\n",
    "\n",
    "radius = system.drop_radius"
   ]
  },
  {
   "cell_type": "markdown",
   "id": "d764dbde-3cf8-4606-b42f-4963e107e1c8",
   "metadata": {},
   "source": [
    "### Initializing drop"
   ]
  },
  {
   "cell_type": "code",
   "execution_count": null,
   "id": "e94fa366",
   "metadata": {
    "ExecuteTime": {
     "end_time": "2023-11-28T11:35:21.887790Z",
     "start_time": "2023-11-28T11:35:21.540751Z"
    }
   },
   "outputs": [],
   "source": [
    "coordinates = rearrange(jnp.stack([Y,X]), \"v y x -> y x v\")\n",
    "\n",
    "dist = 2*(LX-2) + 0.1*(LX-2)* jnp.cos(2*jnp.pi*(LY - X)/(LX-2))\n",
    "\n",
    "phase_field = jnp.where(dist < Y , jnp.full(grid_shape, 1.0), jnp.zeros(grid_shape))\n",
    "# phase_field = 0.5 * (1.0 + jnp.tanh((dist - Y) * 2.0 / 20.0))"
   ]
  },
  {
   "cell_type": "markdown",
   "id": "93b3fbb8",
   "metadata": {},
   "source": [
    "### Initializing Density, Velocity, Pressure"
   ]
  },
  {
   "cell_type": "code",
   "execution_count": null,
   "id": "edf356d5",
   "metadata": {
    "ExecuteTime": {
     "end_time": "2023-11-28T11:35:22.177381Z",
     "start_time": "2023-11-28T11:35:21.888641Z"
    }
   },
   "outputs": [],
   "source": [
    "rho = system.density_one * phase_field + system.density_two * (1.0 - phase_field)\n",
    "pressure = jnp.full(grid_shape, system.ref_pressure)\n",
    "\n",
    "u_x = jnp.zeros(grid_shape)\n",
    "u_y = jnp.zeros(grid_shape)\n",
    "u = rearrange(jnp.stack([u_x, u_y]), \"x i j -> i j x\")"
   ]
  },
  {
   "cell_type": "markdown",
   "id": "529c1657",
   "metadata": {},
   "source": [
    "### Defining Obstacle"
   ]
  },
  {
   "cell_type": "code",
   "execution_count": null,
   "id": "2cfb1e34",
   "metadata": {
    "ExecuteTime": {
     "end_time": "2023-11-28T11:35:23.507049Z",
     "start_time": "2023-11-28T11:35:22.178570Z"
    }
   },
   "outputs": [],
   "source": [
    "obs = jnp.zeros(grid_shape, dtype=bool)\n",
    "obs_velX = jnp.zeros(grid_shape)\n",
    "obs_velY = jnp.zeros(grid_shape)\n",
    "\n",
    "obs = obs.at[[0, 1, -2, -1], :].set(True)\n",
    "\n",
    "obs_vel = rearrange(jnp.stack([obs_velX, obs_velY]), \"x i j -> i j x\")\n",
    "\n",
    "obs_indices = jnp.argwhere(obs)"
   ]
  },
  {
   "cell_type": "markdown",
   "id": "dc728e18",
   "metadata": {},
   "source": [
    "### Plotting obstacle and phase_field"
   ]
  },
  {
   "cell_type": "code",
   "execution_count": null,
   "id": "f226096a",
   "metadata": {},
   "outputs": [],
   "source": [
    "fig, axs = plt.subplots(1, 2, figsize=(6, 4))\n",
    "\n",
    "im0 = axs[0].imshow(phase_field, cmap='RdBu')\n",
    "axs[0].set_title(\"Initial phase field\")\n",
    "\n",
    "divider = make_axes_locatable(axs[0])\n",
    "cax0 = divider.append_axes('right', size='5%', pad=0.05)\n",
    "fig.colorbar(im0, cax=cax0, orientation='vertical')\n",
    "\n",
    "im1 = axs[1].imshow(obs, cmap='binary')\n",
    "axs[1].set_title(\"Obstacles\")\n",
    "\n",
    "divider = make_axes_locatable(axs[1])\n",
    "cax1 = divider.append_axes('right', size='5%', pad=0.05)\n",
    "fig.colorbar(im1, cax=cax1, orientation='vertical')"
   ]
  },
  {
   "cell_type": "markdown",
   "id": "af16b38d",
   "metadata": {},
   "source": [
    "### Initialising f and N"
   ]
  },
  {
   "cell_type": "code",
   "execution_count": null,
   "id": "2b488e56",
   "metadata": {
    "ExecuteTime": {
     "end_time": "2023-11-28T11:35:23.696031Z",
     "start_time": "2023-11-28T11:35:23.507922Z"
    }
   },
   "outputs": [],
   "source": [
    "N = grid_eq_dist(system.cXYs, system.weights, system.phi_weights, pressure, jnp.zeros(coordinates.shape))\n",
    "f = jnp.einsum(\"ij,kij->kij\",phase_field,N)"
   ]
  },
  {
   "cell_type": "markdown",
   "id": "006aa0b2",
   "metadata": {},
   "source": [
    "### Initialising state of the simulation"
   ]
  },
  {
   "cell_type": "code",
   "execution_count": null,
   "id": "0071dd35",
   "metadata": {
    "ExecuteTime": {
     "end_time": "2023-11-28T11:35:23.699044Z",
     "start_time": "2023-11-28T11:35:23.697496Z"
    },
    "code_folding": []
   },
   "outputs": [],
   "source": [
    "state = State(\n",
    "    rho=rho,\n",
    "    pressure=pressure,\n",
    "    u=u,\n",
    "    phase_field=phase_field,\n",
    "    obs=obs,\n",
    "    obs_velocity=obs_vel,\n",
    "    obs_indices=obs_indices,\n",
    "    f=f,\n",
    "    N=N\n",
    ")"
   ]
  },
  {
   "cell_type": "markdown",
   "id": "0800f2d1",
   "metadata": {},
   "source": [
    "## Running the Simulation"
   ]
  },
  {
   "cell_type": "code",
   "execution_count": null,
   "id": "b2b3e6bd",
   "metadata": {
    "ExecuteTime": {
     "end_time": "2023-11-28T11:35:26.410142Z",
     "start_time": "2023-11-28T11:35:23.699739Z"
    }
   },
   "outputs": [],
   "source": [
    "nr_iter = 1000\n",
    "nr_snapshots = 10\n",
    "final_results, _ = multi_step_simulation(system, state, nr_iter, nr_snapshots)"
   ]
  },
  {
   "cell_type": "markdown",
   "id": "fd4dde73",
   "metadata": {},
   "source": [
    "### Benchmark"
   ]
  },
  {
   "cell_type": "code",
   "execution_count": null,
   "id": "0503a8fd",
   "metadata": {
    "ExecuteTime": {
     "end_time": "2023-11-28T11:35:28.840862Z",
     "start_time": "2023-11-28T11:35:26.410947Z"
    }
   },
   "outputs": [],
   "source": [
    "# %timeit multi_step_simulation(system, state, 1000, 100)"
   ]
  },
  {
   "cell_type": "markdown",
   "id": "2f6fa973",
   "metadata": {},
   "source": [
    "## Visualizations"
   ]
  },
  {
   "cell_type": "markdown",
   "id": "2ca46eee",
   "metadata": {},
   "source": [
    "### Getting data from all iterations"
   ]
  },
  {
   "cell_type": "code",
   "execution_count": null,
   "id": "8a1e2c1b",
   "metadata": {},
   "outputs": [],
   "source": [
    "ux_final, uy_final = rearrange(final_results[\"u\"], \"t i j x -> x t i j\")\n",
    "# ux_final[:,obstacle] = 0\n",
    "# uy_final[:,obstacle] = 0\n",
    "phase_field_final = final_results[\"phase_field\"]"
   ]
  },
  {
   "cell_type": "markdown",
   "id": "b254b91b",
   "metadata": {},
   "source": [
    "### Calculating vorticity"
   ]
  },
  {
   "cell_type": "code",
   "execution_count": null,
   "id": "3ef0685f",
   "metadata": {},
   "outputs": [],
   "source": [
    "vorticity = (\n",
    "    np.roll(ux_final, -1, axis=1) - np.roll(ux_final, 1, axis=1)\n",
    ") - (\n",
    "    np.roll(uy_final, -1, axis=2) - np.roll(uy_final, 1, axis=2))"
   ]
  },
  {
   "cell_type": "markdown",
   "id": "a60bf84b",
   "metadata": {},
   "source": [
    "### Phase field visualisation"
   ]
  },
  {
   "cell_type": "code",
   "execution_count": null,
   "id": "8693bc3f",
   "metadata": {},
   "outputs": [],
   "source": [
    "# set iteration appropriately\n",
    "iteration = 10\n",
    "\n",
    "plt.imshow(phase_field_final[iteration,:,:])\n",
    "plt.colorbar()"
   ]
  },
  {
   "cell_type": "markdown",
   "id": "418f0778",
   "metadata": {},
   "source": [
    "### Stream Plot"
   ]
  },
  {
   "cell_type": "markdown",
   "id": "c0554839",
   "metadata": {},
   "source": [
    "#### One per iteration"
   ]
  },
  {
   "cell_type": "code",
   "execution_count": null,
   "id": "77fe88a0",
   "metadata": {},
   "outputs": [],
   "source": [
    "iteration = 1\n",
    "X, Y = np.meshgrid(jnp.arange(LX), jnp.arange(LY))\n",
    "plt.streamplot(X, Y, ux_final[iteration], uy_final[iteration])"
   ]
  },
  {
   "cell_type": "markdown",
   "id": "508a47f0",
   "metadata": {},
   "source": [
    "#### Plotting multiple iterations"
   ]
  },
  {
   "cell_type": "code",
   "execution_count": null,
   "id": "48cef7f7",
   "metadata": {},
   "outputs": [],
   "source": [
    "n = 3\n",
    "fig, axes = plt.subplots(n, 1, figsize=(6, 6))\n",
    "\n",
    "for i in range(min(n, len(ux_final))):\n",
    "    axes[i].streamplot(X, Y, ux_final[i], uy_final[i])\n"
   ]
  },
  {
   "cell_type": "markdown",
   "id": "31154352",
   "metadata": {},
   "source": [
    "### Quiver Plot"
   ]
  },
  {
   "cell_type": "code",
   "execution_count": null,
   "id": "14fe16c4",
   "metadata": {},
   "outputs": [],
   "source": [
    "szx = LX\n",
    "szy = LY\n",
    "timestep = 1\n",
    "\n",
    "# Plotting all the arrows will be messy so we are sampling one in every 16 points\n",
    "skipx = 4\n",
    "skipy = 4\n",
    "x = np.arange(0,szx-1,skipx)\n",
    "y = np.arange(0,szy-1,skipy)\n",
    "\n",
    "xx, yy = jnp.meshgrid(x, y)\n",
    "\n",
    "u = ux_final[timestep][:szy:skipy,:szx:skipx]\n",
    "v = uy_final[timestep][:szy:skipy,:szx:skipx]\n",
    "\n",
    "# disabled as it may fail if grid size is odd\n",
    "# plt.quiver(xx, yy, u, v)"
   ]
  },
  {
   "cell_type": "markdown",
   "id": "deec5d61",
   "metadata": {},
   "source": [
    "### Vorticity Plot"
   ]
  },
  {
   "cell_type": "markdown",
   "id": "d8a5eacf",
   "metadata": {},
   "source": [
    "#### One per iteration"
   ]
  },
  {
   "cell_type": "code",
   "execution_count": null,
   "id": "e66d1caf",
   "metadata": {},
   "outputs": [],
   "source": [
    "iteration = 1\n",
    "\n",
    "plt.imshow(vorticity[iteration], cmap='RdBu')\n",
    "plt.colorbar()\n",
    "plt.clim(-.0001, .0001)"
   ]
  },
  {
   "cell_type": "markdown",
   "id": "e4080d95",
   "metadata": {},
   "source": [
    "#### Plotting multiple iterations"
   ]
  },
  {
   "cell_type": "code",
   "execution_count": null,
   "id": "0ef796e9",
   "metadata": {},
   "outputs": [],
   "source": [
    "n = 3\n",
    "fig, axes = plt.subplots(n, 1, figsize=(3, 12))\n",
    "\n",
    "for i in range(min(n, len(vorticity))):\n",
    "    axes[i].imshow(vorticity[i+2], cmap='RdBu', vmin=-0.0001, vmax=0.0001)"
   ]
  },
  {
   "cell_type": "markdown",
   "id": "9b0f173d",
   "metadata": {},
   "source": [
    "## Creating video out of snapshots"
   ]
  },
  {
   "cell_type": "code",
   "execution_count": null,
   "id": "ea421c63",
   "metadata": {},
   "outputs": [],
   "source": [
    "import matplotlib.cm\n",
    "import matplotlib.colors\n",
    "from PIL import Image\n",
    "\n",
    "def make_images(data, cmap='RdBu', vmax=None):\n",
    "    images = []\n",
    "    for frame in data:\n",
    "        if vmax is None:\n",
    "            this_vmax = np.max(abs(frame))\n",
    "        else:\n",
    "            this_vmax = vmax\n",
    "        norm = matplotlib.colors.Normalize(vmin=-this_vmax, vmax=this_vmax)\n",
    "        mappable = matplotlib.cm.ScalarMappable(norm=norm, cmap=cmap)\n",
    "        rgba = mappable.to_rgba(frame, bytes=True)\n",
    "        image = Image.fromarray(rgba, mode='RGBA')\n",
    "        images.append(image)\n",
    "    return images\n",
    "\n",
    "def save_movie(images, path, duration=100, loop=0, **kwargs):\n",
    "    images[0].save(path, save_all=True, append_images=images[1:],\n",
    "                 duration=duration, loop=loop, **kwargs)\n"
   ]
  },
  {
   "cell_type": "code",
   "execution_count": null,
   "id": "f65c4ec0",
   "metadata": {},
   "outputs": [],
   "source": [
    "from functools import partial\n",
    "import proglog\n",
    "from moviepy.editor import ImageSequenceClip\n",
    "\n",
    "# Show Movie\n",
    "proglog.default_bar_logger = partial(proglog.default_bar_logger, None)"
   ]
  },
  {
   "cell_type": "code",
   "execution_count": null,
   "id": "10ca9e8c",
   "metadata": {},
   "outputs": [],
   "source": [
    "# Video from vorticity plots\n",
    "vorticity_images = make_images(vorticity)\n",
    "ImageSequenceClip([np.array(im) for im in vorticity_images], fps=10).ipython_display()"
   ]
  },
  {
   "cell_type": "code",
   "execution_count": null,
   "id": "97eaaeb1",
   "metadata": {},
   "outputs": [],
   "source": [
    "# save_movie(vorticity_images,'vorticity.gif', duration=[2000]+[200]*(len(vorticity_images)-2)+[2000])"
   ]
  },
  {
   "cell_type": "code",
   "execution_count": null,
   "id": "8d19480f",
   "metadata": {},
   "outputs": [],
   "source": [
    "# Video from phase field \n",
    "phase_images = make_images(phase_field_final, cmap='RdBu')\n",
    "ImageSequenceClip([np.array(im) for im in phase_images], fps=10).ipython_display()"
   ]
  },
  {
   "cell_type": "code",
   "execution_count": null,
   "id": "0f324a69",
   "metadata": {},
   "outputs": [],
   "source": [
    "# save_movie(phase_images,'phase_field.gif', duration=[2000]+[200]*(len(phase_images)-2)+[2000])"
   ]
  }
 ],
 "metadata": {
  "kernelspec": {
   "display_name": "Python 3 (ipykernel)",
   "language": "python",
   "name": "python3"
  },
  "language_info": {
   "codemirror_mode": {
    "name": "ipython",
    "version": 3
   },
   "file_extension": ".py",
   "mimetype": "text/x-python",
   "name": "python",
   "nbconvert_exporter": "python",
   "pygments_lexer": "ipython3",
   "version": "3.11.5"
  },
  "varInspector": {
   "cols": {
    "lenName": 16,
    "lenType": 16,
    "lenVar": 40
   },
   "kernels_config": {
    "python": {
     "delete_cmd_postfix": "",
     "delete_cmd_prefix": "del ",
     "library": "var_list.py",
     "varRefreshCmd": "print(var_dic_list())"
    },
    "r": {
     "delete_cmd_postfix": ") ",
     "delete_cmd_prefix": "rm(",
     "library": "var_list.r",
     "varRefreshCmd": "cat(var_dic_list()) "
    }
   },
   "types_to_exclude": [
    "module",
    "function",
    "builtin_function_or_method",
    "instance",
    "_Feature"
   ],
   "window_display": false
  }
 },
 "nbformat": 4,
 "nbformat_minor": 5
}
