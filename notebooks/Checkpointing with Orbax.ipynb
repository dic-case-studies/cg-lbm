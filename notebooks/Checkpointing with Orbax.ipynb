{
 "cells": [
  {
   "cell_type": "markdown",
   "id": "2c34b087",
   "metadata": {},
   "source": [
    "# Checkpointing with orbax\n",
    "\n",
    "Demo of how checkpoints of the states are generated using [Orbax](https://orbax.readthedocs.io/en/latest/orbax_checkpoint_101.html)"
   ]
  },
  {
   "cell_type": "markdown",
   "id": "43278005",
   "metadata": {},
   "source": [
    "## Importing modules"
   ]
  },
  {
   "cell_type": "code",
   "execution_count": null,
   "id": "4d0771e1",
   "metadata": {
    "ExecuteTime": {
     "end_time": "2023-11-28T11:35:21.113360Z",
     "start_time": "2023-11-28T11:35:20.855903Z"
    }
   },
   "outputs": [],
   "source": [
    "import jax.numpy as jnp\n",
    "from einops import rearrange\n",
    "import numpy as np"
   ]
  },
  {
   "cell_type": "code",
   "execution_count": null,
   "id": "9bed71d8",
   "metadata": {
    "ExecuteTime": {
     "end_time": "2023-11-28T11:35:21.120288Z",
     "start_time": "2023-11-28T11:35:21.114337Z"
    }
   },
   "outputs": [],
   "source": [
    "from cglbm.lbm import grid_eq_dist, eq_dist_phase_field\n",
    "from cglbm.simulation import multi_step_simulation_with_checkpointing\n",
    "from cglbm.environment import State\n",
    "from cglbm.utils import validate_sim_params, restore_state"
   ]
  },
  {
   "cell_type": "markdown",
   "id": "01648090",
   "metadata": {},
   "source": [
    "## Simulation Setup"
   ]
  },
  {
   "cell_type": "markdown",
   "id": "6770df11",
   "metadata": {},
   "source": [
    "### Loading pre-defined environment"
   ]
  },
  {
   "cell_type": "code",
   "execution_count": null,
   "id": "43cc50ab",
   "metadata": {},
   "outputs": [],
   "source": [
    "from cglbm.config import load_sandbox_config\n",
    "\n",
    "system = load_sandbox_config(\"stationary-drop-config.ini\")"
   ]
  },
  {
   "cell_type": "markdown",
   "id": "83428789",
   "metadata": {},
   "source": [
    "### Initial conditions of simulation"
   ]
  },
  {
   "cell_type": "code",
   "execution_count": null,
   "id": "c9f2dcd6",
   "metadata": {},
   "outputs": [],
   "source": [
    "LX = system.LX\n",
    "LY = system.LY\n",
    "X, Y = jnp.meshgrid(jnp.arange(LX), jnp.arange(LY))\n",
    "\n",
    "grid_shape = X.shape # this is taken from meshgrid, can also be Y.shape\n",
    "phase_field = jnp.zeros(grid_shape)\n",
    "center = (grid_shape[0]//2, grid_shape[1]//2)\n",
    "\n",
    "radius = system.drop_radius"
   ]
  },
  {
   "cell_type": "markdown",
   "id": "75f5c837",
   "metadata": {},
   "source": [
    "### Initializing drop"
   ]
  },
  {
   "cell_type": "code",
   "execution_count": null,
   "id": "48596c42",
   "metadata": {},
   "outputs": [],
   "source": [
    "coordinates = rearrange(jnp.stack([Y,X]), \"v y x -> y x v\")\n",
    "distanceFromCenter = jnp.sqrt(jnp.sum(jnp.square(coordinates - jnp.array(center)), axis=2))\n",
    "\n",
    "phase_field = 0.5 * (1.0 + jnp.tanh((distanceFromCenter - radius) * 2.0 / system.width))"
   ]
  },
  {
   "cell_type": "markdown",
   "id": "cae0c04a",
   "metadata": {},
   "source": [
    "### Initializing Density, Velocity, Pressure"
   ]
  },
  {
   "cell_type": "code",
   "execution_count": null,
   "id": "7bfcbe7e",
   "metadata": {},
   "outputs": [],
   "source": [
    "rho = system.density_one * phase_field + system.density_two * (1.0 - phase_field)\n",
    "pressure = jnp.full(grid_shape, system.ref_pressure)\n",
    "\n",
    "u_x = -system.uWallX + (Y - 2.5) * 2 * system.uWallX / (LY - 6)\n",
    "u_y = jnp.zeros(grid_shape)\n",
    "u = rearrange(jnp.stack([u_x, u_y]), \"x i j -> i j x\")"
   ]
  },
  {
   "cell_type": "markdown",
   "id": "c2ce103e",
   "metadata": {},
   "source": [
    "### Defining Obstacle"
   ]
  },
  {
   "cell_type": "code",
   "execution_count": null,
   "id": "bdd8d44f",
   "metadata": {},
   "outputs": [],
   "source": [
    "obs = jnp.zeros(grid_shape, dtype=bool)\n",
    "obs_velX = jnp.zeros(grid_shape)\n",
    "obs_velY = jnp.zeros(grid_shape)\n",
    "\n",
    "obs = obs.at[:, [0, 1, -2, -1]].set(True)\n",
    "obs_velX = obs_velX.at[:, [-2, -1]].set(system.uWallX)\n",
    "obs_velX = obs_velX.at[:, [0, 1]].set(-system.uWallX)\n",
    "\n",
    "obs_vel = rearrange(jnp.stack([obs_velX, obs_velY]), \"x i j -> i j x\")"
   ]
  },
  {
   "cell_type": "markdown",
   "id": "d8c1b64d",
   "metadata": {},
   "source": [
    "### Initialising f and N"
   ]
  },
  {
   "cell_type": "code",
   "execution_count": null,
   "id": "b4cd7132",
   "metadata": {},
   "outputs": [],
   "source": [
    "f = eq_dist_phase_field(system.cXYs, system.weights, phase_field, jnp.zeros(coordinates.shape))\n",
    "N = grid_eq_dist(system.cXYs, system.weights, system.phi_weights, pressure, jnp.zeros(coordinates.shape))"
   ]
  },
  {
   "cell_type": "markdown",
   "id": "79f39484",
   "metadata": {},
   "source": [
    "### Initialising state of the simulation"
   ]
  },
  {
   "cell_type": "code",
   "execution_count": null,
   "id": "477ba41f",
   "metadata": {},
   "outputs": [],
   "source": [
    "state = State(\n",
    "    rho=rho,\n",
    "    pressure=pressure,\n",
    "    u=u,\n",
    "    phase_field=phase_field,\n",
    "    obs=obs,\n",
    "    obs_velocity=obs_vel,\n",
    "    f=f,\n",
    "    N=N\n",
    ")"
   ]
  },
  {
   "cell_type": "markdown",
   "id": "e592442a",
   "metadata": {},
   "source": [
    "### Initializing and validating simulation parameters"
   ]
  },
  {
   "cell_type": "code",
   "execution_count": null,
   "id": "fb5ede79",
   "metadata": {},
   "outputs": [],
   "source": [
    "nr_iter = 100\n",
    "nr_snapshots = 20\n",
    "nr_checkpoints = 5\n",
    "\n",
    "validate_sim_params(nr_iter, nr_snapshots, nr_checkpoints)"
   ]
  },
  {
   "cell_type": "markdown",
   "id": "79b4bb2c",
   "metadata": {},
   "source": [
    "### Initializing checkpoint manager"
   ]
  },
  {
   "cell_type": "code",
   "execution_count": null,
   "id": "388687cf",
   "metadata": {},
   "outputs": [],
   "source": [
    "# Add path to your checkpoint directory here\n",
    "checkpoint_dir= None"
   ]
  },
  {
   "cell_type": "code",
   "execution_count": null,
   "id": "290401cc",
   "metadata": {},
   "outputs": [],
   "source": [
    "import orbax.checkpoint as ocp\n",
    "\n",
    "mngr_options = ocp.CheckpointManagerOptions(save_interval_steps=(nr_iter // nr_checkpoints), max_to_keep=3)\n",
    "mngr = ocp.CheckpointManager(checkpoint_dir, options=mngr_options)"
   ]
  },
  {
   "cell_type": "markdown",
   "id": "ccd6e3c5",
   "metadata": {},
   "source": [
    "## Running the Simulation"
   ]
  },
  {
   "cell_type": "code",
   "execution_count": null,
   "id": "b2b3e6bd",
   "metadata": {
    "ExecuteTime": {
     "end_time": "2023-11-28T11:35:26.410142Z",
     "start_time": "2023-11-28T11:35:23.699739Z"
    }
   },
   "outputs": [],
   "source": [
    "_, final_state = multi_step_simulation_with_checkpointing(system, state, mngr, nr_iter, nr_snapshots, nr_checkpoints)\n",
    "mngr.wait_until_finished()"
   ]
  },
  {
   "cell_type": "markdown",
   "id": "4b0eff2f",
   "metadata": {},
   "source": [
    "### Benchmarking"
   ]
  },
  {
   "cell_type": "code",
   "execution_count": null,
   "id": "c585fb09",
   "metadata": {},
   "outputs": [],
   "source": [
    "# %timeit -n 1 -r 1 multi_step_simulation_with_checkpointing(system, state, mngr, nr_iter, nr_snapshots, nr_checkpoints)"
   ]
  },
  {
   "cell_type": "markdown",
   "id": "4588129b",
   "metadata": {},
   "source": [
    "### Restoring checkpoint and checking if its correct"
   ]
  },
  {
   "cell_type": "code",
   "execution_count": null,
   "id": "63b2b7ab",
   "metadata": {},
   "outputs": [],
   "source": [
    "temp_state = State(rho=jnp.zeros(grid_shape),\n",
    "                    pressure=jnp.zeros(grid_shape),\n",
    "                    u=jnp.zeros((grid_shape[0],grid_shape[1],2)),\n",
    "                    phase_field=jnp.zeros(grid_shape),\n",
    "                    obs=jnp.zeros(grid_shape, dtype=bool),\n",
    "                    obs_velocity=jnp.zeros((grid_shape[0],grid_shape[1],2)),\n",
    "                    f=jnp.zeros((9,grid_shape[0],grid_shape[1])),\n",
    "                    N=jnp.zeros((9,grid_shape[0],grid_shape[1])))"
   ]
  },
  {
   "cell_type": "code",
   "execution_count": null,
   "id": "d4c1de52",
   "metadata": {},
   "outputs": [],
   "source": [
    "restored_state = restore_state(mngr, temp_state)\n",
    "del temp_state"
   ]
  },
  {
   "cell_type": "code",
   "execution_count": null,
   "id": "abb1aa2f",
   "metadata": {},
   "outputs": [],
   "source": [
    "for key in final_state:\n",
    "    assert np.any(restored_state[key] == final_state[key]), f\"State not matching for key={key}\"\n",
    "\n",
    "assert mngr.latest_step() == nr_iter, \"Number of iterations completed till now does not match\""
   ]
  },
  {
   "cell_type": "markdown",
   "id": "8b10c92e",
   "metadata": {},
   "source": [
    "## Re-running from last checkpoint"
   ]
  },
  {
   "cell_type": "code",
   "execution_count": null,
   "id": "9172bcef",
   "metadata": {},
   "outputs": [],
   "source": [
    "# Update number of iterations for which the next simulation will run\n",
    "new_nr_iter = 100\n",
    "nr_snapshots = 20\n",
    "nr_checkpoints = 5"
   ]
  },
  {
   "cell_type": "code",
   "execution_count": null,
   "id": "5a65de50",
   "metadata": {},
   "outputs": [],
   "source": [
    "new_mngr_options = ocp.CheckpointManagerOptions(save_interval_steps=(new_nr_iter // nr_checkpoints), max_to_keep=2)\n",
    "new_mngr = ocp.CheckpointManager(checkpoint_dir, options=new_mngr_options)"
   ]
  },
  {
   "cell_type": "code",
   "execution_count": null,
   "id": "bdbbbe85",
   "metadata": {},
   "outputs": [],
   "source": [
    "_, final_state = multi_step_simulation_with_checkpointing(system, state, new_mngr, new_nr_iter, nr_snapshots, nr_checkpoints, True)"
   ]
  },
  {
   "cell_type": "code",
   "execution_count": null,
   "id": "93f261ea",
   "metadata": {},
   "outputs": [],
   "source": [
    "assert new_mngr.latest_step() == (nr_iter + new_nr_iter ), \"Number of iterations completed till now does not match\""
   ]
  }
 ],
 "metadata": {
  "kernelspec": {
   "display_name": "Python 3 (ipykernel)",
   "language": "python",
   "name": "python3"
  },
  "language_info": {
   "codemirror_mode": {
    "name": "ipython",
    "version": 3
   },
   "file_extension": ".py",
   "mimetype": "text/x-python",
   "name": "python",
   "nbconvert_exporter": "python",
   "pygments_lexer": "ipython3",
   "version": "3.11.5"
  },
  "varInspector": {
   "cols": {
    "lenName": 16,
    "lenType": 16,
    "lenVar": 40
   },
   "kernels_config": {
    "python": {
     "delete_cmd_postfix": "",
     "delete_cmd_prefix": "del ",
     "library": "var_list.py",
     "varRefreshCmd": "print(var_dic_list())"
    },
    "r": {
     "delete_cmd_postfix": ") ",
     "delete_cmd_prefix": "rm(",
     "library": "var_list.r",
     "varRefreshCmd": "cat(var_dic_list()) "
    }
   },
   "types_to_exclude": [
    "module",
    "function",
    "builtin_function_or_method",
    "instance",
    "_Feature"
   ],
   "window_display": false
  }
 },
 "nbformat": 4,
 "nbformat_minor": 5
}
