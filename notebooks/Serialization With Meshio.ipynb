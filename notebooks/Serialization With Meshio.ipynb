{
 "cells": [
  {
   "cell_type": "markdown",
   "metadata": {},
   "source": [
    "# Serialization with Meshio\n",
    "\n",
    "This notebook contains the steps to initialise the state, run the simulation and serialize using Meshio.\n",
    "\n",
    "In this notebook, Meshio is used to serialize and deserialize into VTK and XDMF files.\n",
    "\n",
    "The states of the system are stored as VTK files.\n",
    "\n",
    "The time series data is stored in XDMF file format.\n",
    "\n",
    "Both VTK and XDMF can be visualised using Paraview."
   ]
  },
  {
   "cell_type": "markdown",
   "id": "43278005",
   "metadata": {},
   "source": [
    "## Installing dependencies and Importing modules"
   ]
  },
  {
   "cell_type": "code",
   "execution_count": null,
   "metadata": {},
   "outputs": [],
   "source": [
    "%pip install h5py meshio"
   ]
  },
  {
   "cell_type": "code",
   "execution_count": null,
   "id": "4d0771e1",
   "metadata": {
    "ExecuteTime": {
     "end_time": "2023-11-28T11:35:21.113360Z",
     "start_time": "2023-11-28T11:35:20.855903Z"
    }
   },
   "outputs": [],
   "source": [
    "import jax.numpy as jnp\n",
    "from einops import rearrange\n",
    "import numpy as np\n",
    "\n",
    "import meshio"
   ]
  },
  {
   "cell_type": "code",
   "execution_count": null,
   "id": "9bed71d8",
   "metadata": {
    "ExecuteTime": {
     "end_time": "2023-11-28T11:35:21.120288Z",
     "start_time": "2023-11-28T11:35:21.114337Z"
    }
   },
   "outputs": [],
   "source": [
    "from cglbm.lbm import grid_eq_dist, eq_dist_phase_field\n",
    "from cglbm.simulation import multi_step_simulation\n",
    "from cglbm.environment import State, System"
   ]
  },
  {
   "cell_type": "markdown",
   "id": "01648090",
   "metadata": {},
   "source": [
    "## Simulation Setup"
   ]
  },
  {
   "cell_type": "markdown",
   "id": "6770df11",
   "metadata": {},
   "source": [
    "### Loading pre-defined environment"
   ]
  },
  {
   "cell_type": "code",
   "execution_count": null,
   "id": "43cc50ab",
   "metadata": {},
   "outputs": [],
   "source": [
    "from cglbm.config import load_sandbox_config\n",
    "\n",
    "system = load_sandbox_config(\"stationary-drop-config.ini\")"
   ]
  },
  {
   "cell_type": "markdown",
   "id": "83428789",
   "metadata": {},
   "source": [
    "### Initial conditions of simulation"
   ]
  },
  {
   "cell_type": "code",
   "execution_count": null,
   "id": "c9f2dcd6",
   "metadata": {},
   "outputs": [],
   "source": [
    "LX = system.LX\n",
    "LY = system.LY\n",
    "X, Y = jnp.meshgrid(jnp.arange(LX), jnp.arange(LY))\n",
    "\n",
    "grid_shape = X.shape # this is taken from meshgrid, can also be Y.shape\n",
    "phase_field = jnp.zeros(grid_shape)\n",
    "center = (grid_shape[0]//2, grid_shape[1]//2)\n",
    "\n",
    "radius = system.drop_radius"
   ]
  },
  {
   "cell_type": "markdown",
   "id": "75f5c837",
   "metadata": {},
   "source": [
    "### Initializing drop"
   ]
  },
  {
   "cell_type": "code",
   "execution_count": null,
   "id": "48596c42",
   "metadata": {},
   "outputs": [],
   "source": [
    "coordinates = rearrange(jnp.stack([Y,X]), \"v y x -> y x v\")\n",
    "distanceFromCenter = jnp.sqrt(jnp.sum(jnp.square(coordinates - jnp.array(center)), axis=2))\n",
    "\n",
    "phase_field = 0.5 * (1.0 + jnp.tanh((distanceFromCenter - radius) * 2.0 / system.width))"
   ]
  },
  {
   "cell_type": "markdown",
   "id": "cae0c04a",
   "metadata": {},
   "source": [
    "### Initializing Density, Velocity, Pressure"
   ]
  },
  {
   "cell_type": "code",
   "execution_count": null,
   "id": "7bfcbe7e",
   "metadata": {},
   "outputs": [],
   "source": [
    "rho = system.density_one * phase_field + system.density_two * (1.0 - phase_field)\n",
    "pressure = jnp.full(grid_shape, system.ref_pressure)\n",
    "\n",
    "u_x = -system.uWallX + (Y - 2.5) * 2 * system.uWallX / (LY - 6)\n",
    "u_y = jnp.zeros(grid_shape)\n",
    "u = rearrange(jnp.stack([u_x, u_y]), \"x i j -> i j x\")"
   ]
  },
  {
   "cell_type": "markdown",
   "id": "c2ce103e",
   "metadata": {},
   "source": [
    "### Defining Obstacle"
   ]
  },
  {
   "cell_type": "code",
   "execution_count": null,
   "id": "bdd8d44f",
   "metadata": {},
   "outputs": [],
   "source": [
    "obs = jnp.zeros(grid_shape, dtype=bool)\n",
    "obs_velX = jnp.zeros(grid_shape)\n",
    "obs_velY = jnp.zeros(grid_shape)\n",
    "\n",
    "obs = obs.at[:, [0, 1, -2, -1]].set(True)\n",
    "obs_velX = obs_velX.at[:, [-2, -1]].set(system.uWallX)\n",
    "obs_velX = obs_velX.at[:, [0, 1]].set(-system.uWallX)\n",
    "\n",
    "obs_vel = rearrange(jnp.stack([obs_velX, obs_velY]), \"x i j -> i j x\")"
   ]
  },
  {
   "cell_type": "markdown",
   "id": "d8c1b64d",
   "metadata": {},
   "source": [
    "### Initialising f and N"
   ]
  },
  {
   "cell_type": "code",
   "execution_count": null,
   "id": "b4cd7132",
   "metadata": {},
   "outputs": [],
   "source": [
    "f = eq_dist_phase_field(system.cXYs, system.weights, phase_field, jnp.zeros(coordinates.shape))\n",
    "N = grid_eq_dist(system.cXYs, system.weights, system.phi_weights, pressure, jnp.zeros(coordinates.shape))"
   ]
  },
  {
   "cell_type": "markdown",
   "id": "79f39484",
   "metadata": {},
   "source": [
    "### Initialising state of the simulation"
   ]
  },
  {
   "cell_type": "code",
   "execution_count": null,
   "id": "477ba41f",
   "metadata": {},
   "outputs": [],
   "source": [
    "state = State(\n",
    "    rho=rho,\n",
    "    pressure=pressure,\n",
    "    u=u,\n",
    "    phase_field=phase_field,\n",
    "    obs=obs,\n",
    "    obs_velocity=obs_vel,\n",
    "    f=f,\n",
    "    N=N\n",
    ")"
   ]
  },
  {
   "cell_type": "markdown",
   "id": "ccd6e3c5",
   "metadata": {},
   "source": [
    "## Running the Simulation"
   ]
  },
  {
   "cell_type": "code",
   "execution_count": null,
   "id": "b2b3e6bd",
   "metadata": {
    "ExecuteTime": {
     "end_time": "2023-11-28T11:35:26.410142Z",
     "start_time": "2023-11-28T11:35:23.699739Z"
    }
   },
   "outputs": [],
   "source": [
    "nr_iter = 10\n",
    "nr_snapshots = 10\n",
    "final_results, _ = multi_step_simulation(system, state, nr_iter, nr_snapshots)"
   ]
  },
  {
   "cell_type": "code",
   "execution_count": null,
   "metadata": {},
   "outputs": [],
   "source": [
    "ux_final, uy_final = rearrange(final_results[\"u\"], \"t i y x -> x t i y\")\n",
    "phase_field_final = final_results[\"phase_field\"]"
   ]
  },
  {
   "cell_type": "markdown",
   "id": "a4b0a528",
   "metadata": {
    "ExecuteTime": {
     "end_time": "2023-11-02T10:40:20.517751Z",
     "start_time": "2023-11-02T10:40:20.516221Z"
    }
   },
   "source": [
    "## Meshio Serialization"
   ]
  },
  {
   "cell_type": "code",
   "execution_count": null,
   "metadata": {},
   "outputs": [],
   "source": [
    "def create_mesh(Nx, Ny):\n",
    "    \"\"\"\n",
    "    creates mesh filled with quad cells\n",
    "\n",
    "    Args:\n",
    "        Nx: int\n",
    "        Ny: int\n",
    "\n",
    "    Returns:\n",
    "        mesh: meshio.Mesh\n",
    "    \"\"\"\n",
    "    dim = 2\n",
    "    x = np.linspace(0, Nx, Nx+1)\n",
    "    y = np.linspace(0, Ny, Ny+1)\n",
    "\n",
    "    xv, yv = np.meshgrid(x, y)\n",
    "    points_xy = np.stack((xv, yv), axis=dim)\n",
    "    points = points_xy.reshape(-1, 2)\n",
    "\n",
    "    points_inds = np.arange(len(points))\n",
    "    points_inds_xy = points_inds.reshape(Nx + 1, Ny + 1)\n",
    "\n",
    "    top_left_points = points_inds_xy[:-1, :-1]\n",
    "    bottom_left_points = points_inds_xy[1:, :-1]\n",
    "    bottom_right_points = points_inds_xy[1:, 1:]\n",
    "    top_right_points = points_inds_xy[:-1, 1:]\n",
    "    quad_cells = np.stack((top_left_points, bottom_left_points, bottom_right_points, top_right_points),\n",
    "                        axis=dim)\n",
    "    quad_cells = quad_cells.reshape(-1,4)\n",
    "\n",
    "    return meshio.Mesh(points, [(\"quad\", quad_cells)])"
   ]
  },
  {
   "cell_type": "markdown",
   "metadata": {},
   "source": [
    "### Serialization to VTK file"
   ]
  },
  {
   "cell_type": "code",
   "execution_count": null,
   "metadata": {},
   "outputs": [],
   "source": [
    "mesh = create_mesh(LX, LY)\n",
    "\n",
    "# Storing 2nd frame in cell_data\n",
    "frame = 1\n",
    "\n",
    "mesh.cell_data[\"ux\"] = ux_final[frame,:,:].flatten()\n",
    "mesh.cell_data[\"uy\"] = uy_final[frame,:,:].flatten()\n",
    "\n",
    "mesh.write(\"lbm.vtk\", file_format=\"vtk\")"
   ]
  },
  {
   "cell_type": "markdown",
   "metadata": {},
   "source": [
    "### Deserialization from VTK file"
   ]
  },
  {
   "cell_type": "code",
   "execution_count": null,
   "metadata": {},
   "outputs": [],
   "source": [
    "mesh = meshio.read(\"lbm.vtk\", file_format=\"vtk\")\n",
    "\n",
    "# Reading data\n",
    "cell_data_ux = mesh.cell_data[\"ux\"][0].reshape((LX, LY))\n",
    "cell_data_uy = mesh.cell_data[\"uy\"][0].reshape((LX, LY))\n",
    "\n",
    "# Assertions\n",
    "# comparing only 2 frames, as there are NaNs after that\n",
    "print(np.allclose(cell_data_ux, ux_final[1,:,:]))\n",
    "print(np.allclose(cell_data_uy, uy_final[1,:,:]))"
   ]
  },
  {
   "cell_type": "markdown",
   "metadata": {},
   "source": [
    "### Serialization of time-series data to XDMF file"
   ]
  },
  {
   "cell_type": "code",
   "execution_count": null,
   "metadata": {},
   "outputs": [],
   "source": [
    "mesh = create_mesh(LX, LY)\n",
    "\n",
    "with meshio.xdmf.TimeSeriesWriter(\"lbm.xdmf\") as writer:\n",
    "    writer.write_points_cells(mesh.points, mesh.cells)\n",
    "    for t in (range(len(ux_final))):\n",
    "        writer.write_data(t, cell_data={\"ux\": ux_final[t], \"uy\": uy_final[t]})"
   ]
  },
  {
   "cell_type": "markdown",
   "metadata": {},
   "source": [
    "### Deserialization of time-series data from XDMF file"
   ]
  },
  {
   "cell_type": "code",
   "execution_count": null,
   "metadata": {},
   "outputs": [],
   "source": [
    "cell_data_ux = []\n",
    "cell_data_uy = []\n",
    "\n",
    "# Reading data\n",
    "with meshio.xdmf.TimeSeriesReader(\"lbm.xdmf\") as reader:\n",
    "    points, cells = reader.read_points_cells()\n",
    "    for k in range(reader.num_steps):\n",
    "        t, point_data, cell_data = reader.read_data(k)\n",
    "        cell_data_ux.append(cell_data[\"ux\"])\n",
    "        cell_data_uy.append(cell_data[\"uy\"])\n",
    "\n",
    "cell_data_ux = np.stack(cell_data_ux).reshape(nr_snapshots+1, LX, LY)\n",
    "cell_data_uy = np.stack(cell_data_uy).reshape(nr_snapshots+1, LX, LY)\n",
    "\n",
    "# Assertions\n",
    "# comparing only 2 frames, as there are NaNs after that\n",
    "print(np.allclose(ux_final[0:2], cell_data_ux[0:2]))\n",
    "print(np.allclose(uy_final[0:2], cell_data_uy[0:2]))\n"
   ]
  }
 ],
 "metadata": {
  "kernelspec": {
   "display_name": "Python 3 (ipykernel)",
   "language": "python",
   "name": "python3"
  },
  "language_info": {
   "codemirror_mode": {
    "name": "ipython",
    "version": 3
   },
   "file_extension": ".py",
   "mimetype": "text/x-python",
   "name": "python",
   "nbconvert_exporter": "python",
   "pygments_lexer": "ipython3",
   "version": "3.11.5"
  },
  "varInspector": {
   "cols": {
    "lenName": 16,
    "lenType": 16,
    "lenVar": 40
   },
   "kernels_config": {
    "python": {
     "delete_cmd_postfix": "",
     "delete_cmd_prefix": "del ",
     "library": "var_list.py",
     "varRefreshCmd": "print(var_dic_list())"
    },
    "r": {
     "delete_cmd_postfix": ") ",
     "delete_cmd_prefix": "rm(",
     "library": "var_list.r",
     "varRefreshCmd": "cat(var_dic_list()) "
    }
   },
   "types_to_exclude": [
    "module",
    "function",
    "builtin_function_or_method",
    "instance",
    "_Feature"
   ],
   "window_display": false
  }
 },
 "nbformat": 4,
 "nbformat_minor": 5
}
