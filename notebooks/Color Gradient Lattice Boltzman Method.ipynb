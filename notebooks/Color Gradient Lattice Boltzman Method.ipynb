{
 "cells": [
  {
   "cell_type": "code",
   "execution_count": 1,
   "id": "4d0771e1",
   "metadata": {
    "ExecuteTime": {
     "end_time": "2023-11-27T09:23:53.625268Z",
     "start_time": "2023-11-27T09:23:53.357079Z"
    }
   },
   "outputs": [],
   "source": [
    "import configparser\n",
    "import jax.numpy as jnp\n",
    "from jax import jit, grad, vmap\n",
    "from jax import random, lax, tree_util\n",
    "import jax\n",
    "from functools import partial\n",
    "from einops import rearrange\n",
    "\n",
    "from jax import Array\n",
    "from jax.typing import ArrayLike\n",
    "import chex"
   ]
  },
  {
   "cell_type": "code",
   "execution_count": 2,
   "id": "c2874c52",
   "metadata": {
    "ExecuteTime": {
     "end_time": "2023-11-27T09:23:53.628642Z",
     "start_time": "2023-11-27T09:23:53.626289Z"
    }
   },
   "outputs": [],
   "source": [
    "from cglbm.lbm import *"
   ]
  },
  {
   "cell_type": "markdown",
   "id": "ddfaf13a",
   "metadata": {},
   "source": [
    "# Simulation Code"
   ]
  },
  {
   "cell_type": "markdown",
   "id": "bf132476",
   "metadata": {},
   "source": [
    "## Density and Velocity update\n",
    "\n",
    "### Notes about the functions\n",
    "\n",
    "1. Every function is pure without side effects\n",
    "2. They work for a single grid point\n",
    "3. These functions will be vectorized to map over the entire grid\n"
   ]
  },
  {
   "cell_type": "code",
   "execution_count": 3,
   "id": "3d6ded88",
   "metadata": {
    "ExecuteTime": {
     "end_time": "2023-11-27T09:23:53.645434Z",
     "start_time": "2023-11-27T09:23:53.629264Z"
    },
    "code_folding": []
   },
   "outputs": [],
   "source": [
    "@jit\n",
    "@partial(vmap, in_axes=(None, None, None, 0, 1, 0), out_axes=0)\n",
    "@partial(vmap, in_axes=(None, None, None, 0, 1, 0), out_axes=0)\n",
    "def surface_tension_force(surface_tension, width, weights, phase_field, dst_phase_field, phi_grad):\n",
    "    phase_diff = dst_phase_field - phase_field\n",
    "    laplacian_loc = 6 * jnp.einsum(\"k,k\", phase_diff, weights)\n",
    "\n",
    "    phase_term = (48 * phase_field * (1 - phase_field) * (0.5 - phase_field)) / width \n",
    "    phase_term -= (1.5 * width * laplacian_loc)\n",
    "\n",
    "    curvature_force = surface_tension * phase_term * phi_grad #jnp.einsum(\",vij->vij\", phase_term, phi_grad)\n",
    "\n",
    "    return curvature_force"
   ]
  },
  {
   "cell_type": "code",
   "execution_count": 4,
   "id": "63fdc8e9",
   "metadata": {
    "ExecuteTime": {
     "end_time": "2023-11-27T09:23:53.658871Z",
     "start_time": "2023-11-27T09:23:53.646550Z"
    },
    "code_folding": []
   },
   "outputs": [],
   "source": [
    "@jit\n",
    "@partial(vmap, in_axes=(None, None, 0, 0, 0), out_axes=0)\n",
    "@partial(vmap, in_axes=(None, None, 0, 0, 0), out_axes=0)\n",
    "def compute_total_force(\n",
    "    gravityX,\n",
    "    gravityY,\n",
    "    curvature_force,\n",
    "    viscous_force,\n",
    "    rho):\n",
    "    rest_force = jnp.stack([rho* gravityX, rho * gravityY])\n",
    "    return rest_force + curvature_force + viscous_force"
   ]
  },
  {
   "cell_type": "code",
   "execution_count": 5,
   "id": "6c6f9042",
   "metadata": {
    "ExecuteTime": {
     "end_time": "2023-11-27T09:23:53.668292Z",
     "start_time": "2023-11-27T09:23:53.659481Z"
    },
    "code_folding": []
   },
   "outputs": [],
   "source": [
    "# TODO: Recheck this function\n",
    "@jit\n",
    "@partial(vmap, in_axes=(None, None, None, None, 0, 0, 0, 1, 0), out_axes=0)\n",
    "@partial(vmap, in_axes=(None, None, None, None, 0, 0, 0, 1, 0), out_axes=0)\n",
    "def compute_density_velocity_pressure(\n",
    "    density_one,\n",
    "    density_two,\n",
    "    weights,\n",
    "    phi_weights,\n",
    "    pressure,\n",
    "    phase_field,\n",
    "    phi_grad,\n",
    "    N,\n",
    "    total_force):\n",
    "    \n",
    "    # This function is supposed to happen when obstacle != 1\n",
    "    \n",
    "    sumNX = jnp.dot(N, cXs)\n",
    "    sumNY = jnp.dot(N, cYs)\n",
    "    sumNV = jnp.stack([sumNX, sumNY])\n",
    "    \n",
    "    sumN = jnp.sum(N)\n",
    "    \n",
    "    rho = density_one * phase_field + \\\n",
    "        density_two * (1 - phase_field)\n",
    "    \n",
    "    # TODO: There was a for loop here is it really needed?\n",
    "    u = sumNV + total_force - (pressure * (density_one - density_two) * phi_grad) / rho\n",
    "    usq = jnp.sum(jnp.square(u))\n",
    "    \n",
    "    pressure = (sumN / 3.0 - weights[0] * usq * 0.5 - (1 - phi_weights[0]) / 3.0) / (1 - weights[0])\n",
    "    \n",
    "    interface_force = total_force - pressure * (density_one - density_two) * phi_grad\n",
    "    \n",
    "    return rho, u, pressure, interface_force"
   ]
  },
  {
   "cell_type": "markdown",
   "id": "c2e92968",
   "metadata": {},
   "source": [
    "## Collision"
   ]
  },
  {
   "cell_type": "code",
   "execution_count": 7,
   "id": "8d7818c3",
   "metadata": {
    "ExecuteTime": {
     "end_time": "2023-11-27T09:23:53.696033Z",
     "start_time": "2023-11-27T09:23:53.682954Z"
    }
   },
   "outputs": [],
   "source": [
    "@jit\n",
    "@partial(vmap, in_axes=(None, None, None, None, 0, 0, 0, 0, 0, 1), out_axes=1)\n",
    "@partial(vmap, in_axes=(None, None, None, None, 0, 0, 0, 0, 0, 1), out_axes=1)\n",
    "def compute_segregation(\n",
    "    width,\n",
    "    cXYs,\n",
    "    weights,\n",
    "    phi_weights,\n",
    "    phase_field,\n",
    "    phi_grad,\n",
    "    pressure,\n",
    "    rho,\n",
    "    u,\n",
    "    N_new\n",
    "):\n",
    "    phi_mag = jnp.sqrt(jnp.sum(jnp.square(phi_grad)))\n",
    "    \n",
    "    # (phigrad_dot_c / phi_mag) is nan for non interface region\n",
    "    \n",
    "    # [k]\n",
    "    N_eq = eq_dist(cXYs, weights, phi_weights, pressure, u)\n",
    "    # 9, 2\n",
    "    phigrad_dot_c = jnp.sum(phi_grad * cXYs, axis=1)\n",
    "    seg_term = (2.0 / width) * (1.0 - phase_field) * phase_field * (phigrad_dot_c / phi_mag) * N_eq\n",
    "    \n",
    "    f_new = phase_field * N_new + seg_term\n",
    "    return f_new"
   ]
  },
  {
   "cell_type": "code",
   "execution_count": 8,
   "id": "c783761d",
   "metadata": {
    "ExecuteTime": {
     "end_time": "2023-11-27T09:23:53.705180Z",
     "start_time": "2023-11-27T09:23:53.696829Z"
    },
    "code_folding": []
   },
   "outputs": [],
   "source": [
    "@partial(vmap, in_axes=(None, None, None, 0, 0, 1, 1, 1, 1), out_axes=1)\n",
    "@partial(vmap, in_axes=(None, None, None, 0, 0, 1, 1, 1, 1), out_axes=1)\n",
    "def handle_obstacle(cXs, cYs, weights, obs, obsVel, f_new, f_new_dst, N_new, N_new_dst):\n",
    "    N_invert = N_new[np.array([0, 3, 4, 1, 2, 7, 8, 5, 6])] * 6.0 * weights * (cXs * obsVel[0] + cYs * obsVel[1])\n",
    "    f_invert = f_new[np.array([0, 3, 4, 1, 2, 7, 8, 5, 6])]\n",
    "    \n",
    "    f = lax.select(obs, f_invert, f_new_dst)\n",
    "    N = lax.select(obs, N_invert, N_new_dst)\n",
    "    return N, f"
   ]
  },
  {
   "cell_type": "code",
   "execution_count": 9,
   "id": "d9899a80",
   "metadata": {
    "ExecuteTime": {
     "end_time": "2023-11-27T09:23:53.718597Z",
     "start_time": "2023-11-27T09:23:53.705822Z"
    },
    "code_folding": []
   },
   "outputs": [],
   "source": [
    "@jit\n",
    "def compute_propagation(cXs, cYs, weights, obs, obsVel, N_new, f_new):\n",
    "    N = []\n",
    "    f = []\n",
    "    for i, cx, cy in zip(jnp.arange(9), cXs, cYs):\n",
    "        N.append(jnp.roll(N_new[i], (-cx, -cy), axis=(0, 1)))\n",
    "        f.append(jnp.roll(f_new[i], (-cx, -cy), axis=(0, 1)))\n",
    "\n",
    "    N_dst = jnp.stack(N)\n",
    "    f_dst = jnp.stack(f)\n",
    "    \n",
    "    return handle_obstacle(cXs, cYs, weights, obs, obsVel, f_new, f_dst, N_new, N_dst)"
   ]
  },
  {
   "cell_type": "markdown",
   "id": "e00b1378",
   "metadata": {},
   "source": [
    "# Simulation Loop"
   ]
  },
  {
   "cell_type": "code",
   "execution_count": 10,
   "id": "b2f9be7a",
   "metadata": {
    "ExecuteTime": {
     "end_time": "2023-11-27T09:23:53.728172Z",
     "start_time": "2023-11-27T09:23:53.719996Z"
    },
    "code_folding": []
   },
   "outputs": [],
   "source": [
    "@jit\n",
    "def simulation_step(state, idx):\n",
    "    # [i,j,k]\n",
    "    phase_field = compute_phase_field(state[\"f\"])\n",
    "    dst_phase_field = compute_dst_phase_field(state[\"cXs\"], state[\"cYs\"], phase_field=phase_field)\n",
    "    \n",
    "    # VMapped functions\n",
    "    \n",
    "    phi_grad = compute_phi_grad(state[\"cXYs\"], state[\"weights\"], dst_phase_field)\n",
    "    \n",
    "    curvature_force = surface_tension_force(\n",
    "        state[\"surface_tension\"],\n",
    "        state[\"width\"],\n",
    "        state[\"weights\"],\n",
    "        phase_field,\n",
    "        dst_phase_field,\n",
    "        phi_grad)\n",
    "\n",
    "    mom, mom_eq, kin_visc_local = compute_mom(\n",
    "        state[\"kin_visc_one\"],\n",
    "        state[\"kin_visc_two\"],\n",
    "        state[\"M_D2Q9\"],\n",
    "        state[\"u\"],\n",
    "        state[\"pressure\"],\n",
    "        phase_field,\n",
    "        state[\"N\"])\n",
    "    \n",
    "    viscous_force = compute_viscosity_correction(\n",
    "        state[\"invM_D2Q9\"],\n",
    "        state[\"cMs\"],\n",
    "        state[\"density_one\"],\n",
    "        state[\"density_two\"],\n",
    "        phi_grad,\n",
    "        kin_visc_local,\n",
    "        mom,\n",
    "        mom_eq)\n",
    "\n",
    "    total_force = compute_total_force(\n",
    "        state[\"gravityX\"],\n",
    "        state[\"gravityY\"],\n",
    "        curvature_force,\n",
    "        viscous_force,\n",
    "        state[\"rho\"]\n",
    "    )\n",
    "    \n",
    "    rho, u, pressure, interface_force = compute_density_velocity_pressure(\n",
    "        state[\"density_one\"],\n",
    "        state[\"density_two\"],\n",
    "        state[\"weights\"],\n",
    "        state[\"phi_weights\"],\n",
    "        state[\"pressure\"],\n",
    "        phase_field,\n",
    "        phi_grad,\n",
    "        state[\"N\"],\n",
    "        total_force\n",
    "    )\n",
    "    \n",
    "    N_new = compute_collision(\n",
    "        state[\"invM_D2Q9\"],\n",
    "        state[\"obs\"],\n",
    "        mom,\n",
    "        mom_eq,\n",
    "        kin_visc_local,\n",
    "        interface_force,\n",
    "        state[\"rho\"],\n",
    "        state[\"N\"]\n",
    "    )\n",
    "    \n",
    "        \n",
    "    f_new = compute_segregation(\n",
    "        state[\"width\"],\n",
    "        state[\"cXYs\"],\n",
    "        state[\"weights\"],\n",
    "        state[\"phi_weights\"],\n",
    "        phase_field,\n",
    "        phi_grad,\n",
    "        pressure,\n",
    "        rho,\n",
    "        u,\n",
    "        N_new\n",
    "    )\n",
    "    \n",
    "    N, f = compute_propagation(\n",
    "        state[\"cXs\"],\n",
    "        state[\"cYs\"],\n",
    "        state[\"weights\"],\n",
    "        state[\"obs\"],\n",
    "        state[\"obs_vel\"],\n",
    "        N_new,\n",
    "        f_new\n",
    "    )\n",
    "    \n",
    "#     jax.debug.print(f\"Nshape {N.shape}\")\n",
    "\n",
    "    new_state = {\n",
    "        **state,\n",
    "        \"u\": u,\n",
    "        \"pressure\": pressure,\n",
    "        \"rho\": rho,\n",
    "        \"N\": N,\n",
    "        \"f\": f\n",
    "    }\n",
    "    return new_state"
   ]
  },
  {
   "cell_type": "code",
   "execution_count": 11,
   "id": "bdd03736",
   "metadata": {
    "ExecuteTime": {
     "end_time": "2023-11-27T09:23:53.741129Z",
     "start_time": "2023-11-27T09:23:53.728781Z"
    },
    "scrolled": true
   },
   "outputs": [],
   "source": [
    "# st_2 = simulation_step(state, 1)\n",
    "# simulation_step(st_2, 2)"
   ]
  },
  {
   "cell_type": "code",
   "execution_count": 12,
   "id": "3ae87427",
   "metadata": {
    "ExecuteTime": {
     "end_time": "2023-11-27T09:23:53.749961Z",
     "start_time": "2023-11-27T09:23:53.741822Z"
    }
   },
   "outputs": [],
   "source": [
    "@jit\n",
    "def multi_step_simulation_block(state, nr_iter):\n",
    "    return lax.fori_loop(0, nr_iter, lambda i, s: simulation_step(s, i), state)"
   ]
  },
  {
   "cell_type": "code",
   "execution_count": 13,
   "id": "18a6be7e",
   "metadata": {
    "ExecuteTime": {
     "end_time": "2023-11-27T09:23:53.758914Z",
     "start_time": "2023-11-27T09:23:53.750602Z"
    },
    "code_folding": [
     3
    ]
   },
   "outputs": [],
   "source": [
    "import numpy as np\n",
    "# We need numpy here where we transfer data from the GPU\n",
    "\n",
    "# Note: There needs to be a separate function for calling\n",
    "# multi_step_simulation_block so that we can shard and perform pmap later\n",
    "def multi_step_simulation(state, nr_iter, save_interval=200):\n",
    "\n",
    "    results = [{\n",
    "        \"u\": state[\"u\"]\n",
    "#         \"N\": state[\"N\"]\n",
    "    }]\n",
    "\n",
    "    for _ in range(nr_iter // save_interval):\n",
    "        state = multi_step_simulation_block(state, save_interval)\n",
    "        results.append({\n",
    "            \"u\": state[\"u\"]\n",
    "#             \"N\": state[\"N\"]\n",
    "        })\n",
    "    # Receive the buffer from the Accelerator\n",
    "    results = jax.device_get(results)\n",
    "    return tree_util.tree_map(\n",
    "        lambda *rs: np.stack([np.array(r) for r in rs]),\n",
    "        *results)"
   ]
  },
  {
   "cell_type": "markdown",
   "id": "cd466560",
   "metadata": {},
   "source": [
    "# Simulation Parameters\n"
   ]
  },
  {
   "cell_type": "code",
   "execution_count": 14,
   "id": "d41d50d5",
   "metadata": {
    "ExecuteTime": {
     "end_time": "2023-11-27T09:23:53.773065Z",
     "start_time": "2023-11-27T09:23:53.759638Z"
    },
    "code_folding": [
     4
    ]
   },
   "outputs": [],
   "source": [
    "beta = 9\n",
    "alpha = 4.0 / 9.0\n",
    "\n",
    "\n",
    "class SimParams:\n",
    "    def __init__(self, config_file):\n",
    "        self.parse_params(config_file)\n",
    "\n",
    "    def parse_params(self, config_file):\n",
    "        config = configparser.ConfigParser()\n",
    "        config.read(config_file)\n",
    "        pt = config[\"Simulation\"]\n",
    "\n",
    "        # We could destructure into a map\n",
    "        self.LX = int(pt.get(\"LX\", 0))\n",
    "        self.LY = int(pt.get(\"LY\", 0))\n",
    "        self.NL = 9\n",
    "        self.nr_iterations = int(pt.get(\"nr_iterations\", 0))\n",
    "        self.nr_samples = int(pt.get(\"nr_samples\", 0))\n",
    "        self.kin_visc_one = float(pt.get(\"kin_visc_one\", 0.0))\n",
    "        self.kin_visc_two = float(pt.get(\"kin_visc_two\", 0.0))\n",
    "        self.density_one = float(pt.get(\"density_one\", 0.0))\n",
    "        self.density_two = float(pt.get(\"density_two\", 0.0))\n",
    "        self.gravityX = float(pt.get(\"gravityX\", 0.0))\n",
    "        self.gravityY = float(pt.get(\"gravityY\", 0.0))\n",
    "        self.width = float(pt.get(\"width\", 0.0))\n",
    "        self.surface_tension = float(pt.get(\"surface_tension\", 0.0))\n",
    "        self.ref_pressure = float(pt.get(\"ref_pressure\", 0.0))\n",
    "        self.uWallX = float(pt.get(\"uWallX\", 0.0))\n",
    "        self.drop_radius = float(pt.get(\"drop_radius\", 0.0))\n",
    "        self.Width = 4.0\n",
    "\n",
    "    def print_config(self):\n",
    "        print(f\"LX = {self.LX} LY= {self.LY}\")\n",
    "        print(\n",
    "            f\"nr_iterations = {self.nr_iterations}  nr_samples = {self.nr_samples}\")\n",
    "        print(f\"kin_viscosities = {self.kin_visc_one} {self.kin_visc_two}\")\n",
    "        print(f\"density = {self.density_one} {self.density_two}\")\n",
    "        print(f\"gravity = {self.gravityX} {self.gravityY}\")\n",
    "        print(f\"interface width = {self.width}\")\n",
    "        print(f\"surface tension = {self.surface_tension}\")\n",
    "        print(f\"reference pressure = {self.ref_pressure}\")\n",
    "        print(f\"wall velocity = {self.uWallX}\")\n",
    "        print(f\"drop radius = {self.drop_radius}\")\n",
    "        print(f\"Width = {self.width}\")"
   ]
  },
  {
   "cell_type": "code",
   "execution_count": 15,
   "id": "edda36bf",
   "metadata": {
    "ExecuteTime": {
     "end_time": "2023-11-27T09:23:53.898221Z",
     "start_time": "2023-11-27T09:23:53.773749Z"
    }
   },
   "outputs": [
    {
     "name": "stdout",
     "output_type": "stream",
     "text": [
      "[Simulation]\r\n",
      "LX = 100\r\n",
      "LY = 100\r\n",
      "nr_iterations = 2000\r\n",
      "nr_samples = 100\r\n",
      "kin_visc_one = 0.103\r\n",
      "kin_visc_two = 0.103\r\n",
      "density_one = 1\r\n",
      "density_two = 1\r\n",
      "gravityX = 1e-6\r\n",
      "gravityY = 0.0\r\n",
      "width = 4.0\r\n",
      "surface_tension = 0.00412\r\n",
      "ref_pressure = 0.1\r\n",
      "uWallX = 0.1\r\n",
      "drop_radius = 50\r\n",
      "# beta = 9\r\n",
      "# alpha = 4.0/9.0\r\n"
     ]
    }
   ],
   "source": [
    "!cat params.ini"
   ]
  },
  {
   "cell_type": "code",
   "execution_count": 16,
   "id": "47d06fc3",
   "metadata": {
    "ExecuteTime": {
     "end_time": "2023-11-27T09:23:53.901357Z",
     "start_time": "2023-11-27T09:23:53.899179Z"
    }
   },
   "outputs": [
    {
     "name": "stdout",
     "output_type": "stream",
     "text": [
      "LX = 100 LY= 100\n",
      "nr_iterations = 2000  nr_samples = 100\n",
      "kin_viscosities = 0.103 0.103\n",
      "density = 1.0 1.0\n",
      "gravity = 1e-06 0.0\n",
      "interface width = 4.0\n",
      "surface tension = 0.00412\n",
      "reference pressure = 0.1\n",
      "wall velocity = 0.1\n",
      "drop radius = 50.0\n",
      "Width = 4.0\n"
     ]
    }
   ],
   "source": [
    "config = SimParams(\"params.ini\")\n",
    "config.print_config()"
   ]
  },
  {
   "cell_type": "markdown",
   "id": "dfb1ecf6",
   "metadata": {},
   "source": [
    "# Initial conditions\n"
   ]
  },
  {
   "cell_type": "code",
   "execution_count": 17,
   "id": "cd63d907",
   "metadata": {
    "ExecuteTime": {
     "end_time": "2023-11-27T09:23:54.167446Z",
     "start_time": "2023-11-27T09:23:53.902043Z"
    },
    "code_folding": [
     19,
     29,
     36
    ]
   },
   "outputs": [],
   "source": [
    "LX = config.LX\n",
    "LY = config.LY\n",
    "NL = config.NL\n",
    "\n",
    "density_one = config.density_one\n",
    "density_two = config.density_two\n",
    "\n",
    "grid_shape = (LY, LX)\n",
    "alpha = 4.0 / 9.0\n",
    "\n",
    "cXs = jnp.array([0, 1, 0, -1, 0, 1, -1, -1, 1], dtype=jnp.int32)\n",
    "cYs = jnp.array([0, 0, 1, 0, -1, 1, 1, -1, -1], dtype=jnp.int32)\n",
    "cXYs = jnp.array([(0.0, 0.0), (1.0, 0.0), (0.0, 1.0), (-1.0, 0.0), (0.0, -1.0),\n",
    "                 (1.0, 1.0), (-1.0, 1.0), (-1.0, -1.0), (1.0, -1.0)])\n",
    "cMs = jnp.einsum('ki,kj->kij', cXYs, cXYs)\n",
    "\n",
    "weights = jnp.array([4.0 / 9.0,  1.0 / 9.0,  1.0 / 9.0,  1.0 / 9.0,\n",
    "                     1.0 / 9.0, 1.0 / 36.0, 1.0 / 36.0, 1.0 / 36.0, 1.0 / 36.0])\n",
    "\n",
    "phi_weights = jnp.array([alpha,\n",
    "                         (1.0 - alpha) / 5.0,\n",
    "                         (1.0 - alpha) / 5.0,\n",
    "                         (1.0 - alpha) / 5.0,\n",
    "                         (1.0 - alpha) / 5.0,\n",
    "                         (1.0 - alpha) / 20.0,\n",
    "                         (1.0 - alpha) / 20.0,\n",
    "                         (1.0 - alpha) / 20.0,\n",
    "                         (1.0 - alpha) / 20.0])\n",
    "\n",
    "M_D2Q9 = jnp.array([\n",
    "    [1, 1, 1, 1, 1, 1, 1, 1, 1],    [-4, -1, -1, -1, -\n",
    "                                     1, 2, 2, 2, 2], [4, -2, -2, -2, -2, 1, 1, 1, 1],\n",
    "    [0, 1, 0, -1, 0, 1, -1, -1, 1], [0, -2, 0, 2, 0,\n",
    "                                     1, -1, -1, 1],   [0, 0, 1, 0, -1, 1, 1, -1, -1],\n",
    "    [0, 0, -2, 0, 2, 1, 1, -1, -1], [0, 1, -1, 1, -1, 0, 0, 0, 0],    [0, 0, 0, 0, 0, 1, -1, 1, -1]])\n",
    "\n",
    "invM_D2Q9 = jnp.array([\n",
    "    [1 / 9.0, -(1 / 9.0), (1 / 9.0), 0, 0, 0, 0, 0, 0],\n",
    "    [1 / 9.0, -(1 / 36.0), -(1 / 18.0), (1 / 6.0), -\n",
    "     (1 / 6.0), 0, 0, 1 / 4.0, 0],\n",
    "    [1 / 9.0, -(1 / 36.0), -(1 / 18.0), 0, 0, 1 /\n",
    "     6.0, -(1 / 6.0), -(1 / 4.0), 0],\n",
    "    [1 / 9.0, -(1 / 36.0), -(1 / 18.0), -(1 / 6.0), 1 / 6.0, 0, 0, 1 / 4.0, 0],\n",
    "    [1 / 9.0, -(1 / 36.0), -(1 / 18.0), 0, 0, -\n",
    "     (1 / 6.0), 1 / 6.0, -(1 / 4.0), 0],\n",
    "    [1 / 9.0, 1 / 18.0, 1 / 36.0, 1 / 6.0, 1 / 12.0, 1 / 6.0, 1 / 12.0, 0, 1 / 4.0],\n",
    "    [1 / 9.0, 1 / 18.0, 1 / 36.0, -\n",
    "        (1 / 6.0), -(1 / 12.0), 1 / 6.0, 1 / 12.0, 0, -(1 / 4.0)],\n",
    "    [1 / 9.0, 1 / 18.0, 1 / 36.0, -\n",
    "        (1 / 6.0), -(1 / 12.0), -(1 / 6.0), -(1 / 12.0), 0, 1 / 4.0],\n",
    "    [1 / 9.0, 1 / 18.0, 1 / 36.0, 1 / 6.0, 1 / 12.0, -(1 / 6.0), -(1 / 12.0), 0, -(1 / 4.0)]])"
   ]
  },
  {
   "cell_type": "markdown",
   "id": "4aa42e45",
   "metadata": {},
   "source": [
    "## Phase Field"
   ]
  },
  {
   "cell_type": "code",
   "execution_count": 18,
   "id": "4a6ad0fd",
   "metadata": {
    "ExecuteTime": {
     "end_time": "2023-11-27T09:23:54.329399Z",
     "start_time": "2023-11-27T09:23:54.168486Z"
    }
   },
   "outputs": [],
   "source": [
    "phase_field = jnp.zeros(grid_shape)\n",
    "\n",
    "center = (LX/2, LY/2)\n",
    "radius = LY/4\n",
    "X, Y = jnp.meshgrid(jnp.arange(LX), jnp.arange(LY))\n"
   ]
  },
  {
   "cell_type": "markdown",
   "id": "d764dbde-3cf8-4606-b42f-4963e107e1c8",
   "metadata": {},
   "source": [
    "### Initialising drop"
   ]
  },
  {
   "cell_type": "markdown",
   "id": "880ac513",
   "metadata": {
    "ExecuteTime": {
     "end_time": "2023-11-16T05:24:46.993395Z",
     "start_time": "2023-11-16T05:24:46.530853Z"
    }
   },
   "source": [
    "drop = (X - center[0]) ** 2 + (Y - center[1]) ** 2 < radius ** 2\n",
    "\n",
    "phase_field = phase_field.at[drop].set(1.0)"
   ]
  },
  {
   "cell_type": "markdown",
   "id": "81908325-763c-45a6-8a72-aeb2bc44cf47",
   "metadata": {},
   "source": [
    "### Initialising drop with tanh"
   ]
  },
  {
   "cell_type": "code",
   "execution_count": 19,
   "id": "e94fa366",
   "metadata": {
    "ExecuteTime": {
     "end_time": "2023-11-27T09:23:54.668761Z",
     "start_time": "2023-11-27T09:23:54.330369Z"
    }
   },
   "outputs": [],
   "source": [
    "#### change to code when running\n",
    "distanceFromCenter = jnp.sqrt((X - center[0]) ** 2 + (Y - center[1]) ** 2)\n",
    "\n",
    "phase_field = 1.0 + jnp.tanh((distanceFromCenter - radius) * 2.0 / config.width)"
   ]
  },
  {
   "cell_type": "markdown",
   "id": "ec37302b-1e21-47f2-bc49-b947d985af73",
   "metadata": {},
   "source": [
    "### Initialising square drop"
   ]
  },
  {
   "cell_type": "markdown",
   "id": "5ce46265-2895-4901-ad1c-8c92348fa973",
   "metadata": {},
   "source": [
    "#### change to code when running\n",
    "side = min(LX, LY) / 2\n",
    "\n",
    "square = jnp.logical_and(abs(X - center[0]) < side/2, abs(Y - center[1]) < side / 2)\n",
    "phase_field = phase_field.at[square].set(1.0)"
   ]
  },
  {
   "cell_type": "markdown",
   "id": "93b3fbb8",
   "metadata": {},
   "source": [
    "## Density, Velocity, Pressure"
   ]
  },
  {
   "cell_type": "code",
   "execution_count": 20,
   "id": "edf356d5",
   "metadata": {
    "ExecuteTime": {
     "end_time": "2023-11-27T09:23:54.961298Z",
     "start_time": "2023-11-27T09:23:54.669565Z"
    }
   },
   "outputs": [],
   "source": [
    "rho = density_one * phase_field + density_two * (1.0 - phase_field)\n",
    "pressure = jnp.full(grid_shape, config.ref_pressure)\n",
    "\n",
    "u_x = -config.uWallX + (Y - 2.5) * 2 * config.uWallX / (LY - 6)\n",
    "u_y = jnp.zeros(grid_shape)\n",
    "u = rearrange(jnp.stack([u_x, u_y]), \"x i j -> i j x\") #.transpose(1, 2, 0)"
   ]
  },
  {
   "cell_type": "markdown",
   "id": "529c1657",
   "metadata": {},
   "source": [
    "## Obstacle"
   ]
  },
  {
   "cell_type": "code",
   "execution_count": 21,
   "id": "2cfb1e34",
   "metadata": {
    "ExecuteTime": {
     "end_time": "2023-11-27T09:23:55.480342Z",
     "start_time": "2023-11-27T09:23:54.962108Z"
    }
   },
   "outputs": [
    {
     "name": "stderr",
     "output_type": "stream",
     "text": [
      "/home/nimalan/miniconda3/envs/ml/lib/python3.11/site-packages/jax/_src/ops/scatter.py:94: FutureWarning: scatter inputs have incompatible types: cannot safely cast value from dtype=float32 to dtype=bool with jax_numpy_dtype_promotion='standard'. In future JAX releases this will result in an error.\n",
      "  warnings.warn(\"scatter inputs have incompatible types: cannot safely cast \"\n"
     ]
    }
   ],
   "source": [
    "obs = jnp.zeros(grid_shape, dtype=bool)\n",
    "obs_velX = jnp.zeros(grid_shape)\n",
    "obs_velY = jnp.zeros(grid_shape)\n",
    "\n",
    "cylinder = (X - center[0]) ** 2 + (Y - center[1]) ** 2 < radius ** 2\n",
    "obs = obs.at[cylinder].set(1.0)\n",
    "obs_velX = obs_velX.at[cylinder].set(config.uWallX)\n",
    "obs_velY = obs_velY.at[cylinder].set(config.uWallX)\n",
    "\n",
    "obs_vel = rearrange(jnp.stack([obs_velX, obs_velY]), \"x i j -> i j x\")\n",
    "\n",
    "# TODO: Find another way to set the obstacle\n",
    "# for i in range(config.LX):\n",
    "#     obs = obs.at[i, [0, 1, 2, -3, -2, -1]].set(True)\n",
    "#     obs_velX = obs_velX.at[i, [-3, -2, -1]].set(config.uWallX)\n",
    "#     obs_velX = obs_velX.at[i, [0, 1, 2]].set(-config.uWallX)"
   ]
  },
  {
   "cell_type": "code",
   "execution_count": 22,
   "id": "2b488e56",
   "metadata": {
    "ExecuteTime": {
     "end_time": "2023-11-27T09:23:55.692410Z",
     "start_time": "2023-11-27T09:23:55.481131Z"
    }
   },
   "outputs": [],
   "source": [
    "f = eq_dist_phase_field(cXYs, weights, phase_field, jnp.zeros((LX, LY, 2)))\n",
    "N = grid_eq_dist(cXYs, weights, phi_weights, pressure, jnp.zeros((LX, LY, 2)))\n",
    "\n",
    "# cxs, cys, weights, k, phi, ux, uy)"
   ]
  },
  {
   "cell_type": "code",
   "execution_count": 23,
   "id": "0071dd35",
   "metadata": {
    "ExecuteTime": {
     "end_time": "2023-11-27T09:23:55.695563Z",
     "start_time": "2023-11-27T09:23:55.693228Z"
    },
    "code_folding": [
     1
    ]
   },
   "outputs": [],
   "source": [
    "# We could nest the pytree in JAX\n",
    "state = {\n",
    "    \"LX\": LX,\n",
    "    \"LY\": LY,\n",
    "    \"NL\": NL,\n",
    "\n",
    "    # Scalar Constants\n",
    "    \"kin_visc_one\": config.kin_visc_one,\n",
    "    \"kin_visc_two\": config.kin_visc_two,\n",
    "    \"density_one\": config.density_one,\n",
    "    \"density_two\": config.density_two,\n",
    "    \"gravityX\": config.gravityX,\n",
    "    \"gravityY\": config.gravityY,\n",
    "    \"width\": config.width,\n",
    "    \"surface_tension\": config.surface_tension,\n",
    "    \"ref_pressure\": config.ref_pressure,\n",
    "    \"uWallX\": config.uWallX,\n",
    "    \"drop_radius\": config.drop_radius,\n",
    "    \"alpha\": alpha,\n",
    "\n",
    "    # N-D Constants\n",
    "    # [k]\n",
    "    \"cXs\": cXs,\n",
    "    \"cYs\": cYs,\n",
    "    # TODO: check if cXYs is needed\n",
    "    \"cXYs\": cXYs,\n",
    "    \"cMs\": cMs,\n",
    "    \"weights\": weights,\n",
    "    \"phi_weights\": phi_weights,\n",
    "    \"M_D2Q9\": M_D2Q9,\n",
    "    \"invM_D2Q9\": invM_D2Q9,\n",
    "\n",
    "    # Tensors\n",
    "    # [ij]\n",
    "#     \"phase_field\": phase_field,\n",
    "    \"rho\": rho,\n",
    "    \"pressure\": pressure,\n",
    "    \"u\": u,\n",
    "    \"obs\": obs,\n",
    "    \"obs_vel\": obs_vel,\n",
    "\n",
    "    # [ijk]\n",
    "    \"f\": f,\n",
    "    \"N\": N\n",
    "}"
   ]
  },
  {
   "cell_type": "markdown",
   "id": "ccd6e3c5",
   "metadata": {},
   "source": [
    "# Simulation"
   ]
  },
  {
   "cell_type": "code",
   "execution_count": 24,
   "id": "b2b3e6bd",
   "metadata": {
    "ExecuteTime": {
     "end_time": "2023-11-27T09:23:58.357469Z",
     "start_time": "2023-11-27T09:23:55.696227Z"
    }
   },
   "outputs": [],
   "source": [
    "nr_iter = 10\n",
    "nr_snapshot = 10\n",
    "nr_snapshot_iter = nr_iter // nr_snapshot\n",
    "final_step = multi_step_simulation(state, nr_iter, nr_snapshot_iter)"
   ]
  },
  {
   "cell_type": "code",
   "execution_count": 25,
   "id": "0503a8fd",
   "metadata": {
    "ExecuteTime": {
     "end_time": "2023-11-27T09:24:00.435592Z",
     "start_time": "2023-11-27T09:23:58.358610Z"
    }
   },
   "outputs": [
    {
     "name": "stdout",
     "output_type": "stream",
     "text": [
      "259 ms ± 2.25 ms per loop (mean ± std. dev. of 7 runs, 1 loop each)\n"
     ]
    }
   ],
   "source": [
    "%timeit multi_step_simulation(state, 1000, 100)"
   ]
  },
  {
   "cell_type": "markdown",
   "id": "a4b0a528",
   "metadata": {
    "ExecuteTime": {
     "end_time": "2023-11-02T10:40:20.517751Z",
     "start_time": "2023-11-02T10:40:20.516221Z"
    }
   },
   "source": [
    "# Visualization"
   ]
  },
  {
   "cell_type": "code",
   "execution_count": 26,
   "id": "98c8c8cf",
   "metadata": {
    "ExecuteTime": {
     "end_time": "2023-11-27T09:24:00.637065Z",
     "start_time": "2023-11-27T09:24:00.436416Z"
    }
   },
   "outputs": [
    {
     "name": "stderr",
     "output_type": "stream",
     "text": [
      "/tmp/ipykernel_17922/982133874.py:9: RuntimeWarning: invalid value encountered in subtract\n",
      "  vorticity = (\n"
     ]
    }
   ],
   "source": [
    "import matplotlib.pyplot as plt\n",
    "import matplotlib.colors as clr\n",
    "import skimage.filters\n",
    "\n",
    "ux_final, uy_final = rearrange(final_step[\"u\"], \"t i y x -> x t i y\")#.transpose(3, 0, 1, 2)\n",
    "\n",
    "# ux_final[:,obstacle] = 0\n",
    "# uy_final[:,obstacle] = 0\n",
    "vorticity = (\n",
    "    np.roll(ux_final, -1, axis=1) - np.roll(ux_final, 1, axis=1)\n",
    ") - (\n",
    "    np.roll(uy_final, -1, axis=2) - np.roll(uy_final, 1, axis=2))"
   ]
  },
  {
   "cell_type": "markdown",
   "id": "6992736d",
   "metadata": {},
   "source": [
    "## Quiver Plot"
   ]
  },
  {
   "cell_type": "code",
   "execution_count": 27,
   "id": "3836e621",
   "metadata": {
    "ExecuteTime": {
     "end_time": "2023-11-27T09:24:00.740766Z",
     "start_time": "2023-11-27T09:24:00.637840Z"
    }
   },
   "outputs": [
    {
     "data": {
      "text/plain": [
       "<matplotlib.quiver.Quiver at 0x7fd677719b50>"
      ]
     },
     "execution_count": 27,
     "metadata": {},
     "output_type": "execute_result"
    },
    {
     "data": {
      "image/png": "[encoded data removed]",
      "text/plain": [
       "<Figure size 640x480 with 1 Axes>"
      ]
     },
     "metadata": {},
     "output_type": "display_data"
    }
   ],
   "source": [
    "szx = LX\n",
    "szy = LY\n",
    "timestep = 1\n",
    "\n",
    "# Plotting all the arrows will be messy so we are sampling one in every 16 points\n",
    "skip = 4\n",
    "x = np.linspace(0,szx-1,szx//skip)\n",
    "y = np.linspace(0,szy-1,szy//skip)\n",
    "\n",
    "u = ux_final[timestep][:szx:skip,:szx:skip]\n",
    "v = uy_final[timestep][:szy:skip,:szy:skip]\n",
    "\n",
    "plt.quiver(x, y, u, v)"
   ]
  },
  {
   "cell_type": "markdown",
   "id": "6462b7fc",
   "metadata": {},
   "source": [
    "## Vorticity"
   ]
  },
  {
   "cell_type": "code",
   "execution_count": 28,
   "id": "e78cd81a",
   "metadata": {
    "ExecuteTime": {
     "end_time": "2023-11-27T09:24:00.864769Z",
     "start_time": "2023-11-27T09:24:00.743738Z"
    }
   },
   "outputs": [
    {
     "name": "stdout",
     "output_type": "stream",
     "text": [
      "0.018895548\n"
     ]
    },
    {
     "data": {
      "text/plain": [
       "<matplotlib.colorbar.Colorbar at 0x7fd630778f10>"
      ]
     },
     "execution_count": 28,
     "metadata": {},
     "output_type": "execute_result"
    },
    {
     "data": {
      "image/png": "[encoded data removed]",
      "text/plain": [
       "<Figure size 1800x600 with 2 Axes>"
      ]
     },
     "metadata": {},
     "output_type": "display_data"
    }
   ],
   "source": [
    "plt.figure(figsize=(18, 6))\n",
    "\n",
    "frame = vorticity[1]\n",
    "\n",
    "this_vmax = np.max(abs(frame))\n",
    "\n",
    "print(this_vmax)\n",
    "\n",
    "norm = clr.Normalize(vmin=-this_vmax, vmax=this_vmax)\n",
    "\n",
    "# plt.axis('off')\n",
    "plt.imshow(frame[10:-10, 10:-10], cmap='RdBu', norm=norm);\n",
    "plt.colorbar()\n",
    "# plt.clim(-.001, .001)"
   ]
  },
  {
   "cell_type": "code",
   "execution_count": 29,
   "id": "29ab3475",
   "metadata": {
    "ExecuteTime": {
     "end_time": "2023-11-27T09:24:00.982690Z",
     "start_time": "2023-11-27T09:24:00.865485Z"
    }
   },
   "outputs": [
    {
     "data": {
      "image/png": "[encoded data removed]",
      "text/plain": [
       "<Figure size 1400x1400 with 10 Axes>"
      ]
     },
     "metadata": {},
     "output_type": "display_data"
    }
   ],
   "source": [
    "n = 10\n",
    "samples = 100\n",
    "fig, axes = plt.subplots(n, 1, figsize=(14, 14))\n",
    "[ax.axis('off') for ax in axes]\n",
    "\n",
    "# axes[0].cmap\n",
    "# fig.colorbar()\n",
    "axes[0].imshow(vorticity[0], cmap='RdBu', vmin=-0.01, vmax=0.01)\n",
    "for i in range(min(n-1, len(vorticity)-1)):\n",
    "    axes[i+1].imshow(vorticity[i + 1], cmap='RdBu', vmin=-0.01, vmax=0.01)"
   ]
  },
  {
   "cell_type": "code",
   "execution_count": 30,
   "id": "f61d52c1",
   "metadata": {
    "ExecuteTime": {
     "end_time": "2023-11-27T09:24:00.991546Z",
     "start_time": "2023-11-27T09:24:00.983519Z"
    }
   },
   "outputs": [
    {
     "name": "stderr",
     "output_type": "stream",
     "text": [
      "/home/nimalan/miniconda3/envs/ml/lib/python3.11/site-packages/matplotlib/colors.py:1354: RuntimeWarning: overflow encountered in divide\n",
      "  resdat /= (vmax - vmin)\n",
      "/home/nimalan/miniconda3/envs/ml/lib/python3.11/site-packages/matplotlib/colors.py:719: RuntimeWarning: overflow encountered in multiply\n",
      "  xa *= self.N\n"
     ]
    }
   ],
   "source": [
    "import matplotlib.cm\n",
    "import matplotlib.colors\n",
    "from PIL import Image\n",
    "\n",
    "def make_images(data, cmap='RdBu', vmax=None):\n",
    "    images = []\n",
    "    for frame in data:\n",
    "        if vmax is None:\n",
    "            this_vmax = np.max(abs(frame))\n",
    "        else:\n",
    "            this_vmax = vmax\n",
    "        norm = matplotlib.colors.Normalize(vmin=-this_vmax, vmax=this_vmax)\n",
    "        mappable = matplotlib.cm.ScalarMappable(norm=norm, cmap=cmap)\n",
    "        rgba = mappable.to_rgba(frame, bytes=True)\n",
    "        image = Image.fromarray(rgba, mode='RGBA')\n",
    "        images.append(image)\n",
    "    return images\n",
    "\n",
    "def save_movie(images, path, duration=100, loop=0, **kwargs):\n",
    "    images[0].save(path, save_all=True, append_images=images[1:],\n",
    "                 duration=duration, loop=loop, **kwargs)\n",
    "\n",
    "images = make_images(vorticity, vmax=0.0001)\n"
   ]
  },
  {
   "cell_type": "code",
   "execution_count": 31,
   "id": "81b8d78e",
   "metadata": {
    "ExecuteTime": {
     "end_time": "2023-11-27T09:24:01.126402Z",
     "start_time": "2023-11-27T09:24:00.992399Z"
    }
   },
   "outputs": [
    {
     "data": {
      "text/html": [
       "<div align=middle><video src='data:video/mp4;base64,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' controls>Sorry, seems like your browser doesn't support HTML5 audio/video</video></div>"
      ],
      "text/plain": [
       "<moviepy.video.io.html_tools.HTML2 object>"
      ]
     },
     "execution_count": 31,
     "metadata": {},
     "output_type": "execute_result"
    }
   ],
   "source": [
    "from functools import partial\n",
    "import proglog\n",
    "import skimage.filters\n",
    "from moviepy.editor import ImageSequenceClip\n",
    "\n",
    "# Show Movie\n",
    "proglog.default_bar_logger = partial(proglog.default_bar_logger, None)\n",
    "ImageSequenceClip([np.array(im) for im in images], fps=2).ipython_display()"
   ]
  },
  {
   "cell_type": "code",
   "execution_count": 32,
   "id": "dcc3712e",
   "metadata": {
    "ExecuteTime": {
     "end_time": "2023-11-27T09:24:01.130748Z",
     "start_time": "2023-11-27T09:24:01.127757Z"
    }
   },
   "outputs": [],
   "source": [
    "# save_movie(images,'wave_movie.gif', duration=[2000]+[200]*(len(images)-2)+[2000])"
   ]
  },
  {
   "cell_type": "code",
   "execution_count": null,
   "id": "bfb19df3",
   "metadata": {},
   "outputs": [],
   "source": []
  }
 ],
 "metadata": {
  "kernelspec": {
   "display_name": "Python 3 (ipykernel)",
   "language": "python",
   "name": "python3"
  },
  "language_info": {
   "codemirror_mode": {
    "name": "ipython",
    "version": 3
   },
   "file_extension": ".py",
   "mimetype": "text/x-python",
   "name": "python",
   "nbconvert_exporter": "python",
   "pygments_lexer": "ipython3",
   "version": "3.11.0"
  },
  "varInspector": {
   "cols": {
    "lenName": 16,
    "lenType": 16,
    "lenVar": 40
   },
   "kernels_config": {
    "python": {
     "delete_cmd_postfix": "",
     "delete_cmd_prefix": "del ",
     "library": "var_list.py",
     "varRefreshCmd": "print(var_dic_list())"
    },
    "r": {
     "delete_cmd_postfix": ") ",
     "delete_cmd_prefix": "rm(",
     "library": "var_list.r",
     "varRefreshCmd": "cat(var_dic_list()) "
    }
   },
   "types_to_exclude": [
    "module",
    "function",
    "builtin_function_or_method",
    "instance",
    "_Feature"
   ],
   "window_display": false
  }
 },
 "nbformat": 4,
 "nbformat_minor": 5
}
