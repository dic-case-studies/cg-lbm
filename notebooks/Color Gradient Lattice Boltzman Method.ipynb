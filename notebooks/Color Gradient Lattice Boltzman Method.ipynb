{
 "cells": [
  {
   "cell_type": "code",
   "execution_count": 1,
   "id": "4d0771e1",
   "metadata": {
    "ExecuteTime": {
     "end_time": "2023-11-23T12:43:01.430338Z",
     "start_time": "2023-11-23T12:43:01.178017Z"
    }
   },
   "outputs": [],
   "source": [
    "import configparser\n",
    "import jax.numpy as jnp\n",
    "from jax import jit, grad, vmap\n",
    "from jax import random, lax, tree_util\n",
    "import jax\n",
    "from functools import partial\n",
    "from einops import rearrange\n",
    "\n",
    "from jax import Array\n",
    "from jax.typing import ArrayLike\n"
   ]
  },
  {
   "cell_type": "markdown",
   "id": "ddfaf13a",
   "metadata": {},
   "source": [
    "# Simulation Code"
   ]
  },
  {
   "cell_type": "code",
   "execution_count": 2,
   "id": "630a2e45",
   "metadata": {
    "ExecuteTime": {
     "end_time": "2023-11-23T12:43:01.433345Z",
     "start_time": "2023-11-23T12:43:01.431622Z"
    },
    "code_folding": []
   },
   "outputs": [],
   "source": [
    "def compute_phase_field(f, **kwargs):\n",
    "    return jnp.einsum(\"kij->ij\", f)"
   ]
  },
  {
   "cell_type": "code",
   "execution_count": 3,
   "id": "c0b76c1a",
   "metadata": {
    "ExecuteTime": {
     "end_time": "2023-11-23T12:43:01.451093Z",
     "start_time": "2023-11-23T12:43:01.434069Z"
    },
    "code_folding": []
   },
   "outputs": [],
   "source": [
    "@jit\n",
    "@partial(vmap, in_axes=(None, None, None, 0, None, None), out_axes=0)\n",
    "def _eq_dist(cXYs, weights, phi_weights, k, pressure, u):\n",
    "    cu = jnp.sum(u * cXYs[k])\n",
    "    u2 = jnp.sum(jnp.square(u))\n",
    "\n",
    "    def equi_0(k, phi_weights, weights, pressure, u2, cu):\n",
    "        return phi_weights[0] * (1 - weights[0]) * 3.0 * pressure - weights[0] * u2 * 1.5\n",
    "\n",
    "    def equi_k(k, phi_weights, weights, pressure, u2, cu):\n",
    "        return phi_weights[k] * weights[k] * 3.0 * pressure - weights[k] * (1.5 * u2 + 3.0 * cu + 4.5 * cu * cu)\n",
    "\n",
    "    return lax.cond(k == 0,\n",
    "                    equi_0,\n",
    "                    equi_k,\n",
    "                    k, phi_weights, weights, pressure, u2, cu)\n",
    "\n",
    "__eq_dist = vmap(_eq_dist, in_axes=(None, None, None, None, 0, 0), out_axes=1)\n",
    "eq_dist = vmap(__eq_dist, in_axes=(None, None, None, None, 0, 0), out_axes=1)"
   ]
  },
  {
   "cell_type": "code",
   "execution_count": 4,
   "id": "632ab4a4",
   "metadata": {
    "ExecuteTime": {
     "end_time": "2023-11-23T12:43:01.464594Z",
     "start_time": "2023-11-23T12:43:01.452167Z"
    },
    "code_folding": []
   },
   "outputs": [],
   "source": [
    "@jit\n",
    "@partial(vmap, in_axes=(None, None, 0, 0), out_axes=1)\n",
    "@partial(vmap, in_axes=(None, None, 0, 0), out_axes=1)\n",
    "# @partial(vmap, in_axes=(None, None, 0, None, None), out_axes=0)\n",
    "# @chex.assert_max_traces(n=1)\n",
    "def eq_dist_phase_field(cXYs, weights, phi, u):\n",
    "    cu = jnp.sum(u * cXYs)\n",
    "    u2 = jnp.sum(jnp.square(u))\n",
    "    return weights * phi * (1.0 - 1.5 * u2 + 3.0 * cu + 4.5 * cu * cu)"
   ]
  },
  {
   "cell_type": "markdown",
   "id": "bf132476",
   "metadata": {},
   "source": [
    "## Density and Velocity update\n",
    "\n",
    "### Notes about the functions\n",
    "\n",
    "1. Every function is pure without side effects\n",
    "2. They work for a single grid point\n",
    "3. These functions will be vectorized to map over the entire grid\n"
   ]
  },
  {
   "cell_type": "code",
   "execution_count": 5,
   "id": "e31a868b",
   "metadata": {
    "ExecuteTime": {
     "end_time": "2023-11-23T12:43:01.473503Z",
     "start_time": "2023-11-23T12:43:01.465178Z"
    },
    "code_folding": []
   },
   "outputs": [],
   "source": [
    "def compute_dst_phase_field(cXs, cYs, phase_field, **kwargs):\n",
    "    dst_phase_field = []\n",
    "\n",
    "    for i, cx, cy in zip(jnp.arange(9), cXs, cYs):\n",
    "        dst_phase_field.append(\n",
    "            jnp.roll(phase_field, (-cx, -cy), axis=(0, 1)))\n",
    "\n",
    "    return jnp.stack(dst_phase_field)\n",
    "# rearrange(, \"k i j -> i j k\") #.transpose(1, 2, 0)"
   ]
  },
  {
   "cell_type": "code",
   "execution_count": 6,
   "id": "ab617c60",
   "metadata": {
    "ExecuteTime": {
     "end_time": "2023-11-23T12:43:01.482735Z",
     "start_time": "2023-11-23T12:43:01.474143Z"
    },
    "code_folding": []
   },
   "outputs": [],
   "source": [
    "@jit\n",
    "@partial(vmap, in_axes=(None, None, 1), out_axes=0)\n",
    "@partial(vmap, in_axes=(None, None, 1), out_axes=0)\n",
    "def compute_phi_grad(cXYs, weights, dst_phase_field, **kwargs):\n",
    "    phi_grad = 3 * jnp.einsum(\"k,k,kx->x\", weights, dst_phase_field, cXYs)\n",
    "\n",
    "    return phi_grad"
   ]
  },
  {
   "cell_type": "code",
   "execution_count": 7,
   "id": "3d6ded88",
   "metadata": {
    "ExecuteTime": {
     "end_time": "2023-11-23T12:43:01.492352Z",
     "start_time": "2023-11-23T12:43:01.483650Z"
    },
    "code_folding": []
   },
   "outputs": [],
   "source": [
    "@jit\n",
    "@partial(vmap, in_axes=(None, None, None, 0, 1, 0), out_axes=0)\n",
    "@partial(vmap, in_axes=(None, None, None, 0, 1, 0), out_axes=0)\n",
    "def surface_tension_force(surface_tension, width, weights, phase_field, dst_phase_field, phi_grad):\n",
    "    phase_diff = dst_phase_field - phase_field\n",
    "    laplacian_loc = 6 * jnp.einsum(\"k,k\", phase_diff, weights)\n",
    "\n",
    "    phase_term = (48 * phase_field * (1 - phase_field) * (0.5 - phase_field)) / width \n",
    "    phase_term -= (1.5 * width * laplacian_loc)\n",
    "\n",
    "    curvature_force = surface_tension * phase_term * phi_grad #jnp.einsum(\",vij->vij\", phase_term, phi_grad)\n",
    "\n",
    "    return curvature_force"
   ]
  },
  {
   "cell_type": "code",
   "execution_count": 8,
   "id": "f9ac8103",
   "metadata": {
    "ExecuteTime": {
     "end_time": "2023-11-23T12:43:01.506227Z",
     "start_time": "2023-11-23T12:43:01.493190Z"
    },
    "code_folding": []
   },
   "outputs": [],
   "source": [
    "@jit\n",
    "@partial(vmap, in_axes=(None, None, None, 0, 0, 0, 1), out_axes=0)\n",
    "@partial(vmap, in_axes=(None, None, None, 0, 0, 0, 1), out_axes=0)\n",
    "def compute_mom(\n",
    "    kin_visc_one,\n",
    "    kin_visc_two,\n",
    "    M_D2Q9,\n",
    "    u,\n",
    "    pressure,\n",
    "    phase_field,\n",
    "    N):\n",
    "    alpha = 4.0 / 9.0\n",
    "    u2 = u[0] * u[0] + u[1] * u[1]\n",
    "    mom_eq = jnp.array([1.0,\n",
    "                        -(2 + 18 * alpha) / 5.0 + 3.0 * (u2 + 2 * pressure),\n",
    "                        (-7.0 + 27 * alpha) / 5 - 3.0 * (u2 + 3 * pressure),\n",
    "                        u[0],\n",
    "                        -u[0],\n",
    "                        u[1],\n",
    "                        -u[1],\n",
    "                        u[0] * u[0] - u[1] * u[1],\n",
    "                        u[0] * u[1]])\n",
    "\n",
    "    inv_kin_visc = (phase_field / kin_visc_one) + \\\n",
    "        (1 - phase_field) / kin_visc_two\n",
    "    kin_visc_local = 1 / inv_kin_visc\n",
    "\n",
    "    mom = jnp.einsum('kl,l->k', M_D2Q9, N)\n",
    "\n",
    "    return mom, mom_eq, kin_visc_local"
   ]
  },
  {
   "cell_type": "code",
   "execution_count": 9,
   "id": "498cf0b4",
   "metadata": {
    "ExecuteTime": {
     "end_time": "2023-11-23T12:43:01.515268Z",
     "start_time": "2023-11-23T12:43:01.507047Z"
    },
    "code_folding": []
   },
   "outputs": [],
   "source": [
    "@jit\n",
    "@partial(vmap, in_axes=(None, None, None, None, None, None, 0, 0, 0, 0), out_axes=0)\n",
    "@partial(vmap, in_axes=(None, None, None, None, None, None, 0, 0, 0, 0), out_axes=0)\n",
    "def compute_viscosity_correction(\n",
    "    kin_visc_one,\n",
    "    kin_visc_two,\n",
    "    invM_D2Q9,\n",
    "    cMs,\n",
    "    density_one,\n",
    "    density_two,\n",
    "    phi_grad,\n",
    "    kin_visc_local,\n",
    "    mom,\n",
    "    mom_eq):\n",
    "    \n",
    "    tauL = 0.5 + 3 * kin_visc_local\n",
    "    \n",
    "    S_D2Q9 = jnp.ones(9)\n",
    "    S_D2Q9 = S_D2Q9.at[7].set(1.0 / tauL)\n",
    "    S_D2Q9 = S_D2Q9.at[8].set(1.0 / tauL)\n",
    "    \n",
    "    mom_diff = jnp.einsum(\n",
    "        'kl,l,l->k', invM_D2Q9, S_D2Q9, (mom - mom_eq))\n",
    "    \n",
    "    viscous_force = -3.0 * kin_visc_local * \\\n",
    "        (density_one - density_two) * \\\n",
    "        jnp.einsum('kmn, k, n -> m',  cMs, mom_diff, phi_grad)\n",
    "\n",
    "    return viscous_force"
   ]
  },
  {
   "cell_type": "code",
   "execution_count": 10,
   "id": "63fdc8e9",
   "metadata": {
    "ExecuteTime": {
     "end_time": "2023-11-23T12:43:01.528945Z",
     "start_time": "2023-11-23T12:43:01.516905Z"
    },
    "code_folding": []
   },
   "outputs": [],
   "source": [
    "@jit\n",
    "@partial(vmap, in_axes=(None, None, 0, 0, 0), out_axes=0)\n",
    "@partial(vmap, in_axes=(None, None, 0, 0, 0), out_axes=0)\n",
    "def compute_total_force(\n",
    "    gravityX,\n",
    "    gravityY,\n",
    "    curvature_force,\n",
    "    viscous_force,\n",
    "    rho):\n",
    "    rest_force = jnp.stack([rho* gravityX, rho * gravityY])\n",
    "    return rest_force + curvature_force + viscous_force"
   ]
  },
  {
   "cell_type": "code",
   "execution_count": 11,
   "id": "6c6f9042",
   "metadata": {
    "ExecuteTime": {
     "end_time": "2023-11-23T12:43:01.538844Z",
     "start_time": "2023-11-23T12:43:01.529775Z"
    },
    "code_folding": []
   },
   "outputs": [],
   "source": [
    "# TODO: Recheck this function\n",
    "@jit\n",
    "@partial(vmap, in_axes=(None, None, None, None, 0, 0, 0, 1, 0), out_axes=0)\n",
    "@partial(vmap, in_axes=(None, None, None, None, 0, 0, 0, 1, 0), out_axes=0)\n",
    "def compute_density_velocity_pressure(\n",
    "    density_one,\n",
    "    density_two,\n",
    "    weights,\n",
    "    phi_weights,\n",
    "    pressure,\n",
    "    phase_field,\n",
    "    phi_grad,\n",
    "    N,\n",
    "    total_force):\n",
    "    \n",
    "    # This function is supposed to happen when obstacle != 1\n",
    "    \n",
    "    sumNX = jnp.dot(N, cXs)\n",
    "    sumNY = jnp.dot(N, cYs)\n",
    "    sumNV = jnp.stack([sumNX, sumNY])\n",
    "    \n",
    "    sumN = jnp.sum(N)\n",
    "    \n",
    "    rho = density_one * phase_field + \\\n",
    "        density_two * (1 - phase_field)\n",
    "    \n",
    "    # TODO: There was a for loop here is it really needed?\n",
    "    u = sumNV + total_force - (pressure * (density_one - density_two) * phi_grad) / rho\n",
    "    usq = jnp.sum(jnp.square(u))\n",
    "    \n",
    "    pressure = (sumN / 3.0 - weights[0] * usq * 0.5 - (1 - phi_weights[0]) / 3.0) / (1 - weights[0])\n",
    "    \n",
    "    interface_force = total_force - pressure * (density_one - density_two) * phi_grad\n",
    "    \n",
    "    return rho, u, pressure, interface_force"
   ]
  },
  {
   "cell_type": "markdown",
   "id": "c2e92968",
   "metadata": {},
   "source": [
    "## Collision"
   ]
  },
  {
   "cell_type": "code",
   "execution_count": 12,
   "id": "d74d08c1",
   "metadata": {
    "ExecuteTime": {
     "end_time": "2023-11-23T12:43:01.552682Z",
     "start_time": "2023-11-23T12:43:01.539616Z"
    },
    "code_folding": []
   },
   "outputs": [],
   "source": [
    "@jit\n",
    "@partial(vmap, in_axes=(None, 0, 0, 0, 0, 0, 0, 1), out_axes=1)\n",
    "@partial(vmap, in_axes=(None, 0, 0, 0, 0, 0, 0, 1), out_axes=1)\n",
    "def compute_collision(\n",
    "    invM_D2Q9,\n",
    "    obs,\n",
    "    mom,\n",
    "    mom_eq,\n",
    "    kin_visc_local,\n",
    "    interface_force,\n",
    "    rho,\n",
    "    N \n",
    "):\n",
    "    # TODO: For collision the u, pressure, rho are are supposed to be taken after\n",
    "    # the compute_density_velocity_pressure\n",
    "    tauL = 0.5 + 3 * kin_visc_local\n",
    "\n",
    "    S_D2Q9 = jnp.ones(9)\n",
    "    S_D2Q9 = S_D2Q9.at[7].set(1.0 / tauL)\n",
    "    S_D2Q9 = S_D2Q9.at[8].set(1.0 / tauL)\n",
    "\n",
    "    force = interface_force / rho\n",
    "\n",
    "    force_eq = jnp.zeros(9)\n",
    "    force_eq = force_eq.at[3].set(force[0])\n",
    "    force_eq = force_eq.at[4].set(-force[0])\n",
    "    force_eq = force_eq.at[5].set(force[1])\n",
    "    force_eq = force_eq.at[6].set(-force[1])\n",
    "\n",
    "    mom_diff = mom - S_D2Q9 * (mom - mom_eq) + (force_eq - 0.5 * S_D2Q9 * force_eq)\n",
    "    N_new = jnp.einsum(\"kl,l->k\", invM_D2Q9, mom_diff)\n",
    "    \n",
    "    # We will have to compute this to avoid divergence\n",
    "    return lax.select(obs, N_new[np.array([0, 3, 4, 1, 2, 7, 8, 5, 6])], N_new)"
   ]
  },
  {
   "cell_type": "code",
   "execution_count": 13,
   "id": "8d7818c3",
   "metadata": {
    "ExecuteTime": {
     "end_time": "2023-11-23T12:43:01.566449Z",
     "start_time": "2023-11-23T12:43:01.553446Z"
    }
   },
   "outputs": [],
   "source": [
    "@jit\n",
    "@partial(vmap, in_axes=(None, None, None, None, 0, 0, 0, 0, 0, 1), out_axes=1)\n",
    "@partial(vmap, in_axes=(None, None, None, None, 0, 0, 0, 0, 0, 1), out_axes=1)\n",
    "def compute_segregation(\n",
    "    width,\n",
    "    cXYs,\n",
    "    weights,\n",
    "    phi_weights,\n",
    "    phase_field,\n",
    "    phi_grad,\n",
    "    pressure,\n",
    "    rho,\n",
    "    u,\n",
    "    N_new\n",
    "):\n",
    "    phi_mag = jnp.sqrt(jnp.sum(jnp.square(phi_grad)))\n",
    "    \n",
    "    # (phigrad_dot_c / phi_mag) is nan for non interface region\n",
    "    \n",
    "    # [k]\n",
    "    N_eq = _eq_dist(cXYs, weights, phi_weights, jnp.arange(9), pressure, u)\n",
    "    # 9, 2\n",
    "    phigrad_dot_c = jnp.sum(phi_grad * cXYs, axis=1)\n",
    "    seg_term = (2.0 / width) * (1.0 - phase_field) * phase_field * (phigrad_dot_c / phi_mag) * N_eq\n",
    "    \n",
    "    f_new = phase_field * N_new + seg_term\n",
    "    return f_new"
   ]
  },
  {
   "cell_type": "code",
   "execution_count": 14,
   "id": "c783761d",
   "metadata": {
    "ExecuteTime": {
     "end_time": "2023-11-23T12:43:01.575576Z",
     "start_time": "2023-11-23T12:43:01.567244Z"
    },
    "code_folding": []
   },
   "outputs": [],
   "source": [
    "@partial(vmap, in_axes=(None, None, None, 0, 0, 1, 1, 1, 1), out_axes=1)\n",
    "@partial(vmap, in_axes=(None, None, None, 0, 0, 1, 1, 1, 1), out_axes=1)\n",
    "def handle_obstacle(cXs, cYs, weights, obs, obsVel, f_new, f_new_dst, N_new, N_new_dst):\n",
    "    N_invert = N_new[np.array([0, 3, 4, 1, 2, 7, 8, 5, 6])] * 6.0 * weights * (cXs * obsVel[0] + cYs * obsVel[1])\n",
    "    f_invert = f_new[np.array([0, 3, 4, 1, 2, 7, 8, 5, 6])]\n",
    "    \n",
    "    f = lax.select(obs, f_invert, f_new_dst)\n",
    "    N = lax.select(obs, N_invert, N_new_dst)\n",
    "    return N, f"
   ]
  },
  {
   "cell_type": "code",
   "execution_count": 15,
   "id": "d9899a80",
   "metadata": {
    "ExecuteTime": {
     "end_time": "2023-11-23T12:43:01.589442Z",
     "start_time": "2023-11-23T12:43:01.576337Z"
    },
    "code_folding": []
   },
   "outputs": [],
   "source": [
    "@jit\n",
    "def compute_propagation(cXs, cYs, weights, obs, obsVel, N_new, f_new):\n",
    "    N = []\n",
    "    f = []\n",
    "    for i, cx, cy in zip(jnp.arange(9), cXs, cYs):\n",
    "        N.append(jnp.roll(N_new[i], (-cx, -cy), axis=(0, 1)))\n",
    "        f.append(jnp.roll(f_new[i], (-cx, -cy), axis=(0, 1)))\n",
    "\n",
    "    N_dst = jnp.stack(N)\n",
    "    f_dst = jnp.stack(f)\n",
    "    \n",
    "    return handle_obstacle(cXs, cYs, weights, obs, obsVel, f_new, f_dst, N_new, N_dst)"
   ]
  },
  {
   "cell_type": "markdown",
   "id": "e00b1378",
   "metadata": {},
   "source": [
    "# Simulation Loop"
   ]
  },
  {
   "cell_type": "code",
   "execution_count": 16,
   "id": "b2f9be7a",
   "metadata": {
    "ExecuteTime": {
     "end_time": "2023-11-23T12:43:01.599130Z",
     "start_time": "2023-11-23T12:43:01.590162Z"
    },
    "code_folding": []
   },
   "outputs": [],
   "source": [
    "@jit\n",
    "def simulation_step(state, idx):\n",
    "    # [i,j,k]\n",
    "    phase_field = compute_phase_field(**state)\n",
    "    dst_phase_field = compute_dst_phase_field(phase_field=phase_field, **state)\n",
    "    \n",
    "    # VMapped functions\n",
    "    \n",
    "    phi_grad = compute_phi_grad(state[\"cXYs\"], state[\"weights\"], dst_phase_field)\n",
    "    \n",
    "    curvature_force = surface_tension_force(\n",
    "        state[\"surface_tension\"],\n",
    "        state[\"width\"],\n",
    "        state[\"weights\"],\n",
    "        phase_field,\n",
    "        dst_phase_field,\n",
    "        phi_grad)\n",
    "\n",
    "    mom, mom_eq, kin_visc_local = compute_mom(\n",
    "        state[\"kin_visc_one\"],\n",
    "        state[\"kin_visc_two\"],\n",
    "        state[\"M_D2Q9\"],\n",
    "        state[\"u\"],\n",
    "        state[\"pressure\"],\n",
    "        phase_field,\n",
    "        state[\"N\"])\n",
    "    \n",
    "    viscous_force = compute_viscosity_correction(\n",
    "        state[\"kin_visc_one\"],\n",
    "        state[\"kin_visc_two\"],\n",
    "        state[\"invM_D2Q9\"],\n",
    "        state[\"cMs\"],\n",
    "        state[\"density_one\"],\n",
    "        state[\"density_two\"],\n",
    "        phi_grad,\n",
    "        kin_visc_local,\n",
    "        mom,\n",
    "        mom_eq)\n",
    "\n",
    "    total_force = compute_total_force(\n",
    "        state[\"gravityX\"],\n",
    "        state[\"gravityY\"],\n",
    "        curvature_force,\n",
    "        viscous_force,\n",
    "        state[\"rho\"]\n",
    "    )\n",
    "    \n",
    "    rho, u, pressure, interface_force = compute_density_velocity_pressure(\n",
    "        state[\"density_one\"],\n",
    "        state[\"density_two\"],\n",
    "        state[\"weights\"],\n",
    "        state[\"phi_weights\"],\n",
    "        state[\"pressure\"],\n",
    "        phase_field,\n",
    "        phi_grad,\n",
    "        state[\"N\"],\n",
    "        total_force\n",
    "    )\n",
    "    \n",
    "    N_new = compute_collision(\n",
    "        state[\"invM_D2Q9\"],\n",
    "        state[\"obs\"],\n",
    "        mom,\n",
    "        mom_eq,\n",
    "        kin_visc_local,\n",
    "        interface_force,\n",
    "        state[\"rho\"],\n",
    "        state[\"N\"]\n",
    "    )\n",
    "    \n",
    "        \n",
    "    f_new = compute_segregation(\n",
    "        state[\"width\"],\n",
    "        state[\"cXYs\"],\n",
    "        state[\"weights\"],\n",
    "        state[\"phi_weights\"],\n",
    "        phase_field,\n",
    "        phi_grad,\n",
    "        pressure,\n",
    "        rho,\n",
    "        u,\n",
    "        N_new\n",
    "    )\n",
    "    \n",
    "    N, f = compute_propagation(\n",
    "        state[\"cXs\"],\n",
    "        state[\"cYs\"],\n",
    "        state[\"weights\"],\n",
    "        state[\"obs\"],\n",
    "        state[\"obs_vel\"],\n",
    "        N_new,\n",
    "        f_new\n",
    "    )\n",
    "    \n",
    "#     jax.debug.print(f\"Nshape {N.shape}\")\n",
    "\n",
    "    new_state = {\n",
    "        **state,\n",
    "        \"u\": u,\n",
    "        \"pressure\": pressure,\n",
    "        \"rho\": rho,\n",
    "        \"N\": N,\n",
    "        \"f\": f\n",
    "    }\n",
    "    return new_state"
   ]
  },
  {
   "cell_type": "code",
   "execution_count": 17,
   "id": "bdd03736",
   "metadata": {
    "ExecuteTime": {
     "end_time": "2023-11-23T12:43:01.612364Z",
     "start_time": "2023-11-23T12:43:01.599903Z"
    },
    "scrolled": true
   },
   "outputs": [],
   "source": [
    "# st_2 = simulation_step(state, 1)\n",
    "# simulation_step(st_2, 2)"
   ]
  },
  {
   "cell_type": "code",
   "execution_count": 18,
   "id": "3ae87427",
   "metadata": {
    "ExecuteTime": {
     "end_time": "2023-11-23T12:43:01.621182Z",
     "start_time": "2023-11-23T12:43:01.613098Z"
    }
   },
   "outputs": [],
   "source": [
    "@jit\n",
    "def multi_step_simulation_block(state, nr_iter):\n",
    "    return lax.fori_loop(0, nr_iter, lambda i, s: simulation_step(s, i), state)"
   ]
  },
  {
   "cell_type": "code",
   "execution_count": 19,
   "id": "18a6be7e",
   "metadata": {
    "ExecuteTime": {
     "end_time": "2023-11-23T12:43:01.630170Z",
     "start_time": "2023-11-23T12:43:01.621943Z"
    },
    "code_folding": [
     3
    ]
   },
   "outputs": [],
   "source": [
    "import numpy as np\n",
    "# We need numpy here where we transfer data from the GPU\n",
    "\n",
    "# Note: There needs to be a separate function for calling\n",
    "# multi_step_simulation_block so that we can shard and perform pmap later\n",
    "def multi_step_simulation(state, nr_iter, save_interval=200):\n",
    "\n",
    "    results = [{\n",
    "        \"u\": state[\"u\"]\n",
    "#         \"N\": state[\"N\"]\n",
    "    }]\n",
    "\n",
    "    for _ in range(nr_iter // save_interval):\n",
    "        state = multi_step_simulation_block(state, save_interval)\n",
    "        results.append({\n",
    "            \"u\": state[\"u\"]\n",
    "#             \"N\": state[\"N\"]\n",
    "        })\n",
    "    # Receive the buffer from the Accelerator\n",
    "    results = jax.device_get(results)\n",
    "    return tree_util.tree_map(\n",
    "        lambda *rs: np.stack([np.array(r) for r in rs]),\n",
    "        *results)"
   ]
  },
  {
   "cell_type": "markdown",
   "id": "cd466560",
   "metadata": {},
   "source": [
    "# Simulation Parameters\n"
   ]
  },
  {
   "cell_type": "code",
   "execution_count": 20,
   "id": "d41d50d5",
   "metadata": {
    "ExecuteTime": {
     "end_time": "2023-11-23T12:43:01.644539Z",
     "start_time": "2023-11-23T12:43:01.630937Z"
    },
    "code_folding": [
     4
    ]
   },
   "outputs": [],
   "source": [
    "beta = 9\n",
    "alpha = 4.0 / 9.0\n",
    "\n",
    "\n",
    "class SimParams:\n",
    "    def __init__(self, config_file):\n",
    "        self.parse_params(config_file)\n",
    "\n",
    "    def parse_params(self, config_file):\n",
    "        config = configparser.ConfigParser()\n",
    "        config.read(config_file)\n",
    "        pt = config[\"Simulation\"]\n",
    "\n",
    "        # We could destructure into a map\n",
    "        self.LX = int(pt.get(\"LX\", 0))\n",
    "        self.LY = int(pt.get(\"LY\", 0))\n",
    "        self.NL = 9\n",
    "        self.nr_iterations = int(pt.get(\"nr_iterations\", 0))\n",
    "        self.nr_samples = int(pt.get(\"nr_samples\", 0))\n",
    "        self.kin_visc_one = float(pt.get(\"kin_visc_one\", 0.0))\n",
    "        self.kin_visc_two = float(pt.get(\"kin_visc_two\", 0.0))\n",
    "        self.density_one = float(pt.get(\"density_one\", 0.0))\n",
    "        self.density_two = float(pt.get(\"density_two\", 0.0))\n",
    "        self.gravityX = float(pt.get(\"gravityX\", 0.0))\n",
    "        self.gravityY = float(pt.get(\"gravityY\", 0.0))\n",
    "        self.width = float(pt.get(\"width\", 0.0))\n",
    "        self.surface_tension = float(pt.get(\"surface_tension\", 0.0))\n",
    "        self.ref_pressure = float(pt.get(\"ref_pressure\", 0.0))\n",
    "        self.uWallX = float(pt.get(\"uWallX\", 0.0))\n",
    "        self.drop_radius = float(pt.get(\"drop_radius\", 0.0))\n",
    "        self.Width = 4.0\n",
    "\n",
    "    def print_config(self):\n",
    "        print(f\"LX = {self.LX} LY= {self.LY}\")\n",
    "        print(\n",
    "            f\"nr_iterations = {self.nr_iterations}  nr_samples = {self.nr_samples}\")\n",
    "        print(f\"kin_viscosities = {self.kin_visc_one} {self.kin_visc_two}\")\n",
    "        print(f\"density = {self.density_one} {self.density_two}\")\n",
    "        print(f\"gravity = {self.gravityX} {self.gravityY}\")\n",
    "        print(f\"interface width = {self.width}\")\n",
    "        print(f\"surface tension = {self.surface_tension}\")\n",
    "        print(f\"reference pressure = {self.ref_pressure}\")\n",
    "        print(f\"wall velocity = {self.uWallX}\")\n",
    "        print(f\"drop radius = {self.drop_radius}\")\n",
    "        print(f\"Width = {self.width}\")"
   ]
  },
  {
   "cell_type": "code",
   "execution_count": 21,
   "id": "edda36bf",
   "metadata": {
    "ExecuteTime": {
     "end_time": "2023-11-23T12:43:01.765929Z",
     "start_time": "2023-11-23T12:43:01.645266Z"
    }
   },
   "outputs": [
    {
     "name": "stdout",
     "output_type": "stream",
     "text": [
      "[Simulation]\r\n",
      "LX = 100\r\n",
      "LY = 100\r\n",
      "nr_iterations = 2000\r\n",
      "nr_samples = 100\r\n",
      "kin_visc_one = 0.103\r\n",
      "kin_visc_two = 0.103\r\n",
      "density_one = 1\r\n",
      "density_two = 1\r\n",
      "gravityX = 1e-6\r\n",
      "gravityY = 0.0\r\n",
      "width = 4.0\r\n",
      "surface_tension = 0.00412\r\n",
      "ref_pressure = 0.1\r\n",
      "uWallX = 0.1\r\n",
      "drop_radius = 50\r\n",
      "# beta = 9\r\n",
      "# alpha = 4.0/9.0\r\n"
     ]
    }
   ],
   "source": [
    "!cat params.ini"
   ]
  },
  {
   "cell_type": "code",
   "execution_count": 22,
   "id": "47d06fc3",
   "metadata": {
    "ExecuteTime": {
     "end_time": "2023-11-23T12:43:01.769378Z",
     "start_time": "2023-11-23T12:43:01.767000Z"
    }
   },
   "outputs": [
    {
     "name": "stdout",
     "output_type": "stream",
     "text": [
      "LX = 100 LY= 100\n",
      "nr_iterations = 2000  nr_samples = 100\n",
      "kin_viscosities = 0.103 0.103\n",
      "density = 1.0 1.0\n",
      "gravity = 1e-06 0.0\n",
      "interface width = 4.0\n",
      "surface tension = 0.00412\n",
      "reference pressure = 0.1\n",
      "wall velocity = 0.1\n",
      "drop radius = 50.0\n",
      "Width = 4.0\n"
     ]
    }
   ],
   "source": [
    "config = SimParams(\"params.ini\")\n",
    "config.print_config()"
   ]
  },
  {
   "cell_type": "markdown",
   "id": "dfb1ecf6",
   "metadata": {},
   "source": [
    "# Initial conditions\n"
   ]
  },
  {
   "cell_type": "code",
   "execution_count": 23,
   "id": "cd63d907",
   "metadata": {
    "ExecuteTime": {
     "end_time": "2023-11-23T12:43:02.032530Z",
     "start_time": "2023-11-23T12:43:01.770220Z"
    },
    "code_folding": [
     19,
     29,
     36
    ]
   },
   "outputs": [],
   "source": [
    "LX = config.LX\n",
    "LY = config.LY\n",
    "NL = config.NL\n",
    "\n",
    "density_one = config.density_one\n",
    "density_two = config.density_two\n",
    "\n",
    "grid_shape = (LY, LX)\n",
    "alpha = 4.0 / 9.0\n",
    "\n",
    "cXs = jnp.array([0, 1, 0, -1, 0, 1, -1, -1, 1], dtype=jnp.int32)\n",
    "cYs = jnp.array([0, 0, 1, 0, -1, 1, 1, -1, -1], dtype=jnp.int32)\n",
    "cXYs = jnp.array([(0.0, 0.0), (1.0, 0.0), (0.0, 1.0), (-1.0, 0.0), (0.0, -1.0),\n",
    "                 (1.0, 1.0), (-1.0, 1.0), (-1.0, -1.0), (1.0, -1.0)])\n",
    "cMs = jnp.einsum('ki,kj->kij', cXYs, cXYs)\n",
    "\n",
    "weights = jnp.array([4.0 / 9.0,  1.0 / 9.0,  1.0 / 9.0,  1.0 / 9.0,\n",
    "                     1.0 / 9.0, 1.0 / 36.0, 1.0 / 36.0, 1.0 / 36.0, 1.0 / 36.0])\n",
    "\n",
    "phi_weights = jnp.array([alpha,\n",
    "                         (1.0 - alpha) / 5.0,\n",
    "                         (1.0 - alpha) / 5.0,\n",
    "                         (1.0 - alpha) / 5.0,\n",
    "                         (1.0 - alpha) / 5.0,\n",
    "                         (1.0 - alpha) / 20.0,\n",
    "                         (1.0 - alpha) / 20.0,\n",
    "                         (1.0 - alpha) / 20.0,\n",
    "                         (1.0 - alpha) / 20.0])\n",
    "\n",
    "M_D2Q9 = jnp.array([\n",
    "    [1, 1, 1, 1, 1, 1, 1, 1, 1],    [-4, -1, -1, -1, -\n",
    "                                     1, 2, 2, 2, 2], [4, -2, -2, -2, -2, 1, 1, 1, 1],\n",
    "    [0, 1, 0, -1, 0, 1, -1, -1, 1], [0, -2, 0, 2, 0,\n",
    "                                     1, -1, -1, 1],   [0, 0, 1, 0, -1, 1, 1, -1, -1],\n",
    "    [0, 0, -2, 0, 2, 1, 1, -1, -1], [0, 1, -1, 1, -1, 0, 0, 0, 0],    [0, 0, 0, 0, 0, 1, -1, 1, -1]])\n",
    "\n",
    "invM_D2Q9 = jnp.array([\n",
    "    [1 / 9.0, -(1 / 9.0), (1 / 9.0), 0, 0, 0, 0, 0, 0],\n",
    "    [1 / 9.0, -(1 / 36.0), -(1 / 18.0), (1 / 6.0), -\n",
    "     (1 / 6.0), 0, 0, 1 / 4.0, 0],\n",
    "    [1 / 9.0, -(1 / 36.0), -(1 / 18.0), 0, 0, 1 /\n",
    "     6.0, -(1 / 6.0), -(1 / 4.0), 0],\n",
    "    [1 / 9.0, -(1 / 36.0), -(1 / 18.0), -(1 / 6.0), 1 / 6.0, 0, 0, 1 / 4.0, 0],\n",
    "    [1 / 9.0, -(1 / 36.0), -(1 / 18.0), 0, 0, -\n",
    "     (1 / 6.0), 1 / 6.0, -(1 / 4.0), 0],\n",
    "    [1 / 9.0, 1 / 18.0, 1 / 36.0, 1 / 6.0, 1 / 12.0, 1 / 6.0, 1 / 12.0, 0, 1 / 4.0],\n",
    "    [1 / 9.0, 1 / 18.0, 1 / 36.0, -\n",
    "        (1 / 6.0), -(1 / 12.0), 1 / 6.0, 1 / 12.0, 0, -(1 / 4.0)],\n",
    "    [1 / 9.0, 1 / 18.0, 1 / 36.0, -\n",
    "        (1 / 6.0), -(1 / 12.0), -(1 / 6.0), -(1 / 12.0), 0, 1 / 4.0],\n",
    "    [1 / 9.0, 1 / 18.0, 1 / 36.0, 1 / 6.0, 1 / 12.0, -(1 / 6.0), -(1 / 12.0), 0, -(1 / 4.0)]])"
   ]
  },
  {
   "cell_type": "markdown",
   "id": "4aa42e45",
   "metadata": {},
   "source": [
    "## Phase Field"
   ]
  },
  {
   "cell_type": "code",
   "execution_count": 24,
   "id": "4a6ad0fd",
   "metadata": {
    "ExecuteTime": {
     "end_time": "2023-11-23T12:43:02.189216Z",
     "start_time": "2023-11-23T12:43:02.033418Z"
    }
   },
   "outputs": [],
   "source": [
    "phase_field = jnp.zeros(grid_shape)\n",
    "\n",
    "center = (LX/2, LY/2)\n",
    "radius = LY/4\n",
    "X, Y = jnp.meshgrid(jnp.arange(LX), jnp.arange(LY))\n"
   ]
  },
  {
   "cell_type": "markdown",
   "id": "d764dbde-3cf8-4606-b42f-4963e107e1c8",
   "metadata": {},
   "source": [
    "### Initialising drop"
   ]
  },
  {
   "cell_type": "markdown",
   "id": "880ac513",
   "metadata": {
    "ExecuteTime": {
     "end_time": "2023-11-16T05:24:46.993395Z",
     "start_time": "2023-11-16T05:24:46.530853Z"
    }
   },
   "source": [
    "drop = (X - center[0]) ** 2 + (Y - center[1]) ** 2 < radius ** 2\n",
    "\n",
    "phase_field = phase_field.at[drop].set(1.0)"
   ]
  },
  {
   "cell_type": "markdown",
   "id": "81908325-763c-45a6-8a72-aeb2bc44cf47",
   "metadata": {},
   "source": [
    "### Initialising drop with tanh"
   ]
  },
  {
   "cell_type": "code",
   "execution_count": 25,
   "id": "e94fa366",
   "metadata": {
    "ExecuteTime": {
     "end_time": "2023-11-23T12:43:02.528226Z",
     "start_time": "2023-11-23T12:43:02.190052Z"
    }
   },
   "outputs": [],
   "source": [
    "#### change to code when running\n",
    "distanceFromCenter = jnp.sqrt((X - center[0]) ** 2 + (Y - center[1]) ** 2)\n",
    "\n",
    "phase_field = 1.0 + jnp.tanh((distanceFromCenter - radius) * 2.0 / config.width)"
   ]
  },
  {
   "cell_type": "markdown",
   "id": "ec37302b-1e21-47f2-bc49-b947d985af73",
   "metadata": {},
   "source": [
    "### Initialising square drop"
   ]
  },
  {
   "cell_type": "markdown",
   "id": "5ce46265-2895-4901-ad1c-8c92348fa973",
   "metadata": {},
   "source": [
    "#### change to code when running\n",
    "side = min(LX, LY) / 2\n",
    "\n",
    "square = jnp.logical_and(abs(X - center[0]) < side/2, abs(Y - center[1]) < side / 2)\n",
    "phase_field = phase_field.at[square].set(1.0)"
   ]
  },
  {
   "cell_type": "markdown",
   "id": "93b3fbb8",
   "metadata": {},
   "source": [
    "## Density, Velocity, Pressure"
   ]
  },
  {
   "cell_type": "code",
   "execution_count": 26,
   "id": "edf356d5",
   "metadata": {
    "ExecuteTime": {
     "end_time": "2023-11-23T12:43:02.806800Z",
     "start_time": "2023-11-23T12:43:02.529017Z"
    }
   },
   "outputs": [],
   "source": [
    "rho = density_one * phase_field + density_two * (1.0 - phase_field)\n",
    "pressure = jnp.full(grid_shape, config.ref_pressure)\n",
    "\n",
    "u_x = -config.uWallX + (Y - 2.5) * 2 * config.uWallX / (LY - 6)\n",
    "u_y = jnp.zeros(grid_shape)\n",
    "u = rearrange(jnp.stack([u_x, u_y]), \"x i j -> i j x\") #.transpose(1, 2, 0)"
   ]
  },
  {
   "cell_type": "markdown",
   "id": "529c1657",
   "metadata": {},
   "source": [
    "## Obstacle"
   ]
  },
  {
   "cell_type": "code",
   "execution_count": 27,
   "id": "2cfb1e34",
   "metadata": {
    "ExecuteTime": {
     "end_time": "2023-11-23T12:43:03.319309Z",
     "start_time": "2023-11-23T12:43:02.807697Z"
    }
   },
   "outputs": [
    {
     "name": "stderr",
     "output_type": "stream",
     "text": [
      "/home/nimalan/miniconda3/envs/ml/lib/python3.11/site-packages/jax/_src/ops/scatter.py:94: FutureWarning: scatter inputs have incompatible types: cannot safely cast value from dtype=float32 to dtype=bool with jax_numpy_dtype_promotion='standard'. In future JAX releases this will result in an error.\n",
      "  warnings.warn(\"scatter inputs have incompatible types: cannot safely cast \"\n"
     ]
    }
   ],
   "source": [
    "obs = jnp.zeros(grid_shape, dtype=bool)\n",
    "obs_velX = jnp.zeros(grid_shape)\n",
    "obs_velY = jnp.zeros(grid_shape)\n",
    "\n",
    "cylinder = (X - center[0]) ** 2 + (Y - center[1]) ** 2 < radius ** 2\n",
    "obs = obs.at[cylinder].set(1.0)\n",
    "obs_velX = obs_velX.at[cylinder].set(config.uWallX)\n",
    "obs_velY = obs_velY.at[cylinder].set(config.uWallX)\n",
    "\n",
    "obs_vel = rearrange(jnp.stack([obs_velX, obs_velY]), \"x i j -> i j x\")\n",
    "\n",
    "# TODO: Find another way to set the obstacle\n",
    "# for i in range(config.LX):\n",
    "#     obs = obs.at[i, [0, 1, 2, -3, -2, -1]].set(True)\n",
    "#     obs_velX = obs_velX.at[i, [-3, -2, -1]].set(config.uWallX)\n",
    "#     obs_velX = obs_velX.at[i, [0, 1, 2]].set(-config.uWallX)"
   ]
  },
  {
   "cell_type": "code",
   "execution_count": 28,
   "id": "2b488e56",
   "metadata": {
    "ExecuteTime": {
     "end_time": "2023-11-23T12:43:03.690620Z",
     "start_time": "2023-11-23T12:43:03.322000Z"
    }
   },
   "outputs": [],
   "source": [
    "f = eq_dist_phase_field(cXYs, weights, phase_field, jnp.zeros((LX, LY, 2)))\n",
    "N = eq_dist(cXYs, weights, phi_weights, jnp.arange(9), pressure, jnp.zeros((LX, LY, 2)))\n",
    "\n",
    "# cxs, cys, weights, k, phi, ux, uy)"
   ]
  },
  {
   "cell_type": "code",
   "execution_count": 29,
   "id": "0071dd35",
   "metadata": {
    "ExecuteTime": {
     "end_time": "2023-11-23T12:43:03.693834Z",
     "start_time": "2023-11-23T12:43:03.691437Z"
    },
    "code_folding": [
     1
    ]
   },
   "outputs": [],
   "source": [
    "# We could nest the pytree in JAX\n",
    "state = {\n",
    "    \"LX\": LX,\n",
    "    \"LY\": LY,\n",
    "    \"NL\": NL,\n",
    "\n",
    "    # Scalar Constants\n",
    "    \"kin_visc_one\": config.kin_visc_one,\n",
    "    \"kin_visc_two\": config.kin_visc_two,\n",
    "    \"density_one\": config.density_one,\n",
    "    \"density_two\": config.density_two,\n",
    "    \"gravityX\": config.gravityX,\n",
    "    \"gravityY\": config.gravityY,\n",
    "    \"width\": config.width,\n",
    "    \"surface_tension\": config.surface_tension,\n",
    "    \"ref_pressure\": config.ref_pressure,\n",
    "    \"uWallX\": config.uWallX,\n",
    "    \"drop_radius\": config.drop_radius,\n",
    "    \"alpha\": alpha,\n",
    "\n",
    "    # N-D Constants\n",
    "    # [k]\n",
    "    \"cXs\": cXs,\n",
    "    \"cYs\": cYs,\n",
    "    # TODO: check if cXYs is needed\n",
    "    \"cXYs\": cXYs,\n",
    "    \"cMs\": cMs,\n",
    "    \"weights\": weights,\n",
    "    \"phi_weights\": phi_weights,\n",
    "    \"M_D2Q9\": M_D2Q9,\n",
    "    \"invM_D2Q9\": invM_D2Q9,\n",
    "\n",
    "    # Tensors\n",
    "    # [ij]\n",
    "#     \"phase_field\": phase_field,\n",
    "    \"rho\": rho,\n",
    "    \"pressure\": pressure,\n",
    "    \"u\": u,\n",
    "    \"obs\": obs,\n",
    "    \"obs_vel\": obs_vel,\n",
    "\n",
    "    # [ijk]\n",
    "    \"f\": f,\n",
    "    \"N\": N\n",
    "}"
   ]
  },
  {
   "cell_type": "markdown",
   "id": "ccd6e3c5",
   "metadata": {},
   "source": [
    "# Simulation"
   ]
  },
  {
   "cell_type": "code",
   "execution_count": 30,
   "id": "b2b3e6bd",
   "metadata": {
    "ExecuteTime": {
     "end_time": "2023-11-23T12:43:06.411851Z",
     "start_time": "2023-11-23T12:43:03.694559Z"
    }
   },
   "outputs": [],
   "source": [
    "nr_iter = 10\n",
    "nr_snapshot = 10\n",
    "nr_snapshot_iter = nr_iter // nr_snapshot\n",
    "final_step = multi_step_simulation(state, nr_iter, nr_snapshot_iter)"
   ]
  },
  {
   "cell_type": "code",
   "execution_count": 31,
   "id": "0503a8fd",
   "metadata": {
    "ExecuteTime": {
     "end_time": "2023-11-23T12:43:08.633815Z",
     "start_time": "2023-11-23T12:43:06.412706Z"
    }
   },
   "outputs": [
    {
     "name": "stdout",
     "output_type": "stream",
     "text": [
      "274 ms ± 1.19 ms per loop (mean ± std. dev. of 7 runs, 1 loop each)\n"
     ]
    }
   ],
   "source": [
    "%timeit multi_step_simulation(state, 1000, 100)"
   ]
  },
  {
   "cell_type": "markdown",
   "id": "a4b0a528",
   "metadata": {
    "ExecuteTime": {
     "end_time": "2023-11-02T10:40:20.517751Z",
     "start_time": "2023-11-02T10:40:20.516221Z"
    }
   },
   "source": [
    "# Visualization"
   ]
  },
  {
   "cell_type": "code",
   "execution_count": 32,
   "id": "98c8c8cf",
   "metadata": {
    "ExecuteTime": {
     "end_time": "2023-11-23T12:43:08.845805Z",
     "start_time": "2023-11-23T12:43:08.635108Z"
    }
   },
   "outputs": [],
   "source": [
    "import matplotlib.pyplot as plt\n",
    "import matplotlib.colors as clr\n",
    "import skimage.filters\n",
    "\n",
    "ux_final, uy_final = rearrange(final_step[\"u\"], \"t i y x -> x t i y\")#.transpose(3, 0, 1, 2)\n",
    "\n",
    "# ux_final[:,obstacle] = 0\n",
    "# uy_final[:,obstacle] = 0\n",
    "vorticity = (\n",
    "    np.roll(ux_final, -1, axis=1) - np.roll(ux_final, 1, axis=1)\n",
    ") - (\n",
    "    np.roll(uy_final, -1, axis=2) - np.roll(uy_final, 1, axis=2))"
   ]
  },
  {
   "cell_type": "markdown",
   "id": "6992736d",
   "metadata": {},
   "source": [
    "## Quiver Plot"
   ]
  },
  {
   "cell_type": "code",
   "execution_count": 33,
   "id": "3836e621",
   "metadata": {
    "ExecuteTime": {
     "end_time": "2023-11-23T12:43:08.946985Z",
     "start_time": "2023-11-23T12:43:08.846667Z"
    }
   },
   "outputs": [
    {
     "data": {
      "text/plain": [
       "<matplotlib.quiver.Quiver at 0x7f63402efe90>"
      ]
     },
     "execution_count": 33,
     "metadata": {},
     "output_type": "execute_result"
    },
    {
     "data": {
      "image/png": "[encoded data removed]",
      "text/plain": [
       "<Figure size 640x480 with 1 Axes>"
      ]
     },
     "metadata": {},
     "output_type": "display_data"
    }
   ],
   "source": [
    "szx = LX\n",
    "szy = LY\n",
    "timestep = 1\n",
    "\n",
    "# Plotting all the arrows will be messy so we are sampling one in every 16 points\n",
    "skip = 4\n",
    "x = np.linspace(0,szx-1,szx//skip)\n",
    "y = np.linspace(0,szy-1,szy//skip)\n",
    "\n",
    "u = ux_final[timestep][:szx:skip,:szx:skip]\n",
    "v = uy_final[timestep][:szy:skip,:szy:skip]\n",
    "\n",
    "plt.quiver(x, y, u, v)"
   ]
  },
  {
   "cell_type": "markdown",
   "id": "6462b7fc",
   "metadata": {},
   "source": [
    "## Vorticity"
   ]
  },
  {
   "cell_type": "code",
   "execution_count": 34,
   "id": "e78cd81a",
   "metadata": {
    "ExecuteTime": {
     "end_time": "2023-11-23T12:43:09.074741Z",
     "start_time": "2023-11-23T12:43:08.948092Z"
    }
   },
   "outputs": [
    {
     "name": "stdout",
     "output_type": "stream",
     "text": [
      "0.018895548\n"
     ]
    },
    {
     "data": {
      "text/plain": [
       "<matplotlib.colorbar.Colorbar at 0x7f634016bdd0>"
      ]
     },
     "execution_count": 34,
     "metadata": {},
     "output_type": "execute_result"
    },
    {
     "data": {
      "image/png": "[encoded data removed]",
      "text/plain": [
       "<Figure size 1800x600 with 2 Axes>"
      ]
     },
     "metadata": {},
     "output_type": "display_data"
    }
   ],
   "source": [
    "plt.figure(figsize=(18, 6))\n",
    "\n",
    "frame = vorticity[1]\n",
    "\n",
    "this_vmax = np.max(abs(frame))\n",
    "\n",
    "print(this_vmax)\n",
    "\n",
    "norm = clr.Normalize(vmin=-this_vmax, vmax=this_vmax)\n",
    "\n",
    "# plt.axis('off')\n",
    "plt.imshow(frame[10:-10, 10:-10], cmap='RdBu', norm=norm);\n",
    "plt.colorbar()\n",
    "# plt.clim(-.001, .001)"
   ]
  },
  {
   "cell_type": "code",
   "execution_count": 35,
   "id": "29ab3475",
   "metadata": {
    "ExecuteTime": {
     "end_time": "2023-11-23T12:43:09.182633Z",
     "start_time": "2023-11-23T12:43:09.075588Z"
    }
   },
   "outputs": [
    {
     "data": {
      "image/png": "[encoded data removed]",
      "text/plain": [
       "<Figure size 1400x1400 with 10 Axes>"
      ]
     },
     "metadata": {},
     "output_type": "display_data"
    }
   ],
   "source": [
    "n = 10\n",
    "samples = 100\n",
    "fig, axes = plt.subplots(n, 1, figsize=(14, 14))\n",
    "[ax.axis('off') for ax in axes]\n",
    "\n",
    "# axes[0].cmap\n",
    "# fig.colorbar()\n",
    "axes[0].imshow(vorticity[0], cmap='RdBu', vmin=-0.01, vmax=0.01)\n",
    "for i in range(min(n-1, len(vorticity)-1)):\n",
    "    axes[i+1].imshow(vorticity[i + 1], cmap='RdBu', vmin=-0.01, vmax=0.01)"
   ]
  },
  {
   "cell_type": "code",
   "execution_count": 36,
   "id": "f61d52c1",
   "metadata": {
    "ExecuteTime": {
     "end_time": "2023-11-23T12:43:09.190937Z",
     "start_time": "2023-11-23T12:43:09.183376Z"
    }
   },
   "outputs": [],
   "source": [
    "import matplotlib.cm\n",
    "import matplotlib.colors\n",
    "from PIL import Image\n",
    "\n",
    "def make_images(data, cmap='RdBu', vmax=None):\n",
    "    images = []\n",
    "    for frame in data:\n",
    "        if vmax is None:\n",
    "            this_vmax = np.max(abs(frame))\n",
    "        else:\n",
    "            this_vmax = vmax\n",
    "        norm = matplotlib.colors.Normalize(vmin=-this_vmax, vmax=this_vmax)\n",
    "        mappable = matplotlib.cm.ScalarMappable(norm=norm, cmap=cmap)\n",
    "        rgba = mappable.to_rgba(frame, bytes=True)\n",
    "        image = Image.fromarray(rgba, mode='RGBA')\n",
    "        images.append(image)\n",
    "    return images\n",
    "\n",
    "def save_movie(images, path, duration=100, loop=0, **kwargs):\n",
    "    images[0].save(path, save_all=True, append_images=images[1:],\n",
    "                 duration=duration, loop=loop, **kwargs)\n",
    "\n",
    "images = make_images(vorticity, vmax=0.0001)\n"
   ]
  },
  {
   "cell_type": "code",
   "execution_count": 37,
   "id": "81b8d78e",
   "metadata": {
    "ExecuteTime": {
     "end_time": "2023-11-23T12:43:09.377656Z",
     "start_time": "2023-11-23T12:43:09.191697Z"
    }
   },
   "outputs": [
    {
     "data": {
      "text/html": [
       "<div align=middle><video src='data:video/mp4;base64,AAAAIGZ0eXBpc29tAAACAGlzb21pc28yYXZjMW1wNDEAAAAIZnJlZQAAP2ttZGF0AAACUwYF//9P3EXpvebZSLeWLNgg2SPu73gyNjQgLSBjb3JlIDE1OSByMjk5MSAxNzcxYjU1IC0gSC4yNjQvTVBFRy00IEFWQyBjb2RlYyAtIENvcHlsZWZ0IDIwMDMtMjAxOSAtIGh0dHA6Ly93d3cudmlkZW9sYW4ub3JnL3gyNjQuaHRtbCAtIG9wdGlvbnM6IGNhYmFjPTAgcmVmPTEgZGVibG9jaz0wOjA6MCBhbmFseXNlPTA6MCBtZT1kaWEgc3VibWU9MCBwc3k9MSBwc3lfcmQ9MS4wMDowLjAwIG1peGVkX3JlZj0wIG1lX3JhbmdlPTE2IGNocm9tYV9tZT0xIHRyZWxsaXM9MCA4eDhkY3Q9MCBjcW09MCBkZWFkem9uZT0yMSwxMSBmYXN0X3Bza2lwPTEgY2hyb21hX3FwX29mZnNldD0wIHRocmVhZHM9MyBsb29rYWhlYWRfdGhyZWFkcz0xIHNsaWNlZF90aHJlYWRzPTAgbnI9MCBkZWNpbWF0ZT0xIGludGVybGFjZWQ9MCBibHVyYXlfY29tcGF0PTAgY29uc3RyYWluZWRfaW50cmE9MCBiZnJhbWVzPTAgd2VpZ2h0cD0wIGtleWludD0yNTAga2V5aW50X21pbj0yIHNjZW5lY3V0PTAgaW50cmFfcmVmcmVzaD0wIHJjPWNyZiBtYnRyZWU9MCBjcmY9MjMuMCBxY29tcD0wLjYwIHFwbWluPTAgcXBtYXg9NjkgcXBzdGVwPTQgaXBfcmF0aW89MS40MCBhcT0wAIAAAAB1ZYiEOgxh8AARXZY+v3v1+/+IgACBAhAgB0B1nLDrOX4HCY0sOExpfnXe1tbW1tZu9dddddddddddddddddddddddddddddddddcLYDkiAByxtNvNpt/8SAAIAKEAQABAGQMlLKSl+BxDFlhxDFl+1tbW1tbXAAAI0kGaIKonFAAEaLE+HcACI7Srbl//TwblA+zBTYAiAfhs0/BMX7IcUAIQWeSZo3a/86ZDjjYWI7gHRHllEBHqENesCqrCN5kxPifP4bwAEAIAoWVPExDTZolEONwbn3+AC9tBExQVJxwcAF+0JsUOk44Bgi48GshyARXFAKPW2DIeRDAwHJIgAAICAAEAiMBhBzkDCiOcBNvDDX8BpZoAYH5TY4CF6DX06y2Ag/+bxsAZObEgAAhAA4DdiJD/HFAKYASv7A4X66AZgIeJXgB0bDJ4YDAd41eORIwhGY/DxnjAGJcAB0CXlGUvcR6fRwzj8W+AC4SHo81pQ4RzSb+xO4AJJYAAIDvgAx+/AcABAAEAFBAINYADCNsZHdssOh1v60hEfBbPAFgavjclTUAb6EYSuTYAEa3wZ+IcUBQABADBA2QbJJtoIiuEiojzInLEMZ0c8/A73AVsODBm99iWPhJmISAUrn/zAAATlHRJf6B7h4smxJ9xaiHQVUYBB2w0EIJfuANlYHvMowAZIeAv0dBrnyBWQGtGRgYKWdPNjQL8sByVwBKT/4ewBAAEBg1wA1wAAQIl+5BdGBK5A1kPXiJ5oPgJkEXNA0QHYgv7wIzLCtUDeML//BIAmRIAmWQBsh4AmXwBMg8UMymC5RJhUADEgaAAIBxQFPKgo6TTQuffBfkx5T78+AJmi0IJ3ICi0fvQKtYreBPGFf/gMLBAARBAiXQ17+DW19wabkIXA1g8ZwVeAyO3369NGlOGCa/RSsEsHzvn8N4AEQfpJvSf/8LcQUHgQeXlhzQ8bAGSzyCAAEIDMHhzXGAkDCxY/AbhJ9ywVZwBACh/4MMAHJTCJvNWpOoZeF435YN5AIpgGHrz3uSEJmEMj3iHgBcVPlnHGIIiKi/8FWmQ74gBRwABAZAAh/7gQ4g4WAAwEkrDaYP49pEjdMWFLFPDfRPtqO2Vgkf921eHHwMtoZO6h4nxGNQXxRkuxe1Qg6n0AAIMYsV3FqWCUE8r/2kCnErZqxapX7/2wLG91UFE9Kv/xwAESsOACasOACZVQACbK84AJqyRBEybGCJT/4Gg8DAAERG/69X5Hs9iuODmJKflCCuINxxXhxQBRkRiVlRU6o+u6767VkUa7EIkVM9//QF+lPFTTkwO/42AIIDw9pkMGWqV6M3GnAQY6MYiCqQcKshfoJpiKhRNW4AAQQsQ0qC8wnHlKODA3uMLkC4x7A+8MAAAQpoIQFlcJ+SWAOBr78KAAIU0DdW8AIAfo8BQAkTyxGeP0A8DAcMAOADAeKtzf2yTRmyJ4aYWkLqfLUF9SQlNX9p8DEHCm4QbEmfABOPzDguQ24AgIIKMNECXDADI5RpiMWy2CF0wnFM0waHgZxtdh5YmDgCX1x98HjYSkPCCmFLGiD57zAQMH7gb17/whMBDBUBikYWEtbNmwmmzF+Q723rPhu7n8N4ANVZtEbR6vfOsQk59+Dmx+lQnuGgEws3PCu54bcAQABAFgMAJgTgpoISk8FBFOyIdzEp0Ztd8wQMWZ686Eo7CptCb38Duf4IEXCwi++1DtoSUwWAzb95qA2QBKcKHdgl7/gnAC3XNAxNrABQJgMNuYAhaPPB3w6EmL3z0YD62oBZOwKgOiP/fobfxEZGRGQ+io5Qf3/vAHiLJOswJz/75T3tz2qV51w24ACABg7Abxhj58scPfPGTcyggpaKJBv2Lc8Izz/8D0ArOFPM+Cgq8AM23pGZbR0BKAAhx3/3vJA9sgB2iulYAh5Tz94IxYOF158gA7Vm1UrfgaHefAS5gjZDbgAJsIhApakboboqQIWUdyGo3ja/ABG23opmM0Ib/CM9ZA/KigzoLA0fIABAkyBSb/AhYDeZqqSWfCxg21qvn8L4dpn7v97lsPYAgACAxzcAbgAk+Byah9qD+G5Ai7RoMS24AMI5B4wLhaPHwFjHHitjgTQ1z+CwBYKwBsShMEqBUPoHgFAAEA4BVlGxIhCC6s4vngCwVgNDwBYPAFgOKtDO4HqJYmYMGYia/nnwFgEZHhWuAmh73/8CBbcMAiy4zkGY9T5neF/r4zReoQSYjnjVomtsmhB3/Yc8jOAM1HjYCgoBzHkoHc+TukLmn/erRkQNuoy3NAAEELgINGQIShbimsNJf/sLINh+wtzmovwAAAwIVEUAAQqIIBJnCfs4AEJgt3wI5AAvYgAUBlwBLUAPXAL4zCeIFQ9mIAe9N8LGSPgw8ABUEAhcABELZRMXc437cTdgtSMtnq0HHkLyq3GqIWrisnsJRUJP0AncZ5vZ4cUABAAxDxHBFYtv4vYKFLBfh0GywYmRcGzCsPiT7QCTvSFwHqwCApdx5wQlv1meZDEgUOW7fuv/9T/T6/ToJTIaljVV120NHCJY+AGqZCyvf/88Nw8SKF/i65434Id6hmuOu86595wBwUwG4ABwABAgRDAIggkkgIpIJf+sADMbb0SbQAnVt6JNrRvFxmXCYB58DHRY/3Vt6JN4AHbb5Te0P9lGI2FwBYmJuvUoKVktSu4AAg7H8AAQpuKwABCkU8AAQqIQgBFABQhAAMAQAgMhRvc17/T476zMkfG05WEbQykJL0U51oqvwrdj79cbdfUN/gZzirWtbQAOApbXaLGy4hWcOLVba/PxYuIAAizIByZxufkAAnAAEA64ouBwATgACAdcJNz8IFylCJCaQUg9/S1s2/z+J8KL/t//hxfAEAhAU4aAZVWIrCodl1ILdyhkXKCNGrAB5/tR8pLgCVu/ftwmZheCoWhPuMoohj5PCgAOIBwJxPP/8QTQQIE8Qq7gSv1P5m5oBOX0bkY0zz/hxQAEwuHQhKGFsD8ki5LdjLAbsOZ+oACNtviTZRTBqkCCBnNXjMKuGDrzxAADQGARHD//0LrqNLuf+UF5Ep5+HPwM5xVtAAZ/u+/A8MprhaSEHuJPHkHfzyAANFAGRwDjIABFACJYcAEUAIlxx/4yIQAnOemPJ/gBQks/8STzvn8/n8/nXOufwAAAJOEGaQOonFAAEgXE+HcABCI5CkAdPJ9Q5/b3/gAjbb5TYBXfb97ZABG23ymz/Cg+YJCxcCYMN+IuAzOBgkUo8AJmHFAASTbJm0jSJ/4GemFpbH/cGzLNkvtf5BDElhyGJL8DsgBcAYR+dTz8Ak2vHnw5gARmwABAGlkoAoIgZ/+AD+NviMwR+7/EAAjoQATLAS+7N+CJsLjeVMT5/DeABboIO5xdrsPLgU64AP0v4Ud/zABrbiI39oDdylWOOL8okr8dd/zBgBTzZEzqvUSV+Ou/5gN5ypQ6L/fBh8JAY4cFBGAcAhav9g7lvDf3DvpjKZegwJHpthD8hI3UVRCd6+HF8BCvUwQy7/PnHHWUhg0MGqZDRDTNwAKeiWN+jJ+DYaebQAPJHw6cuThRlEqrAJJcwAAgO6t8GATAWEIDBQKbo9SBPeBS+AzRaVei3nb+wBQLgpzcJFUHgsHEkqAFsD4DZbYBvfhOedCoQkRYv//cOKAAgNBifC3imPXKvvFHcu8mp8wAAylSl/qODIhvZDPznQQVUwBdiHjnEF8LAAKywAAQINnDmoUac9OOAlDLnvHzJLKJCK9F5ftfK3+wNsgH5XDUjvjP9zcYgDwoRZP94cwEphIQXtR4hF1hPwA52jIyNPN9YFFzStiPj942nazQBvLVrHB+74AJoxLbkfqngJg2KsEwKjadr0CrAWEF6AwSAFQA554giGYbV2o1s0PIMaqCEiWPQKIm64TGz/Bw24ACbQed2KQh2OY3/xFJhlJ2rwXp14q7fmCjTRGyqvfwlpBU/4AO/9TMIv9/ACmv0Q+fvnXDeAAhOQhSFYoDjtX2+98AEbbfKbIFd9v3tn/ABG23ymzwrBmCUEWBHE7r0pcBsQKiRNKOgmIbfwEK0Ec53pk2WKcKlSAw+MPzgxbI+R8kAA+BKLnxJIUlBUdRYZDXwgSY8ACfvBCQEcILg5g1AAZealPbZ0BsFPIph3gAppyBU/e+30Daf4GWe8EveNgAOMHvBtVU+Jk5VX7+mzCSLAUTeTmO2kgjngAANPoA8cAAARlgAxQAZQKng4DlssYACMIhx1oKKQ8T9BJcABGEQ460FFIeJ+gknoAYcvX6hDgK8IMAM/2BkBoDnAKMKqrbgw22++13gTBMW4cUBQIHHUB41LZ7ZwuRjG+lDa7rtdbzoJvRBiSKTNsf5X1jBkAhhHDEjcFnCru7QYCsIpxloLKS4T5RMgAAQBQABAAAHyw4AAgCgACAAAPl4AGHK12pQ8DPiTP9g5D9+v225MPEv8bAWEY3OIl5BJnXv/2gMFE3/mKs8ru3TsuYfEaIZPiKeDAA+7IPFDa8hoxXQzxgVH7dUvpy9QuU3eGTQGACQUGhrQGduJjw/ROxNG4muYzLq8vicEvALLumW1p7QdgDSmSj3rkN/kEmblUw4+d9oEAQwLNfI/mnyGQCU9z4AjvtoXvIehhwSnuIYcEp7hBCEuYAY18kKzjPvCEScKbSWTI2NWNvKSuJCmbGXNvKruTvhtwAEmibTNo0SfgXbuQTy/vvCramaKq9/kEMS5hyGJcwKUATACjbd1+eDgJCv7PefG8ARJjRClj3/iFgDNqoBgKyVASXvvBXFJA9SYAPAub7b4LEyYkVvhy/4E31nun/hi2r4w24ADgQKADrPXqHzkoC6S2mN+nt6ZTuBgEMIMtA1Fws6V9XgFYZDjLSUWhwnyajfGDMGwI4cVFgr84x4AAgCgACABAA9ZgAYYvXahLwK+Isv2BwABAFAAEACAB6wEwxQKGcHbgie9sn0RSscNqABYAYA5weLvHzo1DnEN74EaQQw0Pg4AFgGHQI9VLDfzvhFQ/cZYAAgDAACB6ZACQDIH1wjGEocO/D7GMYZIAAEAeAACCBSMOAAIA8AAEECkZU7en+N4nFbvd4oMAxpmPMBHgH2aGZmv5sGA7kiYbhAYTByHAF0uDppThcxkAAGAi7gAxtX1fbhPWk7B++qG3AASaJtMzI0RH8C7dyCeX994aDsiS3l7/IACRbmHACRbmYitYQ7kej/J3v53w3gARW7gABAGAFmIBBn8AH7OtmQJVdv/4gABALEAE2BK1zz8IW54b/eQJCEVh2iLsEVwY4AlpkZHd573y4xz8AKLyQ29xQCk0160zo8NS10OsL8Bz8AKTTXrRgvAIK8Bg0AgBS44gztBBAZb5iK7fB8DCaHCFRIBF4xN8H43CPEsxuV4bxsdnTwCIADEY0L7tkmvqBXP/Wpp8aCXN8eAATigAE4O2B2RhZQ9/vB4YeNA8v3/IcqkVN0X7sDPYyINqoZJD9Q1nV3ShACrECAANCPNMYXOld+ZmHW+QyO/g0W5bgbhx2pOqveq2UsERaNZ4whvt2R+F0kQS/9eNigAE5YABOQCEFtQCV4pVYHq++WAATgDGxRmBlwH9BaWqd8/b9YedeukJNt19s/fkobA5EggXh6g3lyyZkCrx8/TkYENbHETSAO2QSXV6ZBRpeYivbBABxD/wgVbB3vOmY8Jf5IXGv4ShkPnE7IivpAqFIv+ESAJHc3ArZeANDf8Lw9+2822Pu9GMgA85YYwclgpU96BpWY4Hi4sFAsOzAUBIGEUsDPjCqV/MvvR1WSoharK4DIhxXNDph1wK/eZUzQ0HVrgz1RW6gr8OC3iHiQAKNGh4TUOv3jgl4AH1NzZMgm94AMLyW9f/95pppC1Q//C3iXi3r+mczI0C+0LeLee89/wwJRgIGoUQryd9Hx8Apfvo+PqXth3z1zfR753xPhxQAE0x4pCs7HIY5v4imgyF7UC9q7FWf83hopxkT+1/8JTQVr8AJ+vcE6r3/ADT0saVu/Di+RBdsOrU/IShkgCCgQGO0au9NxAJTy0EfQ4JTyw4JTy/AEd037ETnyCEJLAC3aSuxDW78MPEiI0tmM2yFgDk8NvwiiltoclvGTMwC/eVlx2Vy4cUAGTejPkZEn+TVEvgZ6YWlsf9waCT0Wmdf5ABIssOASLL8RQBHh+RRSxPlVeCQoBkjlg+GI5t8PE8OQ9xK+3IekcEfgILpW9f98AF1NtpkJv818ZJ6Ej/eFObjIFqrwj8R+O/EXy34O/fx3/wgKwYIHcq9EoNINW2Hflv0wDmJ37GLsu47YRfP5/O+dc64hc/n8AAAH3UGaYEpwiEQ50hnIBEImZcArmYjvW+AFpBxa0MFb63DigBam0nLEdS/8ALVyBy2u1f9e0tLtIAvXo9M4Jr+EtAcYsbNLjs28UvBKwUlLLHn4Mj9e/9ewisS0VZLlkuX8aZIRCIIOXAAEyMZHQ5nMFU5eXjegAshUlMWWWFRQNvP3eABn9P9gA5EIw3YwjEGIcUgJEISEBCjSkBgPI1ACM3R/yQ62aDRA6ADn7kAmDvt4AF6WfaIb//nUWF70GSY1fvYYCA2AcwAdAtIAwfx0rjn5gAb7h4MsGv9gAJZiazK+VdH8CcvRW2I+X/E3VN4aOI+QEqIwSn3pMnVxsrBiH4cQYABcoB4HAAEBAMAICNV5VJUB2+K6DbkNVaVLzysgR7aJQBj3H1EEbygGhN6oWQJbiFEIVvQPkKI2feYRjYAMsBmvLBgVG163Bv8exvM6AARoLQRPIAS5z6MeCO8VEAhtU/f/XvGUV7bq1z8//TNIy2JSKoMAAzgLAwAAgLOAAxBYHLAxmQHJRFT7g0bMb3ZAAEZawDC58E8LkFGV7hSBlhYowUqCWe4wgERuwiRWWDAAQYX6aeSXmKUtBHY354MAGR7UAxPdbZ//1AA4BCJK/24w838apgN6AVA0kSFRai0Si0j++CSAYBQiAYAgAqHQFz9cCn67wEncbxc6fvnsce9NyBeSjD9oDo93gbTkPKhnGMio9I0H6xnbCtholDWiv+oXf/4Ai/uncf7VCIRPTYa4vABGNt6JNnvCAQGwHwAYHTPADlcZNzizzS5/8/4jMJUKTkOxnhwct/AATGxxFpKLQ4T5P2g4Erpj3LiC+GCo8JBEAYb+2HvUTtrE/7RyY48dQ3SipHA3uEO/WjXWExfgr3g9McINpVPSVSIbCEb8RMADEB+yKsHz2SQmR8QAtQZynTy0h6bP7oCg13VpFkSYRX//gADAAA3gACFA0ABIwWAZWG4cQwGZLMAFgZkADA0jlUk0SfN2gAECMDika5woqj9BHCQYGAwIICHTePiZ38abDnpByA+tvDIgbfAAIUAAAISwDEAHDwACG7I4S7GLlWvmeOAOPAHGcyKUCBeWZZpCOCEEgcBCqPhpp1ky1c8b6/G9DgVapY1WPe6/qAAEDk5L0MUG/ONasLEsvBnfsDUxjY54Ztf/qdgQC8sR78MROBgAThhegskIS/27EOyLH64/gKsgd/0y2n8EfXXuEFQDIQVNQQvfYQCIWjDYACAF2AGE5lO9lUWKVUD9d5NXPTi8mg4AOxkOIlJBfKE+TQ4ICWDAAEgwIq5ejywyUHB3PauVlb74e8DWUvd6DbgBEB+iPI//+/wAQCvQMt/R9BBs7eyLUf89/4AIh+zh0jPwCIEqgAzU+fUf0zFvS9oAB0xplSe/vQKntsimNvGy/TyAHQPEBfmG3Fn//q/ML6ACEQKc3fQQS9bCcQHwg4UZPI+rWp8cHFRImJrgC4gjg4AQlUnQYe+UNZvw/u7fvbiEkg+bn6sCvVBI7OgpIaqbECRvdhsG1HlhlhgFS4RZ4yaxX+HwA4FypPlHgBw8AOA5GhEknWejbqUSvEiQWebEuWVePAOHgBw8OHhwsAMsAMYKEES4gbjyqWGP/H/lhgDfvIIDd0DYABLg63SEhubvjEBwQACBiBgxIALLcQaQEniQAAdBWXAEg/SG/oP9M/gF9zCAQDvGhZbO29AEOgHWGyg/vCFGdGDAOdGzGq/V7w4ACIMphlJLL9hziyVH9TPAiEVFP1KsVNhmggCWBYABIMEixTHF5Xf2mlWw78HE0dED6/68+l7TQPtVb96G80QnwiEA9PCIJ2AAgGY6EY6cxVLlSStwM0UHvIADgBAF4jxy9UcrWsdIf/3iCYhiMM7nGMIIwMoG4EA4QSEAAWcBwMC80k66+MyTmFe2q+HUcT9MIiDGAMrRSlJ//+GheXC9scef4Mz06z2gcIbu3j0DECBsCWcDZNzm4TY/8hXhFE/BzwNBz2YlBRLFPfhNm1qaYadvjwACUsAAlDYADLTjQtfvg4Amr0GifjzFYxUX5U3xRmnmYnI6iNxBKGugU5wvbBwgAOccIAA6cEHFFa8Vbgb5+I580O6LVhVPEXF+RPrSK5YZoxW7RAp2/qeQaLbx6+6xEbLAAJSwACUcA/Ao6cX4Et/eCZ33+hQACUACm4lmeksAv/4DWBkxkmfrBn+91sZ1Uu6CYo7e55R/18LNAk4GEBRRrZUSfIRLyT8ajMjKkApxYGcgnm+Eg7Z7EBAb8AAwADhPPd8myobx8lADR4FJJL4jKJXj+pfe/Ci2ULU8GeDFBgAOABAY7QidebglIgk5/Faxy9ujbkn/v4YUCHDQgBAKGAoADtaIdbxX5azt/nX5+zNVRVH6csuYffAMF37FCkZZNNf+swifESIaf8/sM2P9fzqqmp9Bi1doML94ZnhIn3AdCok3ftel4fVLKt60E/vDr4YX8AQ/Nc5M//twiEAr8AEFJSxJCkENxq0oABhlNlgxQZFd3DtZBBB+PCAAIgAM8DBnfsD3ivsgza3+B8LxkRugDJvTgB1aHBn92/64cUAH7T2lJu75sAYhjdoRaf7MZdWSgA/SkbZywT/uuvrBvETQVJFHlxpvQYX86AGylliz1HGvi+8//C0Ko0F5wD2pMhLbCCyNJEfCD98p2JgnDB/fngAAB2hBmoBaYnwj1/LssIhEL+AAkNyCI8l/sOYSSoJWaPAm4PO/BIhLUEP/Ijx1U0AAEBGgw9KEISa+xBu//BBKUgQABMMcbDzZIBJLozY/3bQAY2St6hBA3a/hLI6nCwgEBsA44AUAtIAfuvQLJgC/pxuVqsOFH/8fIwC7+fm9u8ABhylOQV/Ev160ODDT+H0YAg0JlZ/ytU2U8V1fLzo/PTAmobLywgL9wa6s8hN7gOYEEgAGOCwDrJU8G931b0okg1Ibrkld/c1ZihgbEQ5XXBlK3uBkBYXqHo/7+1gP7qlUoqY10AsOysNJfZ42W2oAODDIx4tZLOfcR6mktag1wjNppSezF/9gfWrIxZyAOXjDIcI1JhaHCUE0vAyfj8QQeI9acAxJGP6aQBFX+6//3oOl/OEFyfTdfcAY4gwAC5ALHj9fYBK9vLSVhDnLHF8Oqf75iAAEKaAC0FuQlgWOuICgksF4WmcSIVH+/MIBEP/gAIEUKY61cSSpLyFL8CICikb50kqj9JfSQfcEfyNHVWT//3SF8dAABAFAIh0JEq1oxBxn9xeCEfgAIIW17y+SUzmISsMDgCQMEECHg2SjwyLazDrn1ynCZR6MQCyURLnj6DRu9KgJjOvwG7RkR0SCH+Rb2o/4kbAD1GzIQxI6AXnxUodHS//gNFf36kEqFBL0DDAEzfMchbHRlJ1PEQcBDoOLjwuKLnhivmYAHRCpzyIuC3G/5wACMLRTsy9EXq0mCWOqTDjPBCZiDMAAYAdlMqUcZFnO9MBO8WK98cTfxCvf4AdYkzf90FXp0Gq+/7AESJEMWog05LIJrsPBbffGEI3wAgI40EDN/eKEqnIuXf/eAQBCmAxqjRSy0prxd8EYCHBVoMKQzX3xFyADPQwEeMsYgcX7h74PGADCwtggYAA4GDr4seGt6qMrnifYhAHkYHcoLYLCadgkPV4MMoChpgO3KgnzeGm4Cp6f04cBEG3hkQNljPGWMUGewXghTv0KZIsER8KM8Zf8/OcPLBxRg0SDcNf+YmcmPnnxviQENggkpRxaLmCH6AAICOtyXy0N849ADwAwjCORxR2OFeW5gMAH6dsXKQr+Ihq55YDvYaubDP/fIUabhk7PAgybeIST3j3f34gH4AQjPV7ft6YX1ILFBgFAdgBhfO5oV5+7btlXNVYPyAnPS8WIv2/WMhdXZyOFkdZsVSpVIhf/bBFb65//rWSAXvxAJs56/sIBELfgAIDBVY4Wmli/dIYT6H9zq9K14ZeERgWRBEQ77Z9r9xRcwgaZqgxfJrSSgHdPej/xvABOAoAkyGItuEWX//q8sUIJA0wAD4tHKzXpl/InIw8gAgyhhPKWyih7XUq5D8a9AZnPvw0YCwzrLBh95GOH+SR8QIGISAzgAZ2XhB6aESDX4Av5QTTuYpQJcYf34NMMWCT5uRm0GO1/34CgPJx59u+0aRBlwOr5kTfn2IEjZYMsZYMUHgFVa9BvgsFgwBmA0Zol6bhs6/jw4TKFEWDEDgPKDCH9Vjr//EiQWYo4oPFGKDEOFgywYoMbggHxA2KDFYGmCjJgBNgMSigAOJByl3+MJX6n4osUFAYRG2GBUwWBLhOfzX08ENsrMc/cZ6/QoMRmIAgEJwQ/FkbXvwCBcmeD8Y39lHvMzYMTn/fgAYbyLMalRA54I4pVWv96G3AB5NMIhdaQpHelpfZQALqM4zkyAhHiARSbnwq2Ll8xiSxUxvB5JfHq/3CIQD0MkMAHiMRWQ5lcZKl+ek+J6gFgEgACAWAESin+JU5R7JW/kvvAAYctT2FIQU7XJavLShzAgIBgwkUf9NH0pFe9Q9/Z4W8jmIv1wFzZNNahs/9SQeSRVDJ294OAmrjb0FkW2IEDfBCKEYxZQpGiizDH/8mgGd7aaj3yAFCIIQpRBiiBCCiCRYywc78nCnvHFY9I4uF0XwiQAhiVmCka8I+sz0NYfXOJSQTEBBkAwOM2Hfz5Z+wfUGQfshWiP9BcKcSpQpw/2kaFhNg8zzrYoEPb6VDPLKeK33jYoMUGngeuYImHENYKDAR1G5744e2NEb6YfG+6UF8gPgM9JHpLZEktDetPPO0WB5IDAwsEX7DdC2kkqN/mwCPHiRD8ZBSWCBf8rrCrq/rCAQGwBMAcLpiyQy7w5qQzVB15BMYRXEFc45xBTPEJjDK4ghDDGFEFWAAGBBD9caqRYcbP10GaACkj/quqbT3/4vAERiwFj0R9HqrgAdoga68jPELyFwAAhpj4QNQMGAEOBYBu05V42P/9uDLWbN7bHooWKffoiruCQpq6rsG0lybBR1qFrCIvfdjLVR5mjIt3Uyvx13zCAQPovZY0+/wWeftvDsYtuEQgFYJAA7GU460kl+095ZL4fgI5XI7Ihj46uQZmNSqIgMDHr6OYdPePY9/H4NJT0lv/3uiA9og0yv1/V/4QhWckgAjTMWtkW9OANw5Lv1EPwGDT+et68cGApCmjEu1JXbnN9JX4/BeCjSHvfrn1PR8JFdV++//PeWPfX79gPioAAAX7QZqgajdUy9UyUIhEOaUABGwYqazPSvMQqgEQiZrgBkUjdCHcAB+RHxDcRF6/xuABkfqtpP/8AA8t8/gVIMC/xgQLI2SQkoITNsFuQAgAQIaslLe8p2ELSCwXKXh0pSv5AfMj2jDPyxNcSBkn1F8uFXHCXo0LMOPxZozwY4DhJwIAFzv4qCqHcbd1T8fd9fs615tHpwAP2KT5HuVCBqEwVCdZeyP2IrGnYn+T3WUznkgE0v7xszABgeWABwQKnSBiauMf6llQ7glwNiRyVZ3Q4wN/9iWSVmQji/3eEzjGkcWR5YQqgiqYGA4uJY7HTQD1nmkAbxeY8L5K3BwIq3J/ZsYBYbBwycgHmu64O5JvR2m0lGh+r8bzOH5jgABf1ArZDwE8B/lU7XN3/SnJocrX/9a2MyyBTf/mEAiFv3PgCDBl4ULYXzpPSW1mTysLeZROgBYRxXLYaYkob5JfQUhuEAAjkENzdtuvLds8I7PC8Bsr0cjmQeBZBNQqDRnUJ7vJxuAB9qzeFAygS/+gAPm9JbyTP4gCBxqABqfTMGu4qSv8x3eB4HoUkjBs3Qa/yskl7B85zn5kwQONcwCfgCZ+jIO8UAAIg/UM5dndEM9Tf/MTv84GAEFAhSABABcuxqmJ9+MOb3N4GSKr1U/4TWL/UAPT0ReHb8sOpcyRexRxiQ0RGcK7Mh+Q/Z/v/ECBsAQALkAD+BLg21whyk1tFuggMgIQnxTC64X/c994hAjBUI+tVVej4RagBpbiU8DLAxQMrAmDwOHgZOBCATOTqVXFEsAQBv70SN7B/fYD7lWYBQ+ERAengZ4GKGKG8B4A3BBTt8EPiaJCZ4sDeAkECXaA9oPA/Ad8kwdh2L9uP+KmmkwO9+N6IZX/fqU5yl3/HfEcCwMAAbmN15xZ9/t36wAKMv5xANkUAF8GYBFIamFgafJF0FgYgbCX5wADgwVGEC1VNZR4hhVHuDacybTeADHfy+Z2EMtX+0MKaBiEAkvlIdmgCltSeYX/rIBtX5/76qcnMZfXsCuR56WR+7vBfbaTRlumEAjfGwcMAotMRKYDhoHHpmWlumaXPj9/uRieFrziH2I7xH6Yj8ewIcBAD6lppDUwcF/O0NNbJpmB4c3zKOh7eRAEDi0AYEjcOBveKPDWFYGHA4EgMyAAvcHhS1YAV1waoXLvfgxg4ArZ4VpwDPLEOA/rFuy79+GxTEBEPywM8DAsDLA3gOFgGANwuGeLJTeOung8DBMyAkDiR4BpwMseMPh1Sv8CuzbxIkFmLokyNWJM04GWBF8FQSB4BEBdgTYWAfvEDZYG5ANCwNCATrPBMDDEp32sEWdue/zAjaY8GoQtld7ynIW73jC5YGQ8JOBIFJOqAmngx+pRpJHatDOe0MZDAgOBFKamBXAwgFlGjRHZ1X2HiKbLpp0DbSlGAX+S/wCF6+t2Pov/OwgELhEIBeUAJgmFGiLkzvE2nuFZGEAsKzwBPoacRJ9GHeu/63gA9WeYBFRgHFAjbTjLIeRcQIG+DH1O6ktKS221JIA2EIsBOA/vbbbG9WLAywDXIkc1htxUfEuhDNAAPhLbKwXNwGvwYEUhstxAKDMVGQsUznRW/+AAppr1p4tsgpMDDFAFi/x/qWxqB0c8Sm+8irFnt5mfk0K/86y01pD1RGkid/21q1FhAvy/vGywDLANkAN8Q4VY0iwDAO5SUbtFNDjHNszZkDQAgZjozC5ak6nLQ8iN4XoXtWQgcJxmyw0QEhAZGM/Mt2p8PcS8pT+YMM7nmp8JSOt/5RClfzj1A+wgEAtAEDAAUD1NIFBlui1o5qiDrxEEhGQZnKKYpVSAAeAhAU00Ug43SXjsRzbqfRMWwJAAKC1YjN+7op3DBwAEeDgAHADAA9tEJ61hcMvX2H/nsInyZfgYIZAjjvZz5Ubr+l/UkiqvYJDXgpdelJCsDLCIQDVOfSATmMrqcW0v9a24YBIQidvQJYyU/5OgM+CHZz/hCFZf8AD0lbaSebPDKHT+IJoQCRL15Z1PZhfN5dCMffrxKICxDeP8XAAABPxBmsBqEhvAAh6/6vv/+AB+lv9Asc/7LwAZt/K8+4Az7+jt43wOCCCWQAGvVWOsxf2IBBhLLm3X+QFkwA/tv//N70ACKl8wQkSFvu8G6mHijv/WSr2bBlOfpeAAMFOcQw5ajSdJSggYFA3w9/1zwBQgAIsGyiFBtDvwm+SmnADMKLBuzL7QJWH2dEGRV36gycas77F739qWoUi06r/5/Gw4gBAVkDg0GExo9MtrgAxF7QqJ729deI+q6sedgC7EAgglllOPhgKTTJiVB4MuoAEGBEYWLWWzv3kcs+4QQfngr6IBss8iAqFaHQOigxsB4DjJoCWKE8/01ChSj9hYFWejBld+EAiG/Tc6VcgAcAEGLa9ZaElO5yPJAaFTeAytNHfZ/wN8upwTiJ/15IgFIILAwBIbtUQxm+1aLb4AFs3BI21xVPf3gEV+ytsR0VX0AB3zpgaExkECQAZSLurI67WPzbqck7ye+l4DwIv165qw6liImQeIGcQhyTTUmCkF1/aE4Bpu1jHVbKJln4PjA1QamHNBX2KiX7AETwX1vUfiN46PVFoBKxFHhlVqltp8Al45bdVIvIFNnrM1vYgQHfsAMDhpUiKLV6jC77XkIeEALcGR6NgLbDakp/uEgCICTaPFkYFQuS/4FL+f0++zSGpBFGG9dlf9AYeUTdaCX54MPhEQHezWq7BBTLsMdEUCkzxgAA80n8i/8bM5Yef8b8AYhsoDeGWZEa4Z0R4ldkc0+cHoEFJa3LvC0kvf7/3KTAxXA2tQQetMmy7YaerYLlMV/2pdGwBOrgD6vcBo+uc9NGmp/rUaxQb+IDT/PgBRBiJmcR/2hecGFMEKB42n7H9+AG4d/mYssWGr5CjtbbKpq5JL9AkmFk17tf/yT6zWdCSF60ir2EAjcTGyAQIPQH2mBwQMPQYqUvRN2p/f7hgCCBUJeKVS1lL/9K+BgwA89zvFihC/mBxbluFUrQT55ACBh6AMABAw/408knuYpaCHAGUo0E7Opu14EU7spNmeL+wGAirCQZIQBCNuHRcp3AGH2C3U2/qG3N3VYziAOShiKdqAjfPzDNHZir7WkWrpqsjEBEF96cPdi4Z40pV46XPHsPKde3+H7B/EiRXY3mBY6Ah+IBB8G4ONTlbS4QYWZbfsS4g8EzOneq7x2yAxcABARzuzmTEeF6k8M65RU/UZ34jOKjOM4XYZw338XyKzcn2hprAAk+4BQQAmlCAAixMagZKmyHRtBSu+QF//5gr7OQA6j2/gF9w/fKmfnvtpT72EAhcIhANfPSIDgwCQhJrxLlmgv4UWZEB4x3jfxAgb4AxXB+JJkVuSX8u78Xxi73czWTZoAAYHREIE3ddbbbv3//jAJdILpoOkKAPWru7xVnKf9Abcnrae2qNnDDbo9doZMQAkI7K6kqFYio//wHNOhXKQQe/3eDAdCAINrWzUj/8V+Rsf+0FGeNDcljv1pe/xmGNAI3sBkkU4Vn//+2aDrLeRAi3veCD4ACBhOxpbiPSxT/LUGAAgEcyq5lxWQj5wH3ywIyzC5uq3pM4AXTbcWgIQS8t4Np6AFcB3+AFCAAI4SXTOjdS9baG4cBG0+WBuYE6FWf/6mgM6TAlHuwgEAzAATAAMAAQA9E5cbMhDm9Cw0Hj41MDycXw8P5ngOoAvtEWfwNDgw4GoTOO2iMnyidDKAEDywiEOEMXAAAAE50Ga4HoSf+NvozggYAGL5TPRf/UZKiAJHUAO/QAGykNSIt3gKR/wuYICT2gEtqW3iExGA/gAAgMJT+iRtVRi0fkf/jAMA42Je8BHBEpIPQoN0/iAyQQxXCAAtAOPDrQuzAxnSXmncbGDAAvYkT/rnCKP/gBZdB9yYkhGxeurM0gZR977xuyICBRbIAPyZWmOBUBvfBpB0+yySsxEFe/dxBgEvac09ODAXmZDI+EbiHoBPEWAdII8Fob8GRAgCCArUlBz6OsJ11Ak3EMAAnwOlJGpZuDxDHR73AdvAPbdRnYAYG1mWJdow3cj/9200NZMcHj9dhAIhv8/WLFzCzfAsz7Vv+D/k2FWUzyRAIQQYAF7iF1PU4yG9/gAqU9gMZxIm6saKCy+Jx/2gBL4kcpCFfHyGCOXDzkchT1exvdBIJSiT34sIwwsqmxghAZVH/vpopQsvtKFen996YI1uUKd+0UtAWQYbkQAmUG9RNFb+AK36lTUOoSug/v0AD5GG7BFcnW2f/wIttB8nZZgGbgiwrYgQHfAAwUW6+FP/XihgwglHbggbLEczDVzL4LrzP/3CIARAadUkJLwOgmW/4EBk3ZcGwb/f8boDBgEikUMLVDXTsV/0eHshLVmthuMGHwiIDXdgg4itThEXTLTPfRa5iNz+KmjSYHf8PQYEACx966MFj2A1fQJAMjHZ+cfGI6+/g9bQCGeTWrGHvUy+4IF7LAnlO8jMSFfV4IShB8miCx3XGptg58Dm/AbjM+wqIQvFv/v3HLZWsHgVgN/4HAIUAkBMMT4uXXTDUMyoW+8cAQIvWxVFxB/9U5VmhSsD1D7X6z9+8FOcg5Ur5/077iY3IAgOEoIATqJ65A+IaD/wYemCdMUR8NdWL/3vIQ2JF8hOFQTuzPyAIDhKAAHCDdrBCSV793zKfwHyGHdIFgXW4A2IR4fwXMRbf/BgDwoGFDAML0Ayewh8m33cMTa2gy+h1dA9+eCA+CLpXA/ZlHXtLiBQ97Yy2Db1iAiG4ZwDTCUGJCTVSgqvbOlkq7bn2ff5ZsPeJEhDd7FHwYaXD66PwQdWDAhTHpgACBlfLiTMlT9eOiKG8LnCFD/R8a4AgAcDMRHQ687UiZ/EFqxiN0B/60H6fkWRDzhSQn3sQ0vLIMpnA16d0+mM67hWghQBCgwCwiDbI9oF7DiWVWgTVfrNAIr+LTvtgJHkz1It7qLMae+nfcIhANey7NfgUr2lW0Fv+DkZBpioQqffxAgP9zHABY1WLcOpFgvYAIAECGrJWehZjqchZIe8wRzC1qwR3ZEA8qAAu+4IJ5liUqOu0BIZQp7cK4ktqgrH/7BrDKlbpab3c7m33DD0T2momuQdIFD/h4aAIHUU3Kz/xep/HB9yLPY7yMj10GBtwEsO2kF4/8B6BLRkzTVFTu8b5JIF0gAEBBf1ghFPGO79ZLvmEh4RSGywAT0iRnHGBDDfAA4Oj7guj7EVu7NVxtn2npBIhQJ77D0iWaMBii3lk2bpjFte+LCQAsHjryQyel66nGdQniUYzhMUwRg45QhmR/9eHewdu5dSAhA0ftKhrHKnIM4b73F5tkWEqBSQn16BxMVigUSbtBh73ImJw6TT1eDDbCEPlBi2Avm4kSLIHPMd75wD8VHoPc6TxkiXnoFm8NSuBwNz8ghcQvELFQAAAQNQZsAehXBB4AHz6pg6Qh36yCgAHvkmbRNfgc1GTAIEkFq3wDAGgMEzt8AMQlXHkL8GTa6P0IkmwPirS/kDA4BhQZngBsdvhRX4OsRIgz7Z4AGQfkrHUQAMYJFf2vdJmO+zx3b/D/IBAg1kAPtx6FRkkn7XfH2/NttqGq19DHRRAWwfgDEyDbnN3GSCtnad5MbMV9Xu4NiWdL07FHweYO74BLvwSFihCMrnSxr9Mk+YQhSRyP97dCtswpljvgXz9tHx4NIHJ7HyD0W8djskQCEL+ACjJDSvbl//+gAML0rPRG4IBCRNs+Q6tvqIRSNivxDVFsBM4YEa1HCmf9FLQiEJBHjRVQDx+Lr56AgTZEOg2ZcPVDf//3xAgOwBECmiSLYQzveLiBlXeH/iACzgyFziZB5MG2Zv5QBMG1OWsLPxETkzDG8zhAV+/2w2Avyd870Bh6wLm5Bq2DD4kQGoMGDKABDiJ1OERdMvfe9BlAWv//Jk0Tnn/GwJtbByecHYNwFVlKMTDvN/7BgL8BW18Qf3sB//e3uhmtk0buD9xmjsm00YAAHVbSbAEtUoAvt+k7skAlSCBrALbkfOBcEWb/wYxggAI4ACGqfH/pui6IAJVU2yt9QGoceUrVUpPfS9vO/AFtgOqtKJEWbv8SJh7A4IDBaCAEzzU7YLCmG/vQyCCZZUfKiXHP5WwD8HvWCq9sJ0yMA0MgECDUAATK1OZrjeAM9kxK6ObtWoEVPBiYsPP08GjOgkCJQAifEWSiLoP6Kx/9nh711boAZrF7DmaNkHs3deRxH//4qAALLGGXaPnMQEQxDg3CUGJHmqkhVWeO8/QELQ/9VRt/pc28SJ+CCAIACBmHIafpADxGunH5h31+2AAS/8Af/tXtM4XIM4bOLzPE1bsFJC/WAYAWIFcp4QGHvXxyrJdgAtdwHwehXpLPHcfXv3hBVDhgk6jMCwdlZ3OAiej7ZPsX+qGBJNHYnoTu9i3gANpvIpm0n63kQm1+UX/sQQviBsDU3OA/eYFEt3vA8s1sxHCoJe7AP+7R5wAIUF/97Wplsmmz/7A2nMsydD8CIGEcztFBTi+G0Rf1k0SAvcUYiQWCAtJ5p2woUIX8DAGHQbtAH42RoxPm6/G/C8FaQ74cv/cAeeJSS9VS/u/oStRIwB9mIh81qE368bd6LgBZOD6UDKHvOgwAHqNw3jKwYgJ8BXH3swAX4BX3F7PIssgMcX7gENyRkCTsG1GG9DtIYXrlKFff5gfwOYYQBYp4A256QcDRT0mp5CkksOl9UBIf6/+IKyIBxbEDTr+kWZm2+r73wzAA+M1cwOmEW/aoFJ4TlBSQk/XH4rqxFRwrwn/gwO+E5uW3SptuAwQemc7T5ip/PgwYKEYAAAAPlQZsgehXDHQDADRRDciOJvIAJORTbJPQE2Hh6hlyMjt/9+MARSWyyEiR8wWDjAeADXkrNyQDpcw8rIS794YgrE6EjGgADn+tgNKttq6Rgrz8GBQKNJIMWlv98Fpk2A04XDW//QDMDEfOoRZjy/BVsHIawTMP4yRDgYIvafySpnima/gFpniWJebP+XhfwAa6yRjYxT1egbB0LWlQMj+RN+8ABfyVvRYGAhT3pgTI2CV6N0AYet15CGUcA2FOqO99YgQFoACYAAgCgCu1xwCxfQsQGD50An8AAxBNWDXmHoMDOYQpJD8AAwKoFLTg80gmM8FIQkMYtPr5/x2O6LE+vDvtSet/MMPiRAa/wABgEF1a7jMFQ92blxn+jSJ//3U734kP+AABAIIABQqWnjapoqTSKZ/g/DElVEstqlkUtW8DFY0hvuehC0XX//MAAECMAAQKwABANAymaAIgAhPEmnEopbGfcDgACBCAAIFYAAgGgXTOIwFNThe2kQ0jAEfTtrmwYzAEct6ZiI42IB2yRdziU7WlQ7aAP8x2L7HmrJtASvfmJwvAEYEn2HiKrOG/6WGhKHIHJUZRUNbyAhSpIYvRj2v0tmRkAc9IOf+xGfW6E6OgpVkiFxCcImTRtlm+6+IS816he2giXmgW+cXuhBGWVtt7EBETKvBjYCB+gAGBwjrVc2bDmpYbmv7fiao74QGwcAAQIQABArAAEA0C6YiHEpPoHAAECEAAQKwABANAumAQcH2WEqFwrP/wChuEBXqWyQNGE/kQr//v8K8jGddx14SITSEr4KS//eBg4AAgQgACBWAAIBoGUzUAYASubljW5Wws/wAOBqoDh5Gv09vjKfXn3gGHkizX2Y5yLrP//AxsxqV6e8OIFwDRX4DYe/wAJn1SQeDwsAxBu2N/ABLo/0Hib6liRAegCAAIBAAF7qCkzMGnyZgklvgzDwjm2qGJQm4PwYjVkLQSQlS1d9GAACBGAAIFYAAgHgXlgcAAQIwABAtAAEA8DMtoBADM4sw0mFFsWR24pqASDpRVth3/AjmnaZpgYCKS+W6dXDFBwDu94K5rwBDTgoif4Y/oS9e8lptTzERsHAAECMAAQLQABAPAvLA4AAgRgACBaAAIB4F5YPBwABAjAAEC0AAQDwMywAOA7QBwJKxnOYiWr4414AublTDpCFf9u6AATEIwVZO1GZk//AB2nKtMICSC/3gVLIY3N3OBy7djHKRBi0kHRZtRhj2sfB/A1sIDYfHSqADeKSt/POnwMAD9iTleS4TsC1sDlQq3fOuHzvs8QIBD0AARGDA1QoZMlHUEj3/oMOnQRgAAAA0xBm0B6FQjC+EnLQmOh4AEOlttFN2kxgQCm5yx1N1xZshKT47XwBW94SJ+YQhiADELX2m/Oi8CCd7gyDU93ZiiTR4xSccK1ONLJ7h/+S8AICPLEJI3pxPqLCnBoRCUuInsfbz42DRxkAFLVIRqv1P9FwiHMACnyWY8mX7/mCsYAJ8BwM/3Dz6WoBECW4A/ek9rgJWtne1iBA6ABYAAgJjOgHQ0fP8Fxk5Fv/0BoAAgQDAU28eRWA0WGP4B/4BoEAAIAgsSzXfFwqrX1ELu+DsEMUPIiNz9qRsWZu0H+wQw1RARQs37Ehanq94fCIgnwQ7ihKSLz/mTDJEgzoAAIBIBShKT4K4cV9BqoDbvwf8Ihb8ADwABApAAEAREcPdk6HBIgs7f10CBAhglLx8CTQhXhSWz1eAEAgG63BTDmUV1Vk1ejwABBkAAECoAsDKZsAAr84cGHVcPJX/4DfDebFAGiW4jtN5EUBZTNdrJhALwAEjExyFGfyykvcvwJgwQhnc2ITZyTVTD84gPz0gAkdiz58AQ5xxde8hZbDiTPoYEkxqKkwDrESbi6OGxeqbunX4gIhLu/ghnlCUvPkEWTDLxFkPQAAQCwCmCUEAV/4t4MAzGm98a9L4QGwcAAQYgABAqALAymeIGwRrkkDZXLdfxUHAAEGIAAQKgCwMpnGiAa3iCiNqd1H7wBGAIGNb/lhbDKZV8qGHABxCPKEpeIvAJFijdAJSHwAAmIAMG4UMwgZWuKf///AAAQJwAQBkrP+6CrIhG5Zb6DDOxgsYzM2Nxb9Pdg0+X5+AxuSmOLAl3Ev15YRhX4ALAAECkAAQBkcPk+6HCESM569fA0QxUjwJMcCFoFO8tt9DwABBmAAECoAsDMsAIAmAYI9FHLjDC66qf/VtgAQAIb9INBc3FjEK0cNtz42OYEYiXkh7j4DwhDsHAAEGYAAQLACwMywOAAIMwAAgWAFgZlvEEcRpVD/b2Wvh++soo4jU4ys7jvf/ABxDuKEqAJIP7uVRcJ7xD0AAECkAE6AHd86JG8I3QS3vaAAEZmAFBUjalWDZEW/v4dpZUzMBuKe9g/xDWHMuXTID7Hu8ITlbDJt9QWsd9gn3+zH0+DwhdsVR+u7/hGAAADK21vb3YAAABsbXZoZAAAAAAAAAAAAAAAAAAAA+gAABV8AAEAAAEAAAAAAAAAAAAAAAABAAAAAAAAAAAAAAAAAAAAAQAAAAAAAAAAAAAAAAAAQAAAAAAAAAAAAAAAAAAAAAAAAAAAAAAAAAAAAAAAAAIAAAJVdHJhawAAAFx0a2hkAAAAAwAAAAAAAAAAAAAAAQAAAAAAABV8AAAAAAAAAAAAAAAAAAAAAAABAAAAAAAAAAAAAAAAAAAAAQAAAAAAAAAAAAAAAAAAQAAAAABkAAAAZAAAAAAAJGVkdHMAAAAcZWxzdAAAAAAAAAABAAAVfAAAAAAAAQAAAAABzW1kaWEAAAAgbWRoZAAAAAAAAAAAAAAAAAAAQAAAAWAAVcQAAAAAAC1oZGxyAAAAAAAAAAB2aWRlAAAAAAAAAAAAAAAAVmlkZW9IYW5kbGVyAAAAAXhtaW5mAAAAFHZtaGQAAAABAAAAAAAAAAAAAAAkZGluZgAAABxkcmVmAAAAAAAAAAEAAAAMdXJsIAAAAAEAAAE4c3RibAAAAJRzdHNkAAAAAAAAAAEAAACEYXZjMQAAAAAAAAABAAAAAAAAAAAAAAAAAAAAAABkAGQASAAAAEgAAAAAAAAAAQAAAAAAAAAAAAAAAAAAAAAAAAAAAAAAAAAAAAAAAAAAABj//wAAAC5hdmNDAULACv/hABdnQsAK2hz+eeEAAAMAAQAAAwAEDxImoAEABGjOD8gAAAAYc3R0cwAAAAAAAAABAAAACwAAIAAAAAAUc3RzcwAAAAAAAAABAAAAAQAAABxzdHNjAAAAAAAAAAEAAAABAAAACwAAAAEAAABAc3RzegAAAAAAAAAAAAAACwAAAtAAAAjWAAAJPAAAB+EAAAdsAAAF/wAABQAAAATrAAAEEQAAA+kAAANQAAAAFHN0Y28AAAAAAAAAAQAAADAAAABidWR0YQAAAFptZXRhAAAAAAAAACFoZGxyAAAAAAAAAABtZGlyYXBwbAAAAAAAAAAAAAAAAC1pbHN0AAAAJal0b28AAAAdZGF0YQAAAAEAAAAATGF2ZjU4LjI5LjEwMA==' controls>Sorry, seems like your browser doesn't support HTML5 audio/video</video></div>"
      ],
      "text/plain": [
       "<moviepy.video.io.html_tools.HTML2 object>"
      ]
     },
     "execution_count": 37,
     "metadata": {},
     "output_type": "execute_result"
    }
   ],
   "source": [
    "from functools import partial\n",
    "import proglog\n",
    "import skimage.filters\n",
    "from moviepy.editor import ImageSequenceClip\n",
    "\n",
    "# Show Movie\n",
    "proglog.default_bar_logger = partial(proglog.default_bar_logger, None)\n",
    "ImageSequenceClip([np.array(im) for im in images], fps=2).ipython_display()"
   ]
  },
  {
   "cell_type": "code",
   "execution_count": 38,
   "id": "dcc3712e",
   "metadata": {
    "ExecuteTime": {
     "end_time": "2023-11-23T12:43:09.379792Z",
     "start_time": "2023-11-23T12:43:09.378497Z"
    }
   },
   "outputs": [],
   "source": [
    "# save_movie(images,'wave_movie.gif', duration=[2000]+[200]*(len(images)-2)+[2000])"
   ]
  },
  {
   "cell_type": "code",
   "execution_count": null,
   "id": "bfb19df3",
   "metadata": {},
   "outputs": [],
   "source": []
  }
 ],
 "metadata": {
  "kernelspec": {
   "display_name": "Python 3 (ipykernel)",
   "language": "python",
   "name": "python3"
  },
  "language_info": {
   "codemirror_mode": {
    "name": "ipython",
    "version": 3
   },
   "file_extension": ".py",
   "mimetype": "text/x-python",
   "name": "python",
   "nbconvert_exporter": "python",
   "pygments_lexer": "ipython3",
   "version": "3.11.0"
  },
  "varInspector": {
   "cols": {
    "lenName": 16,
    "lenType": 16,
    "lenVar": 40
   },
   "kernels_config": {
    "python": {
     "delete_cmd_postfix": "",
     "delete_cmd_prefix": "del ",
     "library": "var_list.py",
     "varRefreshCmd": "print(var_dic_list())"
    },
    "r": {
     "delete_cmd_postfix": ") ",
     "delete_cmd_prefix": "rm(",
     "library": "var_list.r",
     "varRefreshCmd": "cat(var_dic_list()) "
    }
   },
   "types_to_exclude": [
    "module",
    "function",
    "builtin_function_or_method",
    "instance",
    "_Feature"
   ],
   "window_display": false
  }
 },
 "nbformat": 4,
 "nbformat_minor": 5
}
