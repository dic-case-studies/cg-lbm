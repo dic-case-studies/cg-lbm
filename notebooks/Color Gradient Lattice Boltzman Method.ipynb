{
 "cells": [
  {
   "cell_type": "code",
   "execution_count": 1,
   "id": "4d0771e1",
   "metadata": {
    "ExecuteTime": {
     "end_time": "2023-11-23T13:44:52.965318Z",
     "start_time": "2023-11-23T13:44:52.701667Z"
    }
   },
   "outputs": [],
   "source": [
    "import configparser\n",
    "import jax.numpy as jnp\n",
    "from jax import jit, grad, vmap\n",
    "from jax import random, lax, tree_util\n",
    "import jax\n",
    "from functools import partial\n",
    "from einops import rearrange\n",
    "\n",
    "from jax import Array\n",
    "from jax.typing import ArrayLike\n",
    "import chex"
   ]
  },
  {
   "cell_type": "markdown",
   "id": "ddfaf13a",
   "metadata": {},
   "source": [
    "# Simulation Code"
   ]
  },
  {
   "cell_type": "code",
   "execution_count": 2,
   "id": "630a2e45",
   "metadata": {
    "ExecuteTime": {
     "end_time": "2023-11-23T13:44:52.967731Z",
     "start_time": "2023-11-23T13:44:52.966259Z"
    },
    "code_folding": []
   },
   "outputs": [],
   "source": [
    "def compute_phase_field(f, **kwargs):\n",
    "    return jnp.einsum(\"kij->ij\", f)"
   ]
  },
  {
   "cell_type": "code",
   "execution_count": 3,
   "id": "c0b76c1a",
   "metadata": {
    "ExecuteTime": {
     "end_time": "2023-11-23T13:44:52.989364Z",
     "start_time": "2023-11-23T13:44:52.968374Z"
    },
    "code_folding": []
   },
   "outputs": [],
   "source": [
    "# @jit\n",
    "# @partial(vmap, in_axes=(None, None, None, 0, None, None), out_axes=0)\n",
    "# # @chex.assert_max_traces(n=1)\n",
    "# def _eq_dist(cXYs, weights, phi_weights, k, pressure, u):\n",
    "#     cu = jnp.sum(u * cXYs[k])\n",
    "#     u2 = jnp.sum(jnp.square(u))\n",
    "\n",
    "#     def equi_0(k, phi_weights, weights, pressure, u2, cu):\n",
    "#         return phi_weights[0] - (1 - weights[0]) * 3.0 * pressure - weights[0] * u2 * 1.5\n",
    "\n",
    "#     def equi_k(k, phi_weights, weights, pressure, u2, cu):\n",
    "#         return phi_weights[k] + weights[k] * 3.0 * pressure - weights[k] * (1.5 * u2 + 3.0 * cu + 4.5 * cu * cu)\n",
    "\n",
    "#     return lax.cond(k == 0,\n",
    "#                     equi_0,\n",
    "#                     equi_k,\n",
    "#                     k, phi_weights, weights, pressure, u2, cu)\n",
    "\n",
    "# __eq_dist = vmap(_eq_dist, in_axes=(None, None, None, None, 0, 0), out_axes=1)\n",
    "# eq_dist = jit(vmap(__eq_dist, in_axes=(None, None, None, None, 0, 0), out_axes=1))"
   ]
  },
  {
   "cell_type": "code",
   "execution_count": 4,
   "id": "0960e0c5",
   "metadata": {
    "ExecuteTime": {
     "end_time": "2023-11-23T13:44:52.999158Z",
     "start_time": "2023-11-23T13:44:52.990505Z"
    }
   },
   "outputs": [],
   "source": [
    "@jit\n",
    "def eq_dist(cXYs, weights, phi_weights, pressure, u):\n",
    "    cu = jnp.sum(u * cXYs)\n",
    "    u2 = jnp.sum(jnp.square(u))\n",
    "    \n",
    "    neq_common_term = phi_weights + (weights + 3.0 * pressure) - (weights * u2 * 1.5)\n",
    "    neq_k_zero_term = -3.0 * pressure\n",
    "    neq_k_nonzero_term = weights * (3.0 * cu + 4.5 * cu * cu)\n",
    "    \n",
    "    k = jnp.arange(9)\n",
    "    neq = neq_common_term + jnp.where(k == 0, neq_k_zero_term, neq_k_nonzero_term)\n",
    "    \n",
    "    return neq\n",
    "\n",
    "_eq_dist = vmap(eq_dist, in_axes=(None, None, None, 0, 0), out_axes=1)\n",
    "__eq_dist = jit(vmap(_eq_dist, in_axes=(None, None, None, 0, 0), out_axes=1))\n"
   ]
  },
  {
   "cell_type": "code",
   "execution_count": 5,
   "id": "632ab4a4",
   "metadata": {
    "ExecuteTime": {
     "end_time": "2023-11-23T13:44:53.008312Z",
     "start_time": "2023-11-23T13:44:52.999921Z"
    },
    "code_folding": []
   },
   "outputs": [],
   "source": [
    "@jit\n",
    "@partial(vmap, in_axes=(None, None, 0, 0), out_axes=1)\n",
    "@partial(vmap, in_axes=(None, None, 0, 0), out_axes=1)\n",
    "# @partial(vmap, in_axes=(None, None, 0, None, None), out_axes=0)\n",
    "# @chex.assert_max_traces(n=1)\n",
    "def eq_dist_phase_field(cXYs, weights, phi, u):\n",
    "    cu = jnp.sum(u * cXYs)\n",
    "    u2 = jnp.sum(jnp.square(u))\n",
    "    return weights * phi * (1.0 - 1.5 * u2 + 3.0 * cu + 4.5 * cu * cu)"
   ]
  },
  {
   "cell_type": "markdown",
   "id": "bf132476",
   "metadata": {},
   "source": [
    "## Density and Velocity update\n",
    "\n",
    "### Notes about the functions\n",
    "\n",
    "1. Every function is pure without side effects\n",
    "2. They work for a single grid point\n",
    "3. These functions will be vectorized to map over the entire grid\n"
   ]
  },
  {
   "cell_type": "code",
   "execution_count": 6,
   "id": "e31a868b",
   "metadata": {
    "ExecuteTime": {
     "end_time": "2023-11-23T13:44:53.017083Z",
     "start_time": "2023-11-23T13:44:53.009014Z"
    },
    "code_folding": []
   },
   "outputs": [],
   "source": [
    "def compute_dst_phase_field(cXs, cYs, phase_field, **kwargs):\n",
    "    dst_phase_field = []\n",
    "\n",
    "    for i, cx, cy in zip(jnp.arange(9), cXs, cYs):\n",
    "        dst_phase_field.append(\n",
    "            jnp.roll(phase_field, (-cx, -cy), axis=(0, 1)))\n",
    "\n",
    "    return jnp.stack(dst_phase_field)\n",
    "# rearrange(, \"k i j -> i j k\") #.transpose(1, 2, 0)"
   ]
  },
  {
   "cell_type": "code",
   "execution_count": 7,
   "id": "ab617c60",
   "metadata": {
    "ExecuteTime": {
     "end_time": "2023-11-23T13:44:53.030494Z",
     "start_time": "2023-11-23T13:44:53.017743Z"
    },
    "code_folding": []
   },
   "outputs": [],
   "source": [
    "@jit\n",
    "@partial(vmap, in_axes=(None, None, 1), out_axes=0)\n",
    "@partial(vmap, in_axes=(None, None, 1), out_axes=0)\n",
    "def compute_phi_grad(cXYs, weights, dst_phase_field, **kwargs):\n",
    "    phi_grad = 3 * jnp.einsum(\"k,k,kx->x\", weights, dst_phase_field, cXYs)\n",
    "\n",
    "    return phi_grad"
   ]
  },
  {
   "cell_type": "code",
   "execution_count": 8,
   "id": "3d6ded88",
   "metadata": {
    "ExecuteTime": {
     "end_time": "2023-11-23T13:44:53.039850Z",
     "start_time": "2023-11-23T13:44:53.031162Z"
    },
    "code_folding": []
   },
   "outputs": [],
   "source": [
    "@jit\n",
    "@partial(vmap, in_axes=(None, None, None, 0, 1, 0), out_axes=0)\n",
    "@partial(vmap, in_axes=(None, None, None, 0, 1, 0), out_axes=0)\n",
    "def surface_tension_force(surface_tension, width, weights, phase_field, dst_phase_field, phi_grad):\n",
    "    phase_diff = dst_phase_field - phase_field\n",
    "    laplacian_loc = 6 * jnp.einsum(\"k,k\", phase_diff, weights)\n",
    "\n",
    "    phase_term = (48 * phase_field * (1 - phase_field) * (0.5 - phase_field)) / width \n",
    "    phase_term -= (1.5 * width * laplacian_loc)\n",
    "\n",
    "    curvature_force = surface_tension * phase_term * phi_grad #jnp.einsum(\",vij->vij\", phase_term, phi_grad)\n",
    "\n",
    "    return curvature_force"
   ]
  },
  {
   "cell_type": "code",
   "execution_count": 9,
   "id": "f9ac8103",
   "metadata": {
    "ExecuteTime": {
     "end_time": "2023-11-23T13:44:53.049091Z",
     "start_time": "2023-11-23T13:44:53.040574Z"
    },
    "code_folding": []
   },
   "outputs": [],
   "source": [
    "@jit\n",
    "@partial(vmap, in_axes=(None, None, None, 0, 0, 0, 1), out_axes=0)\n",
    "@partial(vmap, in_axes=(None, None, None, 0, 0, 0, 1), out_axes=0)\n",
    "def compute_mom(\n",
    "    kin_visc_one,\n",
    "    kin_visc_two,\n",
    "    M_D2Q9,\n",
    "    u,\n",
    "    pressure,\n",
    "    phase_field,\n",
    "    N):\n",
    "    alpha = 4.0 / 9.0\n",
    "    u2 = u[0] * u[0] + u[1] * u[1]\n",
    "    mom_eq = jnp.array([1.0,\n",
    "                        -(2 + 18 * alpha) / 5.0 + 3.0 * (u2 + 2 * pressure),\n",
    "                        (-7.0 + 27 * alpha) / 5 - 3.0 * (u2 + 3 * pressure),\n",
    "                        u[0],\n",
    "                        -u[0],\n",
    "                        u[1],\n",
    "                        -u[1],\n",
    "                        u[0] * u[0] - u[1] * u[1],\n",
    "                        u[0] * u[1]])\n",
    "\n",
    "    inv_kin_visc = (phase_field / kin_visc_one) + \\\n",
    "        (1 - phase_field) / kin_visc_two\n",
    "    kin_visc_local = 1 / inv_kin_visc\n",
    "\n",
    "    mom = jnp.einsum('kl,l->k', M_D2Q9, N)\n",
    "\n",
    "    return mom, mom_eq, kin_visc_local"
   ]
  },
  {
   "cell_type": "code",
   "execution_count": 10,
   "id": "498cf0b4",
   "metadata": {
    "ExecuteTime": {
     "end_time": "2023-11-23T13:44:53.062533Z",
     "start_time": "2023-11-23T13:44:53.050429Z"
    },
    "code_folding": []
   },
   "outputs": [],
   "source": [
    "@jit\n",
    "@partial(vmap, in_axes=(None, None, None, None, None, None, 0, 0, 0, 0), out_axes=0)\n",
    "@partial(vmap, in_axes=(None, None, None, None, None, None, 0, 0, 0, 0), out_axes=0)\n",
    "def compute_viscosity_correction(\n",
    "    kin_visc_one,\n",
    "    kin_visc_two,\n",
    "    invM_D2Q9,\n",
    "    cMs,\n",
    "    density_one,\n",
    "    density_two,\n",
    "    phi_grad,\n",
    "    kin_visc_local,\n",
    "    mom,\n",
    "    mom_eq):\n",
    "    \n",
    "    tauL = 0.5 + 3 * kin_visc_local\n",
    "    \n",
    "    S_D2Q9 = jnp.ones(9)\n",
    "    S_D2Q9 = S_D2Q9.at[7].set(1.0 / tauL)\n",
    "    S_D2Q9 = S_D2Q9.at[8].set(1.0 / tauL)\n",
    "    \n",
    "    mom_diff = jnp.einsum(\n",
    "        'kl,l,l->k', invM_D2Q9, S_D2Q9, (mom - mom_eq))\n",
    "    \n",
    "    viscous_force = -3.0 * kin_visc_local * \\\n",
    "        (density_one - density_two) * \\\n",
    "        jnp.einsum('kmn, k, n -> m',  cMs, mom_diff, phi_grad)\n",
    "\n",
    "    return viscous_force"
   ]
  },
  {
   "cell_type": "code",
   "execution_count": 11,
   "id": "63fdc8e9",
   "metadata": {
    "ExecuteTime": {
     "end_time": "2023-11-23T13:44:53.071600Z",
     "start_time": "2023-11-23T13:44:53.063104Z"
    },
    "code_folding": []
   },
   "outputs": [],
   "source": [
    "@jit\n",
    "@partial(vmap, in_axes=(None, None, 0, 0, 0), out_axes=0)\n",
    "@partial(vmap, in_axes=(None, None, 0, 0, 0), out_axes=0)\n",
    "def compute_total_force(\n",
    "    gravityX,\n",
    "    gravityY,\n",
    "    curvature_force,\n",
    "    viscous_force,\n",
    "    rho):\n",
    "    rest_force = jnp.stack([rho* gravityX, rho * gravityY])\n",
    "    return rest_force + curvature_force + viscous_force"
   ]
  },
  {
   "cell_type": "code",
   "execution_count": 12,
   "id": "6c6f9042",
   "metadata": {
    "ExecuteTime": {
     "end_time": "2023-11-23T13:44:53.085203Z",
     "start_time": "2023-11-23T13:44:53.072210Z"
    },
    "code_folding": []
   },
   "outputs": [],
   "source": [
    "# TODO: Recheck this function\n",
    "@jit\n",
    "@partial(vmap, in_axes=(None, None, None, None, 0, 0, 0, 1, 0), out_axes=0)\n",
    "@partial(vmap, in_axes=(None, None, None, None, 0, 0, 0, 1, 0), out_axes=0)\n",
    "def compute_density_velocity_pressure(\n",
    "    density_one,\n",
    "    density_two,\n",
    "    weights,\n",
    "    phi_weights,\n",
    "    pressure,\n",
    "    phase_field,\n",
    "    phi_grad,\n",
    "    N,\n",
    "    total_force):\n",
    "    \n",
    "    # This function is supposed to happen when obstacle != 1\n",
    "    \n",
    "    sumNX = jnp.dot(N, cXs)\n",
    "    sumNY = jnp.dot(N, cYs)\n",
    "    sumNV = jnp.stack([sumNX, sumNY])\n",
    "    \n",
    "    sumN = jnp.sum(N)\n",
    "    \n",
    "    rho = density_one * phase_field + \\\n",
    "        density_two * (1 - phase_field)\n",
    "    \n",
    "    # TODO: There was a for loop here is it really needed?\n",
    "    u = sumNV + total_force - (pressure * (density_one - density_two) * phi_grad) / rho\n",
    "    usq = jnp.sum(jnp.square(u))\n",
    "    \n",
    "    pressure = (sumN / 3.0 - weights[0] * usq * 0.5 - (1 - phi_weights[0]) / 3.0) / (1 - weights[0])\n",
    "    \n",
    "    interface_force = total_force - pressure * (density_one - density_two) * phi_grad\n",
    "    \n",
    "    return rho, u, pressure, interface_force"
   ]
  },
  {
   "cell_type": "markdown",
   "id": "c2e92968",
   "metadata": {},
   "source": [
    "## Collision"
   ]
  },
  {
   "cell_type": "code",
   "execution_count": 13,
   "id": "d74d08c1",
   "metadata": {
    "ExecuteTime": {
     "end_time": "2023-11-23T13:44:53.094627Z",
     "start_time": "2023-11-23T13:44:53.085842Z"
    },
    "code_folding": []
   },
   "outputs": [],
   "source": [
    "@jit\n",
    "@partial(vmap, in_axes=(None, 0, 0, 0, 0, 0, 0, 1), out_axes=1)\n",
    "@partial(vmap, in_axes=(None, 0, 0, 0, 0, 0, 0, 1), out_axes=1)\n",
    "def compute_collision(\n",
    "    invM_D2Q9,\n",
    "    obs,\n",
    "    mom,\n",
    "    mom_eq,\n",
    "    kin_visc_local,\n",
    "    interface_force,\n",
    "    rho,\n",
    "    N \n",
    "):\n",
    "    # TODO: For collision the u, pressure, rho are are supposed to be taken after\n",
    "    # the compute_density_velocity_pressure\n",
    "    tauL = 0.5 + 3 * kin_visc_local\n",
    "\n",
    "    S_D2Q9 = jnp.ones(9)\n",
    "    S_D2Q9 = S_D2Q9.at[7].set(1.0 / tauL)\n",
    "    S_D2Q9 = S_D2Q9.at[8].set(1.0 / tauL)\n",
    "\n",
    "    force = interface_force / rho\n",
    "\n",
    "    force_eq = jnp.zeros(9)\n",
    "    force_eq = force_eq.at[3].set(force[0])\n",
    "    force_eq = force_eq.at[4].set(-force[0])\n",
    "    force_eq = force_eq.at[5].set(force[1])\n",
    "    force_eq = force_eq.at[6].set(-force[1])\n",
    "\n",
    "    mom_diff = mom - S_D2Q9 * (mom - mom_eq) + (force_eq - 0.5 * S_D2Q9 * force_eq)\n",
    "    N_new = jnp.einsum(\"kl,l->k\", invM_D2Q9, mom_diff)\n",
    "    \n",
    "    # We will have to compute this to avoid divergence\n",
    "    return lax.select(obs, N_new[np.array([0, 3, 4, 1, 2, 7, 8, 5, 6])], N_new)"
   ]
  },
  {
   "cell_type": "code",
   "execution_count": 14,
   "id": "8d7818c3",
   "metadata": {
    "ExecuteTime": {
     "end_time": "2023-11-23T13:44:53.108260Z",
     "start_time": "2023-11-23T13:44:53.095350Z"
    }
   },
   "outputs": [],
   "source": [
    "@jit\n",
    "@partial(vmap, in_axes=(None, None, None, None, 0, 0, 0, 0, 0, 1), out_axes=1)\n",
    "@partial(vmap, in_axes=(None, None, None, None, 0, 0, 0, 0, 0, 1), out_axes=1)\n",
    "def compute_segregation(\n",
    "    width,\n",
    "    cXYs,\n",
    "    weights,\n",
    "    phi_weights,\n",
    "    phase_field,\n",
    "    phi_grad,\n",
    "    pressure,\n",
    "    rho,\n",
    "    u,\n",
    "    N_new\n",
    "):\n",
    "    phi_mag = jnp.sqrt(jnp.sum(jnp.square(phi_grad)))\n",
    "    \n",
    "    # (phigrad_dot_c / phi_mag) is nan for non interface region\n",
    "    \n",
    "    # [k]\n",
    "    N_eq = eq_dist(cXYs, weights, phi_weights, pressure, u)\n",
    "    # 9, 2\n",
    "    phigrad_dot_c = jnp.sum(phi_grad * cXYs, axis=1)\n",
    "    seg_term = (2.0 / width) * (1.0 - phase_field) * phase_field * (phigrad_dot_c / phi_mag) * N_eq\n",
    "    \n",
    "    f_new = phase_field * N_new + seg_term\n",
    "    return f_new"
   ]
  },
  {
   "cell_type": "code",
   "execution_count": 15,
   "id": "c783761d",
   "metadata": {
    "ExecuteTime": {
     "end_time": "2023-11-23T13:44:53.117199Z",
     "start_time": "2023-11-23T13:44:53.108920Z"
    },
    "code_folding": []
   },
   "outputs": [],
   "source": [
    "@partial(vmap, in_axes=(None, None, None, 0, 0, 1, 1, 1, 1), out_axes=1)\n",
    "@partial(vmap, in_axes=(None, None, None, 0, 0, 1, 1, 1, 1), out_axes=1)\n",
    "def handle_obstacle(cXs, cYs, weights, obs, obsVel, f_new, f_new_dst, N_new, N_new_dst):\n",
    "    N_invert = N_new[np.array([0, 3, 4, 1, 2, 7, 8, 5, 6])] * 6.0 * weights * (cXs * obsVel[0] + cYs * obsVel[1])\n",
    "    f_invert = f_new[np.array([0, 3, 4, 1, 2, 7, 8, 5, 6])]\n",
    "    \n",
    "    f = lax.select(obs, f_invert, f_new_dst)\n",
    "    N = lax.select(obs, N_invert, N_new_dst)\n",
    "    return N, f"
   ]
  },
  {
   "cell_type": "code",
   "execution_count": 16,
   "id": "d9899a80",
   "metadata": {
    "ExecuteTime": {
     "end_time": "2023-11-23T13:44:53.130562Z",
     "start_time": "2023-11-23T13:44:53.117863Z"
    },
    "code_folding": []
   },
   "outputs": [],
   "source": [
    "@jit\n",
    "def compute_propagation(cXs, cYs, weights, obs, obsVel, N_new, f_new):\n",
    "    N = []\n",
    "    f = []\n",
    "    for i, cx, cy in zip(jnp.arange(9), cXs, cYs):\n",
    "        N.append(jnp.roll(N_new[i], (-cx, -cy), axis=(0, 1)))\n",
    "        f.append(jnp.roll(f_new[i], (-cx, -cy), axis=(0, 1)))\n",
    "\n",
    "    N_dst = jnp.stack(N)\n",
    "    f_dst = jnp.stack(f)\n",
    "    \n",
    "    return handle_obstacle(cXs, cYs, weights, obs, obsVel, f_new, f_dst, N_new, N_dst)"
   ]
  },
  {
   "cell_type": "markdown",
   "id": "e00b1378",
   "metadata": {},
   "source": [
    "# Simulation Loop"
   ]
  },
  {
   "cell_type": "code",
   "execution_count": 17,
   "id": "b2f9be7a",
   "metadata": {
    "ExecuteTime": {
     "end_time": "2023-11-23T13:44:53.140582Z",
     "start_time": "2023-11-23T13:44:53.131137Z"
    },
    "code_folding": []
   },
   "outputs": [],
   "source": [
    "@jit\n",
    "def simulation_step(state, idx):\n",
    "    # [i,j,k]\n",
    "    phase_field = compute_phase_field(**state)\n",
    "    dst_phase_field = compute_dst_phase_field(phase_field=phase_field, **state)\n",
    "    \n",
    "    # VMapped functions\n",
    "    \n",
    "    phi_grad = compute_phi_grad(state[\"cXYs\"], state[\"weights\"], dst_phase_field)\n",
    "    \n",
    "    curvature_force = surface_tension_force(\n",
    "        state[\"surface_tension\"],\n",
    "        state[\"width\"],\n",
    "        state[\"weights\"],\n",
    "        phase_field,\n",
    "        dst_phase_field,\n",
    "        phi_grad)\n",
    "\n",
    "    mom, mom_eq, kin_visc_local = compute_mom(\n",
    "        state[\"kin_visc_one\"],\n",
    "        state[\"kin_visc_two\"],\n",
    "        state[\"M_D2Q9\"],\n",
    "        state[\"u\"],\n",
    "        state[\"pressure\"],\n",
    "        phase_field,\n",
    "        state[\"N\"])\n",
    "    \n",
    "    viscous_force = compute_viscosity_correction(\n",
    "        state[\"kin_visc_one\"],\n",
    "        state[\"kin_visc_two\"],\n",
    "        state[\"invM_D2Q9\"],\n",
    "        state[\"cMs\"],\n",
    "        state[\"density_one\"],\n",
    "        state[\"density_two\"],\n",
    "        phi_grad,\n",
    "        kin_visc_local,\n",
    "        mom,\n",
    "        mom_eq)\n",
    "\n",
    "    total_force = compute_total_force(\n",
    "        state[\"gravityX\"],\n",
    "        state[\"gravityY\"],\n",
    "        curvature_force,\n",
    "        viscous_force,\n",
    "        state[\"rho\"]\n",
    "    )\n",
    "    \n",
    "    rho, u, pressure, interface_force = compute_density_velocity_pressure(\n",
    "        state[\"density_one\"],\n",
    "        state[\"density_two\"],\n",
    "        state[\"weights\"],\n",
    "        state[\"phi_weights\"],\n",
    "        state[\"pressure\"],\n",
    "        phase_field,\n",
    "        phi_grad,\n",
    "        state[\"N\"],\n",
    "        total_force\n",
    "    )\n",
    "    \n",
    "    N_new = compute_collision(\n",
    "        state[\"invM_D2Q9\"],\n",
    "        state[\"obs\"],\n",
    "        mom,\n",
    "        mom_eq,\n",
    "        kin_visc_local,\n",
    "        interface_force,\n",
    "        state[\"rho\"],\n",
    "        state[\"N\"]\n",
    "    )\n",
    "    \n",
    "        \n",
    "    f_new = compute_segregation(\n",
    "        state[\"width\"],\n",
    "        state[\"cXYs\"],\n",
    "        state[\"weights\"],\n",
    "        state[\"phi_weights\"],\n",
    "        phase_field,\n",
    "        phi_grad,\n",
    "        pressure,\n",
    "        rho,\n",
    "        u,\n",
    "        N_new\n",
    "    )\n",
    "    \n",
    "    N, f = compute_propagation(\n",
    "        state[\"cXs\"],\n",
    "        state[\"cYs\"],\n",
    "        state[\"weights\"],\n",
    "        state[\"obs\"],\n",
    "        state[\"obs_vel\"],\n",
    "        N_new,\n",
    "        f_new\n",
    "    )\n",
    "    \n",
    "#     jax.debug.print(f\"Nshape {N.shape}\")\n",
    "\n",
    "    new_state = {\n",
    "        **state,\n",
    "        \"u\": u,\n",
    "        \"pressure\": pressure,\n",
    "        \"rho\": rho,\n",
    "        \"N\": N,\n",
    "        \"f\": f\n",
    "    }\n",
    "    return new_state"
   ]
  },
  {
   "cell_type": "code",
   "execution_count": 18,
   "id": "bdd03736",
   "metadata": {
    "ExecuteTime": {
     "end_time": "2023-11-23T13:44:53.153693Z",
     "start_time": "2023-11-23T13:44:53.141263Z"
    },
    "scrolled": true
   },
   "outputs": [],
   "source": [
    "# st_2 = simulation_step(state, 1)\n",
    "# simulation_step(st_2, 2)"
   ]
  },
  {
   "cell_type": "code",
   "execution_count": 19,
   "id": "3ae87427",
   "metadata": {
    "ExecuteTime": {
     "end_time": "2023-11-23T13:44:53.162660Z",
     "start_time": "2023-11-23T13:44:53.154363Z"
    }
   },
   "outputs": [],
   "source": [
    "@jit\n",
    "def multi_step_simulation_block(state, nr_iter):\n",
    "    return lax.fori_loop(0, nr_iter, lambda i, s: simulation_step(s, i), state)"
   ]
  },
  {
   "cell_type": "code",
   "execution_count": 20,
   "id": "18a6be7e",
   "metadata": {
    "ExecuteTime": {
     "end_time": "2023-11-23T13:44:53.171665Z",
     "start_time": "2023-11-23T13:44:53.163365Z"
    },
    "code_folding": [
     3
    ]
   },
   "outputs": [],
   "source": [
    "import numpy as np\n",
    "# We need numpy here where we transfer data from the GPU\n",
    "\n",
    "# Note: There needs to be a separate function for calling\n",
    "# multi_step_simulation_block so that we can shard and perform pmap later\n",
    "def multi_step_simulation(state, nr_iter, save_interval=200):\n",
    "\n",
    "    results = [{\n",
    "        \"u\": state[\"u\"]\n",
    "#         \"N\": state[\"N\"]\n",
    "    }]\n",
    "\n",
    "    for _ in range(nr_iter // save_interval):\n",
    "        state = multi_step_simulation_block(state, save_interval)\n",
    "        results.append({\n",
    "            \"u\": state[\"u\"]\n",
    "#             \"N\": state[\"N\"]\n",
    "        })\n",
    "    # Receive the buffer from the Accelerator\n",
    "    results = jax.device_get(results)\n",
    "    return tree_util.tree_map(\n",
    "        lambda *rs: np.stack([np.array(r) for r in rs]),\n",
    "        *results)"
   ]
  },
  {
   "cell_type": "markdown",
   "id": "cd466560",
   "metadata": {},
   "source": [
    "# Simulation Parameters\n"
   ]
  },
  {
   "cell_type": "code",
   "execution_count": 21,
   "id": "d41d50d5",
   "metadata": {
    "ExecuteTime": {
     "end_time": "2023-11-23T13:44:53.186152Z",
     "start_time": "2023-11-23T13:44:53.172281Z"
    },
    "code_folding": [
     4
    ]
   },
   "outputs": [],
   "source": [
    "beta = 9\n",
    "alpha = 4.0 / 9.0\n",
    "\n",
    "\n",
    "class SimParams:\n",
    "    def __init__(self, config_file):\n",
    "        self.parse_params(config_file)\n",
    "\n",
    "    def parse_params(self, config_file):\n",
    "        config = configparser.ConfigParser()\n",
    "        config.read(config_file)\n",
    "        pt = config[\"Simulation\"]\n",
    "\n",
    "        # We could destructure into a map\n",
    "        self.LX = int(pt.get(\"LX\", 0))\n",
    "        self.LY = int(pt.get(\"LY\", 0))\n",
    "        self.NL = 9\n",
    "        self.nr_iterations = int(pt.get(\"nr_iterations\", 0))\n",
    "        self.nr_samples = int(pt.get(\"nr_samples\", 0))\n",
    "        self.kin_visc_one = float(pt.get(\"kin_visc_one\", 0.0))\n",
    "        self.kin_visc_two = float(pt.get(\"kin_visc_two\", 0.0))\n",
    "        self.density_one = float(pt.get(\"density_one\", 0.0))\n",
    "        self.density_two = float(pt.get(\"density_two\", 0.0))\n",
    "        self.gravityX = float(pt.get(\"gravityX\", 0.0))\n",
    "        self.gravityY = float(pt.get(\"gravityY\", 0.0))\n",
    "        self.width = float(pt.get(\"width\", 0.0))\n",
    "        self.surface_tension = float(pt.get(\"surface_tension\", 0.0))\n",
    "        self.ref_pressure = float(pt.get(\"ref_pressure\", 0.0))\n",
    "        self.uWallX = float(pt.get(\"uWallX\", 0.0))\n",
    "        self.drop_radius = float(pt.get(\"drop_radius\", 0.0))\n",
    "        self.Width = 4.0\n",
    "\n",
    "    def print_config(self):\n",
    "        print(f\"LX = {self.LX} LY= {self.LY}\")\n",
    "        print(\n",
    "            f\"nr_iterations = {self.nr_iterations}  nr_samples = {self.nr_samples}\")\n",
    "        print(f\"kin_viscosities = {self.kin_visc_one} {self.kin_visc_two}\")\n",
    "        print(f\"density = {self.density_one} {self.density_two}\")\n",
    "        print(f\"gravity = {self.gravityX} {self.gravityY}\")\n",
    "        print(f\"interface width = {self.width}\")\n",
    "        print(f\"surface tension = {self.surface_tension}\")\n",
    "        print(f\"reference pressure = {self.ref_pressure}\")\n",
    "        print(f\"wall velocity = {self.uWallX}\")\n",
    "        print(f\"drop radius = {self.drop_radius}\")\n",
    "        print(f\"Width = {self.width}\")"
   ]
  },
  {
   "cell_type": "code",
   "execution_count": 22,
   "id": "edda36bf",
   "metadata": {
    "ExecuteTime": {
     "end_time": "2023-11-23T13:44:53.305850Z",
     "start_time": "2023-11-23T13:44:53.186800Z"
    }
   },
   "outputs": [
    {
     "name": "stdout",
     "output_type": "stream",
     "text": [
      "[Simulation]\r\n",
      "LX = 100\r\n",
      "LY = 100\r\n",
      "nr_iterations = 2000\r\n",
      "nr_samples = 100\r\n",
      "kin_visc_one = 0.103\r\n",
      "kin_visc_two = 0.103\r\n",
      "density_one = 1\r\n",
      "density_two = 1\r\n",
      "gravityX = 1e-6\r\n",
      "gravityY = 0.0\r\n",
      "width = 4.0\r\n",
      "surface_tension = 0.00412\r\n",
      "ref_pressure = 0.1\r\n",
      "uWallX = 0.1\r\n",
      "drop_radius = 50\r\n",
      "# beta = 9\r\n",
      "# alpha = 4.0/9.0\r\n"
     ]
    }
   ],
   "source": [
    "!cat params.ini"
   ]
  },
  {
   "cell_type": "code",
   "execution_count": 23,
   "id": "47d06fc3",
   "metadata": {
    "ExecuteTime": {
     "end_time": "2023-11-23T13:44:53.308889Z",
     "start_time": "2023-11-23T13:44:53.306794Z"
    }
   },
   "outputs": [
    {
     "name": "stdout",
     "output_type": "stream",
     "text": [
      "LX = 100 LY= 100\n",
      "nr_iterations = 2000  nr_samples = 100\n",
      "kin_viscosities = 0.103 0.103\n",
      "density = 1.0 1.0\n",
      "gravity = 1e-06 0.0\n",
      "interface width = 4.0\n",
      "surface tension = 0.00412\n",
      "reference pressure = 0.1\n",
      "wall velocity = 0.1\n",
      "drop radius = 50.0\n",
      "Width = 4.0\n"
     ]
    }
   ],
   "source": [
    "config = SimParams(\"params.ini\")\n",
    "config.print_config()"
   ]
  },
  {
   "cell_type": "markdown",
   "id": "dfb1ecf6",
   "metadata": {},
   "source": [
    "# Initial conditions\n"
   ]
  },
  {
   "cell_type": "code",
   "execution_count": 24,
   "id": "cd63d907",
   "metadata": {
    "ExecuteTime": {
     "end_time": "2023-11-23T13:44:53.553055Z",
     "start_time": "2023-11-23T13:44:53.309543Z"
    },
    "code_folding": [
     19,
     29,
     36
    ]
   },
   "outputs": [],
   "source": [
    "LX = config.LX\n",
    "LY = config.LY\n",
    "NL = config.NL\n",
    "\n",
    "density_one = config.density_one\n",
    "density_two = config.density_two\n",
    "\n",
    "grid_shape = (LY, LX)\n",
    "alpha = 4.0 / 9.0\n",
    "\n",
    "cXs = jnp.array([0, 1, 0, -1, 0, 1, -1, -1, 1], dtype=jnp.int32)\n",
    "cYs = jnp.array([0, 0, 1, 0, -1, 1, 1, -1, -1], dtype=jnp.int32)\n",
    "cXYs = jnp.array([(0.0, 0.0), (1.0, 0.0), (0.0, 1.0), (-1.0, 0.0), (0.0, -1.0),\n",
    "                 (1.0, 1.0), (-1.0, 1.0), (-1.0, -1.0), (1.0, -1.0)])\n",
    "cMs = jnp.einsum('ki,kj->kij', cXYs, cXYs)\n",
    "\n",
    "weights = jnp.array([4.0 / 9.0,  1.0 / 9.0,  1.0 / 9.0,  1.0 / 9.0,\n",
    "                     1.0 / 9.0, 1.0 / 36.0, 1.0 / 36.0, 1.0 / 36.0, 1.0 / 36.0])\n",
    "\n",
    "phi_weights = jnp.array([alpha,\n",
    "                         (1.0 - alpha) / 5.0,\n",
    "                         (1.0 - alpha) / 5.0,\n",
    "                         (1.0 - alpha) / 5.0,\n",
    "                         (1.0 - alpha) / 5.0,\n",
    "                         (1.0 - alpha) / 20.0,\n",
    "                         (1.0 - alpha) / 20.0,\n",
    "                         (1.0 - alpha) / 20.0,\n",
    "                         (1.0 - alpha) / 20.0])\n",
    "\n",
    "M_D2Q9 = jnp.array([\n",
    "    [1, 1, 1, 1, 1, 1, 1, 1, 1],    [-4, -1, -1, -1, -\n",
    "                                     1, 2, 2, 2, 2], [4, -2, -2, -2, -2, 1, 1, 1, 1],\n",
    "    [0, 1, 0, -1, 0, 1, -1, -1, 1], [0, -2, 0, 2, 0,\n",
    "                                     1, -1, -1, 1],   [0, 0, 1, 0, -1, 1, 1, -1, -1],\n",
    "    [0, 0, -2, 0, 2, 1, 1, -1, -1], [0, 1, -1, 1, -1, 0, 0, 0, 0],    [0, 0, 0, 0, 0, 1, -1, 1, -1]])\n",
    "\n",
    "invM_D2Q9 = jnp.array([\n",
    "    [1 / 9.0, -(1 / 9.0), (1 / 9.0), 0, 0, 0, 0, 0, 0],\n",
    "    [1 / 9.0, -(1 / 36.0), -(1 / 18.0), (1 / 6.0), -\n",
    "     (1 / 6.0), 0, 0, 1 / 4.0, 0],\n",
    "    [1 / 9.0, -(1 / 36.0), -(1 / 18.0), 0, 0, 1 /\n",
    "     6.0, -(1 / 6.0), -(1 / 4.0), 0],\n",
    "    [1 / 9.0, -(1 / 36.0), -(1 / 18.0), -(1 / 6.0), 1 / 6.0, 0, 0, 1 / 4.0, 0],\n",
    "    [1 / 9.0, -(1 / 36.0), -(1 / 18.0), 0, 0, -\n",
    "     (1 / 6.0), 1 / 6.0, -(1 / 4.0), 0],\n",
    "    [1 / 9.0, 1 / 18.0, 1 / 36.0, 1 / 6.0, 1 / 12.0, 1 / 6.0, 1 / 12.0, 0, 1 / 4.0],\n",
    "    [1 / 9.0, 1 / 18.0, 1 / 36.0, -\n",
    "        (1 / 6.0), -(1 / 12.0), 1 / 6.0, 1 / 12.0, 0, -(1 / 4.0)],\n",
    "    [1 / 9.0, 1 / 18.0, 1 / 36.0, -\n",
    "        (1 / 6.0), -(1 / 12.0), -(1 / 6.0), -(1 / 12.0), 0, 1 / 4.0],\n",
    "    [1 / 9.0, 1 / 18.0, 1 / 36.0, 1 / 6.0, 1 / 12.0, -(1 / 6.0), -(1 / 12.0), 0, -(1 / 4.0)]])"
   ]
  },
  {
   "cell_type": "markdown",
   "id": "4aa42e45",
   "metadata": {},
   "source": [
    "## Phase Field"
   ]
  },
  {
   "cell_type": "code",
   "execution_count": 25,
   "id": "4a6ad0fd",
   "metadata": {
    "ExecuteTime": {
     "end_time": "2023-11-23T13:44:53.710927Z",
     "start_time": "2023-11-23T13:44:53.553984Z"
    }
   },
   "outputs": [],
   "source": [
    "phase_field = jnp.zeros(grid_shape)\n",
    "\n",
    "center = (LX/2, LY/2)\n",
    "radius = LY/4\n",
    "X, Y = jnp.meshgrid(jnp.arange(LX), jnp.arange(LY))\n"
   ]
  },
  {
   "cell_type": "markdown",
   "id": "d764dbde-3cf8-4606-b42f-4963e107e1c8",
   "metadata": {},
   "source": [
    "### Initialising drop"
   ]
  },
  {
   "cell_type": "markdown",
   "id": "880ac513",
   "metadata": {
    "ExecuteTime": {
     "end_time": "2023-11-16T05:24:46.993395Z",
     "start_time": "2023-11-16T05:24:46.530853Z"
    }
   },
   "source": [
    "drop = (X - center[0]) ** 2 + (Y - center[1]) ** 2 < radius ** 2\n",
    "\n",
    "phase_field = phase_field.at[drop].set(1.0)"
   ]
  },
  {
   "cell_type": "markdown",
   "id": "81908325-763c-45a6-8a72-aeb2bc44cf47",
   "metadata": {},
   "source": [
    "### Initialising drop with tanh"
   ]
  },
  {
   "cell_type": "code",
   "execution_count": 26,
   "id": "e94fa366",
   "metadata": {
    "ExecuteTime": {
     "end_time": "2023-11-23T13:44:54.053775Z",
     "start_time": "2023-11-23T13:44:53.711743Z"
    }
   },
   "outputs": [],
   "source": [
    "#### change to code when running\n",
    "distanceFromCenter = jnp.sqrt((X - center[0]) ** 2 + (Y - center[1]) ** 2)\n",
    "\n",
    "phase_field = 1.0 + jnp.tanh((distanceFromCenter - radius) * 2.0 / config.width)"
   ]
  },
  {
   "cell_type": "markdown",
   "id": "ec37302b-1e21-47f2-bc49-b947d985af73",
   "metadata": {},
   "source": [
    "### Initialising square drop"
   ]
  },
  {
   "cell_type": "markdown",
   "id": "5ce46265-2895-4901-ad1c-8c92348fa973",
   "metadata": {},
   "source": [
    "#### change to code when running\n",
    "side = min(LX, LY) / 2\n",
    "\n",
    "square = jnp.logical_and(abs(X - center[0]) < side/2, abs(Y - center[1]) < side / 2)\n",
    "phase_field = phase_field.at[square].set(1.0)"
   ]
  },
  {
   "cell_type": "markdown",
   "id": "93b3fbb8",
   "metadata": {},
   "source": [
    "## Density, Velocity, Pressure"
   ]
  },
  {
   "cell_type": "code",
   "execution_count": 27,
   "id": "edf356d5",
   "metadata": {
    "ExecuteTime": {
     "end_time": "2023-11-23T13:44:54.341210Z",
     "start_time": "2023-11-23T13:44:54.054667Z"
    }
   },
   "outputs": [],
   "source": [
    "rho = density_one * phase_field + density_two * (1.0 - phase_field)\n",
    "pressure = jnp.full(grid_shape, config.ref_pressure)\n",
    "\n",
    "u_x = -config.uWallX + (Y - 2.5) * 2 * config.uWallX / (LY - 6)\n",
    "u_y = jnp.zeros(grid_shape)\n",
    "u = rearrange(jnp.stack([u_x, u_y]), \"x i j -> i j x\") #.transpose(1, 2, 0)"
   ]
  },
  {
   "cell_type": "markdown",
   "id": "529c1657",
   "metadata": {},
   "source": [
    "## Obstacle"
   ]
  },
  {
   "cell_type": "code",
   "execution_count": 28,
   "id": "2cfb1e34",
   "metadata": {
    "ExecuteTime": {
     "end_time": "2023-11-23T13:44:54.863074Z",
     "start_time": "2023-11-23T13:44:54.343955Z"
    }
   },
   "outputs": [
    {
     "name": "stderr",
     "output_type": "stream",
     "text": [
      "/home/nimalan/miniconda3/envs/ml/lib/python3.11/site-packages/jax/_src/ops/scatter.py:94: FutureWarning: scatter inputs have incompatible types: cannot safely cast value from dtype=float32 to dtype=bool with jax_numpy_dtype_promotion='standard'. In future JAX releases this will result in an error.\n",
      "  warnings.warn(\"scatter inputs have incompatible types: cannot safely cast \"\n"
     ]
    }
   ],
   "source": [
    "obs = jnp.zeros(grid_shape, dtype=bool)\n",
    "obs_velX = jnp.zeros(grid_shape)\n",
    "obs_velY = jnp.zeros(grid_shape)\n",
    "\n",
    "cylinder = (X - center[0]) ** 2 + (Y - center[1]) ** 2 < radius ** 2\n",
    "obs = obs.at[cylinder].set(1.0)\n",
    "obs_velX = obs_velX.at[cylinder].set(config.uWallX)\n",
    "obs_velY = obs_velY.at[cylinder].set(config.uWallX)\n",
    "\n",
    "obs_vel = rearrange(jnp.stack([obs_velX, obs_velY]), \"x i j -> i j x\")\n",
    "\n",
    "# TODO: Find another way to set the obstacle\n",
    "# for i in range(config.LX):\n",
    "#     obs = obs.at[i, [0, 1, 2, -3, -2, -1]].set(True)\n",
    "#     obs_velX = obs_velX.at[i, [-3, -2, -1]].set(config.uWallX)\n",
    "#     obs_velX = obs_velX.at[i, [0, 1, 2]].set(-config.uWallX)"
   ]
  },
  {
   "cell_type": "code",
   "execution_count": 29,
   "id": "2b488e56",
   "metadata": {
    "ExecuteTime": {
     "end_time": "2023-11-23T13:44:55.087806Z",
     "start_time": "2023-11-23T13:44:54.863870Z"
    }
   },
   "outputs": [],
   "source": [
    "f = eq_dist_phase_field(cXYs, weights, phase_field, jnp.zeros((LX, LY, 2)))\n",
    "N = __eq_dist(cXYs, weights, phi_weights, pressure, jnp.zeros((LX, LY, 2)))\n",
    "\n",
    "# cxs, cys, weights, k, phi, ux, uy)"
   ]
  },
  {
   "cell_type": "code",
   "execution_count": 30,
   "id": "0071dd35",
   "metadata": {
    "ExecuteTime": {
     "end_time": "2023-11-23T13:44:55.091892Z",
     "start_time": "2023-11-23T13:44:55.089281Z"
    },
    "code_folding": [
     1
    ]
   },
   "outputs": [],
   "source": [
    "# We could nest the pytree in JAX\n",
    "state = {\n",
    "    \"LX\": LX,\n",
    "    \"LY\": LY,\n",
    "    \"NL\": NL,\n",
    "\n",
    "    # Scalar Constants\n",
    "    \"kin_visc_one\": config.kin_visc_one,\n",
    "    \"kin_visc_two\": config.kin_visc_two,\n",
    "    \"density_one\": config.density_one,\n",
    "    \"density_two\": config.density_two,\n",
    "    \"gravityX\": config.gravityX,\n",
    "    \"gravityY\": config.gravityY,\n",
    "    \"width\": config.width,\n",
    "    \"surface_tension\": config.surface_tension,\n",
    "    \"ref_pressure\": config.ref_pressure,\n",
    "    \"uWallX\": config.uWallX,\n",
    "    \"drop_radius\": config.drop_radius,\n",
    "    \"alpha\": alpha,\n",
    "\n",
    "    # N-D Constants\n",
    "    # [k]\n",
    "    \"cXs\": cXs,\n",
    "    \"cYs\": cYs,\n",
    "    # TODO: check if cXYs is needed\n",
    "    \"cXYs\": cXYs,\n",
    "    \"cMs\": cMs,\n",
    "    \"weights\": weights,\n",
    "    \"phi_weights\": phi_weights,\n",
    "    \"M_D2Q9\": M_D2Q9,\n",
    "    \"invM_D2Q9\": invM_D2Q9,\n",
    "\n",
    "    # Tensors\n",
    "    # [ij]\n",
    "#     \"phase_field\": phase_field,\n",
    "    \"rho\": rho,\n",
    "    \"pressure\": pressure,\n",
    "    \"u\": u,\n",
    "    \"obs\": obs,\n",
    "    \"obs_vel\": obs_vel,\n",
    "\n",
    "    # [ijk]\n",
    "    \"f\": f,\n",
    "    \"N\": N\n",
    "}"
   ]
  },
  {
   "cell_type": "markdown",
   "id": "ccd6e3c5",
   "metadata": {},
   "source": [
    "# Simulation"
   ]
  },
  {
   "cell_type": "code",
   "execution_count": 31,
   "id": "b2b3e6bd",
   "metadata": {
    "ExecuteTime": {
     "end_time": "2023-11-23T13:44:57.721292Z",
     "start_time": "2023-11-23T13:44:55.092652Z"
    }
   },
   "outputs": [],
   "source": [
    "nr_iter = 10\n",
    "nr_snapshot = 10\n",
    "nr_snapshot_iter = nr_iter // nr_snapshot\n",
    "final_step = multi_step_simulation(state, nr_iter, nr_snapshot_iter)"
   ]
  },
  {
   "cell_type": "code",
   "execution_count": 32,
   "id": "0503a8fd",
   "metadata": {
    "ExecuteTime": {
     "end_time": "2023-11-23T13:44:59.777051Z",
     "start_time": "2023-11-23T13:44:57.722153Z"
    }
   },
   "outputs": [
    {
     "name": "stdout",
     "output_type": "stream",
     "text": [
      "256 ms ± 1.69 ms per loop (mean ± std. dev. of 7 runs, 1 loop each)\n"
     ]
    }
   ],
   "source": [
    "%timeit multi_step_simulation(state, 1000, 100)"
   ]
  },
  {
   "cell_type": "markdown",
   "id": "a4b0a528",
   "metadata": {
    "ExecuteTime": {
     "end_time": "2023-11-02T10:40:20.517751Z",
     "start_time": "2023-11-02T10:40:20.516221Z"
    }
   },
   "source": [
    "# Visualization"
   ]
  },
  {
   "cell_type": "code",
   "execution_count": 33,
   "id": "98c8c8cf",
   "metadata": {
    "ExecuteTime": {
     "end_time": "2023-11-23T13:44:59.972227Z",
     "start_time": "2023-11-23T13:44:59.777806Z"
    }
   },
   "outputs": [
    {
     "name": "stderr",
     "output_type": "stream",
     "text": [
      "/tmp/ipykernel_31642/982133874.py:9: RuntimeWarning: invalid value encountered in subtract\n",
      "  vorticity = (\n"
     ]
    }
   ],
   "source": [
    "import matplotlib.pyplot as plt\n",
    "import matplotlib.colors as clr\n",
    "import skimage.filters\n",
    "\n",
    "ux_final, uy_final = rearrange(final_step[\"u\"], \"t i y x -> x t i y\")#.transpose(3, 0, 1, 2)\n",
    "\n",
    "# ux_final[:,obstacle] = 0\n",
    "# uy_final[:,obstacle] = 0\n",
    "vorticity = (\n",
    "    np.roll(ux_final, -1, axis=1) - np.roll(ux_final, 1, axis=1)\n",
    ") - (\n",
    "    np.roll(uy_final, -1, axis=2) - np.roll(uy_final, 1, axis=2))"
   ]
  },
  {
   "cell_type": "markdown",
   "id": "6992736d",
   "metadata": {},
   "source": [
    "## Quiver Plot"
   ]
  },
  {
   "cell_type": "code",
   "execution_count": 34,
   "id": "3836e621",
   "metadata": {
    "ExecuteTime": {
     "end_time": "2023-11-23T13:45:00.077620Z",
     "start_time": "2023-11-23T13:44:59.973747Z"
    }
   },
   "outputs": [
    {
     "data": {
      "text/plain": [
       "<matplotlib.quiver.Quiver at 0x7fa710753c50>"
      ]
     },
     "execution_count": 34,
     "metadata": {},
     "output_type": "execute_result"
    },
    {
     "data": {
      "image/png": "[encoded data removed]",
      "text/plain": [
       "<Figure size 640x480 with 1 Axes>"
      ]
     },
     "metadata": {},
     "output_type": "display_data"
    }
   ],
   "source": [
    "szx = LX\n",
    "szy = LY\n",
    "timestep = 1\n",
    "\n",
    "# Plotting all the arrows will be messy so we are sampling one in every 16 points\n",
    "skip = 4\n",
    "x = np.linspace(0,szx-1,szx//skip)\n",
    "y = np.linspace(0,szy-1,szy//skip)\n",
    "\n",
    "u = ux_final[timestep][:szx:skip,:szx:skip]\n",
    "v = uy_final[timestep][:szy:skip,:szy:skip]\n",
    "\n",
    "plt.quiver(x, y, u, v)"
   ]
  },
  {
   "cell_type": "markdown",
   "id": "6462b7fc",
   "metadata": {},
   "source": [
    "## Vorticity"
   ]
  },
  {
   "cell_type": "code",
   "execution_count": 35,
   "id": "e78cd81a",
   "metadata": {
    "ExecuteTime": {
     "end_time": "2023-11-23T13:45:00.193647Z",
     "start_time": "2023-11-23T13:45:00.078645Z"
    }
   },
   "outputs": [
    {
     "name": "stdout",
     "output_type": "stream",
     "text": [
      "0.018895548\n"
     ]
    },
    {
     "data": {
      "text/plain": [
       "<matplotlib.colorbar.Colorbar at 0x7fa710623050>"
      ]
     },
     "execution_count": 35,
     "metadata": {},
     "output_type": "execute_result"
    },
    {
     "data": {
      "image/png": "[encoded data removed]",
      "text/plain": [
       "<Figure size 1800x600 with 2 Axes>"
      ]
     },
     "metadata": {},
     "output_type": "display_data"
    }
   ],
   "source": [
    "plt.figure(figsize=(18, 6))\n",
    "\n",
    "frame = vorticity[1]\n",
    "\n",
    "this_vmax = np.max(abs(frame))\n",
    "\n",
    "print(this_vmax)\n",
    "\n",
    "norm = clr.Normalize(vmin=-this_vmax, vmax=this_vmax)\n",
    "\n",
    "# plt.axis('off')\n",
    "plt.imshow(frame[10:-10, 10:-10], cmap='RdBu', norm=norm);\n",
    "plt.colorbar()\n",
    "# plt.clim(-.001, .001)"
   ]
  },
  {
   "cell_type": "code",
   "execution_count": 36,
   "id": "29ab3475",
   "metadata": {
    "ExecuteTime": {
     "end_time": "2023-11-23T13:45:00.304383Z",
     "start_time": "2023-11-23T13:45:00.194505Z"
    }
   },
   "outputs": [
    {
     "data": {
      "image/png": "[encoded data removed]",
      "text/plain": [
       "<Figure size 1400x1400 with 10 Axes>"
      ]
     },
     "metadata": {},
     "output_type": "display_data"
    }
   ],
   "source": [
    "n = 10\n",
    "samples = 100\n",
    "fig, axes = plt.subplots(n, 1, figsize=(14, 14))\n",
    "[ax.axis('off') for ax in axes]\n",
    "\n",
    "# axes[0].cmap\n",
    "# fig.colorbar()\n",
    "axes[0].imshow(vorticity[0], cmap='RdBu', vmin=-0.01, vmax=0.01)\n",
    "for i in range(min(n-1, len(vorticity)-1)):\n",
    "    axes[i+1].imshow(vorticity[i + 1], cmap='RdBu', vmin=-0.01, vmax=0.01)"
   ]
  },
  {
   "cell_type": "code",
   "execution_count": 37,
   "id": "f61d52c1",
   "metadata": {
    "ExecuteTime": {
     "end_time": "2023-11-23T13:45:00.313480Z",
     "start_time": "2023-11-23T13:45:00.305267Z"
    }
   },
   "outputs": [
    {
     "name": "stderr",
     "output_type": "stream",
     "text": [
      "/home/nimalan/miniconda3/envs/ml/lib/python3.11/site-packages/matplotlib/colors.py:1354: RuntimeWarning: overflow encountered in divide\n",
      "  resdat /= (vmax - vmin)\n",
      "/home/nimalan/miniconda3/envs/ml/lib/python3.11/site-packages/matplotlib/colors.py:719: RuntimeWarning: overflow encountered in multiply\n",
      "  xa *= self.N\n"
     ]
    }
   ],
   "source": [
    "import matplotlib.cm\n",
    "import matplotlib.colors\n",
    "from PIL import Image\n",
    "\n",
    "def make_images(data, cmap='RdBu', vmax=None):\n",
    "    images = []\n",
    "    for frame in data:\n",
    "        if vmax is None:\n",
    "            this_vmax = np.max(abs(frame))\n",
    "        else:\n",
    "            this_vmax = vmax\n",
    "        norm = matplotlib.colors.Normalize(vmin=-this_vmax, vmax=this_vmax)\n",
    "        mappable = matplotlib.cm.ScalarMappable(norm=norm, cmap=cmap)\n",
    "        rgba = mappable.to_rgba(frame, bytes=True)\n",
    "        image = Image.fromarray(rgba, mode='RGBA')\n",
    "        images.append(image)\n",
    "    return images\n",
    "\n",
    "def save_movie(images, path, duration=100, loop=0, **kwargs):\n",
    "    images[0].save(path, save_all=True, append_images=images[1:],\n",
    "                 duration=duration, loop=loop, **kwargs)\n",
    "\n",
    "images = make_images(vorticity, vmax=0.0001)\n"
   ]
  },
  {
   "cell_type": "code",
   "execution_count": 38,
   "id": "81b8d78e",
   "metadata": {
    "ExecuteTime": {
     "end_time": "2023-11-23T13:45:00.446536Z",
     "start_time": "2023-11-23T13:45:00.314301Z"
    }
   },
   "outputs": [
    {
     "data": {
      "text/html": [
       "<div align=middle><video src='data:video/mp4;base64,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' controls>Sorry, seems like your browser doesn't support HTML5 audio/video</video></div>"
      ],
      "text/plain": [
       "<moviepy.video.io.html_tools.HTML2 object>"
      ]
     },
     "execution_count": 38,
     "metadata": {},
     "output_type": "execute_result"
    }
   ],
   "source": [
    "from functools import partial\n",
    "import proglog\n",
    "import skimage.filters\n",
    "from moviepy.editor import ImageSequenceClip\n",
    "\n",
    "# Show Movie\n",
    "proglog.default_bar_logger = partial(proglog.default_bar_logger, None)\n",
    "ImageSequenceClip([np.array(im) for im in images], fps=2).ipython_display()"
   ]
  },
  {
   "cell_type": "code",
   "execution_count": 39,
   "id": "dcc3712e",
   "metadata": {
    "ExecuteTime": {
     "end_time": "2023-11-23T13:45:00.448591Z",
     "start_time": "2023-11-23T13:45:00.447262Z"
    }
   },
   "outputs": [],
   "source": [
    "# save_movie(images,'wave_movie.gif', duration=[2000]+[200]*(len(images)-2)+[2000])"
   ]
  },
  {
   "cell_type": "code",
   "execution_count": null,
   "id": "bfb19df3",
   "metadata": {},
   "outputs": [],
   "source": []
  }
 ],
 "metadata": {
  "kernelspec": {
   "display_name": "Python 3 (ipykernel)",
   "language": "python",
   "name": "python3"
  },
  "language_info": {
   "codemirror_mode": {
    "name": "ipython",
    "version": 3
   },
   "file_extension": ".py",
   "mimetype": "text/x-python",
   "name": "python",
   "nbconvert_exporter": "python",
   "pygments_lexer": "ipython3",
   "version": "3.11.0"
  },
  "varInspector": {
   "cols": {
    "lenName": 16,
    "lenType": 16,
    "lenVar": 40
   },
   "kernels_config": {
    "python": {
     "delete_cmd_postfix": "",
     "delete_cmd_prefix": "del ",
     "library": "var_list.py",
     "varRefreshCmd": "print(var_dic_list())"
    },
    "r": {
     "delete_cmd_postfix": ") ",
     "delete_cmd_prefix": "rm(",
     "library": "var_list.r",
     "varRefreshCmd": "cat(var_dic_list()) "
    }
   },
   "types_to_exclude": [
    "module",
    "function",
    "builtin_function_or_method",
    "instance",
    "_Feature"
   ],
   "window_display": false
  }
 },
 "nbformat": 4,
 "nbformat_minor": 5
}
